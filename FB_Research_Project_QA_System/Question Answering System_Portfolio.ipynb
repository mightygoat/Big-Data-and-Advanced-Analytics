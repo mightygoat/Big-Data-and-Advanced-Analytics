{
 "cells": [
  {
   "cell_type": "markdown",
   "metadata": {},
   "source": [
    "# Question Answering System"
   ]
  },
  {
   "cell_type": "markdown",
   "metadata": {},
   "source": [
    "Overview: "
   ]
  },
  {
   "cell_type": "markdown",
   "metadata": {},
   "source": [
    "Question answering (QA) is a popular researched problem in natural language processing. QA has been used to develop dialog systems and chatbots designed to simulate human conversation. Here we researched two different models for QA system.\n",
    "\n",
    "First, We researched a learning model called memory networks. Memory networks reason with inference components combined with a long-term memory component; they learn how to use these jointly. The long-term memory can be read and written to, with the goal of using it for prediction. We investigate these models in the context of question answering (QA) where the long-term memory effectively acts as a (dynamic) knowledge base, and the output is a textual response. \n",
    "\n",
    "Second, based on memory networks, we implemented a neural network with a recurrent attention model over a possibly large external memory. The architecture is a form of Memory Network but unlike the model in that work, it is trained end-to-end, and hence requires significantly less supervision during training, making it more generally applicable in realistic settings. \n",
    "We evaluate them on a large-scale QA task, and a smaller, but more complex, toy task generated from a simulated world. \n",
    "In the latter, we show the reasoning power of such models by chaining multiple supporting sentences to answer questions that require understanding the intentions of verbs.\n"
   ]
  },
  {
   "cell_type": "markdown",
   "metadata": {},
   "source": [
    "# Approach:"
   ]
  },
  {
   "cell_type": "markdown",
   "metadata": {},
   "source": [
    "We utilize a novel recurrent neural network (RNN) architecture where the recurrence reads from a possibly large \n",
    "external memory multiple times before outputting a symbol. The model can be considered a continuous form of the \n",
    "Memory Networks. The continuity we present means that it can be trained end-to-end from input-output pairs, \n",
    "hence requires significantly less supervision during training, making it more generally applicable in realistic \n",
    "settings and to more tasks.  \n",
    " \n",
    "The model takes the set of inputs and stores it in the memory. The question as another input from the user and the \n",
    "answer of the question as output. The model writes all the inputs in the memory up to a fixed buffer size and then \n",
    "it finds a continuous representation for the inputs and the question. The continuous representation is then processed \n",
    "with many repetitions to get the answer as output. This allows back-propagation of the error signal through multiple \n",
    "memory accesses back to the input during training.  \n",
    " \n",
    "We start by describing our model in the single layer case, which implements a single memory hop operation. We then \n",
    "show it can be stacked to give multiple hops in memory to handle K hop operations.  "
   ]
  },
  {
   "cell_type": "markdown",
   "metadata": {},
   "source": [
    "# Dataset:"
   ]
  },
  {
   "cell_type": "markdown",
   "metadata": {},
   "source": [
    "The quest for knowledge is deeply human, and so it is not surprising that practically as soon as there were computers, and certainly as soon as there was natural language processing, we were trying to use computers to answer textual questions. In this project, we have taken the Babi dataset to implement the Question Answering System and know how to it works in detail.  \n",
    " \n",
    "The Facebook bAbI dataset is a synthetic dataset of 20 question-answering tasks. Each task targets a specific skill that a general reasoning agent would be expected to have, such as answering yes/no questions or performing deduction over multiple sentences.  \n",
    " \n",
    "Training Set Size: Each of the 20 tasks consists of 1,000 training examples and 1,000 test examples. The tasks are generated from a simulation of characters and objects interacting in a small, closed world, which produces ground text describing the scene and question/answer pairs. Supervision is provided in the form of answers for each of the questions and the location of relevant sentences in the input required to answer the question. For development, we randomly partition the 1,000 training examples for each task into 900 example training sets and 100 example development sets. To answer the questions correctly, the models must be able to perform induction, deduction, fact chaining, and more. \n",
    " \n",
    "The dataset presents tasks for testing text understanding and reasoning. \n",
    "The aim is that each task tests a unique aspect of text and reasoning, and hence test different capabilities of learning models.  \n",
    "All of the tasks are noiseless and a human able to read that language can potentially achieve 100% accuracy. The data itself is produced using a simple simulation of characters and objects moving around and interacting in locations.  "
   ]
  },
  {
   "cell_type": "markdown",
   "metadata": {},
   "source": [
    "# Technical Approach:"
   ]
  },
  {
   "cell_type": "markdown",
   "metadata": {},
   "source": [
    "Memory Networks \n",
    " \n",
    "Memory Networks combine inputs with attention on memories to provide reasoned outputs. Limits the first iteration’s scope to be as simple as possible. It consists of a recurrent controller module that accepts an initial query. To start, its memory is loaded with a set of facts. The query and facts are bag-of-words vectors. The controller predicts an attention vector (with a supervision signal) to choose a fact. It reads the chosen memory to update its hidden state. After several repetitions, or hops, it formulates an output. The output ranks possible responses from a dictionary of words. Error signals back-propagate through the network via the output and the supervised attention episodes. "
   ]
  },
  {
   "cell_type": "markdown",
   "metadata": {},
   "source": [
    "End to End Memory Network\n",
    "\n",
    "End-to-end Memory Network (MemN2N) learns without attention supervision. It uses softattention (a probability vector) to read the memory. Thus, it is fully-differentiable and can learn from output supervision alone. The newer model still fails on some toy benchmark tasks. Yet, it succeeds on several real-world benchmarks, such as children’s books and news question sets. \n",
    "\n",
    "• Soft attention version of MemN2N \n",
    "• Flexible read-only memory\n",
    "• Multiple memory lookups (hops)\n",
    "• Can consider multiple memory before deciding output\n",
    "• More reasoning power\n",
    "• End-to-end training. \n",
    "• Only needs final output for training \n",
    "• Simple back-propagation"
   ]
  },
  {
   "cell_type": "markdown",
   "metadata": {},
   "source": [
    "4 steps of MemN2N implementation:  \n",
    "  \n",
    "• I (input): converts to word embeddings X(dialog). \n",
    "• G (generalization): stores x in next available slot Mn() \n",
    "• (output): Loops over all memories k=1 or 2 times: \n",
    "1st loop max: finds best match Mi with X(question). \n",
    "2nd loop max: finds best match Mj with (x, Mi) \n",
    "• The output o is represented with (x, Mi, Mj). \n",
    "• R (response): ranks all words in the dictionary given O and returns best single word. "
   ]
  },
  {
   "cell_type": "markdown",
   "metadata": {},
   "source": [
    "# Code with Documentation"
   ]
  },
  {
   "cell_type": "markdown",
   "metadata": {},
   "source": [
    "Document Clustering - To identify the latent structures within the Text using k-means"
   ]
  },
  {
   "cell_type": "markdown",
   "metadata": {},
   "source": [
    "This is showing how the scikit-learn can be used to cluster documents by topics using a bag-of-words approach. This uses a scipy.sparse matrix to store the features instead of standard numpy arrays.\n",
    "\n",
    "Two feature extraction methods can be used in this example:\n",
    "\n",
    "TfidfVectorizer uses a in-memory vocabulary (a python dict) to map the most frequent words to features indices and hence compute a word occurrence frequency (sparse) matrix. The word frequencies are then reweighted using the Inverse Document Frequency (IDF) vector collected feature-wise over the corpus.\n",
    "\n",
    "HashingVectorizer hashes word occurrences to a fixed dimensional space, possibly with collisions. The word count vectors are then normalized to each have l2-norm equal to one (projected to the euclidean unit-ball) which seems to be important for k-means to work in high dimensional space.\n",
    "\n",
    "HashingVectorizer does not provide IDF weighting as this is a stateless model (the fit method does nothing). When IDF weighting is needed it can be added by pipelining its output to a TfidfTransformer instance.\n",
    "\n",
    "Two algorithms are demoed: ordinary k-means and its more scalable cousin minibatch k-means.\n",
    "\n",
    "Additionally, latent semantic analysis can also be used to reduce dimensionality and discover latent patterns in the data.\n",
    "\n",
    "It can be noted that k-means (and minibatch k-means) are very sensitive to feature scaling and that in this case the IDF weighting helps improve the quality of the clustering by quite a lot as measured against the \"ground truth\" provided by the class label assignments of the 20 newsgroups dataset.\n",
    "\n",
    "This improvement is not visible in the Silhouette Coefficient which is small for both as this measure seem to suffer from the phenomenon called \"Concentration of Measure\" or \"Curse of Dimensionality\" for high dimensional datasets such as text data. Other measures such as V-measure and Adjusted Rand Index are information theoretic based evaluation scores: as they are only based on cluster assignments rather than distances, hence not affected by the curse of dimensionality.\n",
    "\n",
    "Note: as k-means is optimizing a non-convex objective function, it will likely end up in a local optimum. Several runs with independent random init might be necessary to get a good convergence."
   ]
  },
  {
   "cell_type": "code",
   "execution_count": 1,
   "metadata": {},
   "outputs": [],
   "source": [
    "with open(\"MemN2N-tensorflow-master/data/ptb.test.txt\") as f:\n",
    "    lines = f.readlines()"
   ]
  },
  {
   "cell_type": "code",
   "execution_count": 2,
   "metadata": {},
   "outputs": [],
   "source": [
    "# load text\n",
    "filename = 'MemN2N-tensorflow-master/data/ptb.test.txt'\n",
    "file = open(filename, 'rt')\n",
    "text = file.read()\n",
    "file.close()"
   ]
  },
  {
   "cell_type": "code",
   "execution_count": 3,
   "metadata": {},
   "outputs": [],
   "source": [
    "sfiltered = []\n",
    "\n",
    "for char in text:\n",
    "    filter(str.isalpha, char)"
   ]
  },
  {
   "cell_type": "code",
   "execution_count": 4,
   "metadata": {},
   "outputs": [],
   "source": [
    "r = {\"is n't\": \"isn't\",\"do n't\": \"don't\",\"are n't\": \"aren't\",\"wo n't\": \"won't\",\"would n't\": \"wouldn't\",\"has n't\": \"hasn't\",\"have n't\": \"haven't\",\"had n't\": \"had not\",\"does n't\": \"doesn't\",\"was n't\": \"wasn't\" , \"did n't\": \"didn't\" , \"ca n't\": \"cannot\", \"could n't\": \"couldn't\", \"were n't\": \"weren't\",\"<unk>\": \"\"}\n",
    "for x,y in r.items():\n",
    "    text = text.replace(x,y)"
   ]
  },
  {
   "cell_type": "code",
   "execution_count": 5,
   "metadata": {},
   "outputs": [],
   "source": [
    "words = []\n",
    "for line in lines:\n",
    "    words.extend(line.split())"
   ]
  },
  {
   "cell_type": "code",
   "execution_count": 6,
   "metadata": {},
   "outputs": [
    {
     "name": "stderr",
     "output_type": "stream",
     "text": [
      "C:\\ProgramData\\Miniconda3\\lib\\site-packages\\gensim\\utils.py:1197: UserWarning: detected Windows; aliasing chunkize to chunkize_serial\n",
      "  warnings.warn(\"detected Windows; aliasing chunkize to chunkize_serial\")\n"
     ]
    }
   ],
   "source": [
    "from gensim.summarization import summarize, keywords"
   ]
  },
  {
   "cell_type": "code",
   "execution_count": 7,
   "metadata": {},
   "outputs": [
    {
     "name": "stdout",
     "output_type": "stream",
     "text": [
      "[nltk_data] Downloading package stopwords to C:\\Users\\Bhanuja\n",
      "[nltk_data]     Chouhan\\AppData\\Roaming\\nltk_data...\n",
      "[nltk_data]   Package stopwords is already up-to-date!\n"
     ]
    },
    {
     "data": {
      "text/plain": [
       "True"
      ]
     },
     "execution_count": 7,
     "metadata": {},
     "output_type": "execute_result"
    }
   ],
   "source": [
    "import nltk\n",
    "nltk.download('stopwords')"
   ]
  },
  {
   "cell_type": "code",
   "execution_count": 8,
   "metadata": {},
   "outputs": [
    {
     "name": "stdout",
     "output_type": "stream",
     "text": [
      "[nltk_data] Downloading package punkt to C:\\Users\\Bhanuja\n",
      "[nltk_data]     Chouhan\\AppData\\Roaming\\nltk_data...\n",
      "[nltk_data]   Package punkt is already up-to-date!\n"
     ]
    },
    {
     "data": {
      "text/plain": [
       "True"
      ]
     },
     "execution_count": 8,
     "metadata": {},
     "output_type": "execute_result"
    }
   ],
   "source": [
    "nltk.download('punkt')"
   ]
  },
  {
   "cell_type": "code",
   "execution_count": 9,
   "metadata": {},
   "outputs": [],
   "source": [
    "import nltk"
   ]
  },
  {
   "cell_type": "code",
   "execution_count": 10,
   "metadata": {},
   "outputs": [],
   "source": [
    "%matplotlib inline"
   ]
  },
  {
   "cell_type": "code",
   "execution_count": 11,
   "metadata": {},
   "outputs": [],
   "source": [
    "import numpy as np\n",
    "import pandas as pd\n",
    "import matplotlib.pyplot as plt"
   ]
  },
  {
   "cell_type": "code",
   "execution_count": 12,
   "metadata": {},
   "outputs": [],
   "source": [
    "import os\n",
    "import pandas as pd"
   ]
  },
  {
   "cell_type": "code",
   "execution_count": 13,
   "metadata": {},
   "outputs": [],
   "source": [
    "import numpy as np\n",
    "import pandas as pd\n",
    "import nltk\n",
    "import re\n",
    "import os\n",
    "import codecs\n",
    "from sklearn import feature_extraction\n",
    "import mpld3"
   ]
  },
  {
   "cell_type": "code",
   "execution_count": 14,
   "metadata": {},
   "outputs": [
    {
     "name": "stdout",
     "output_type": "stream",
     "text": [
      "['1', 'Mary', 'is', 'in', 'the', 'school.', '2', 'Bill', 'is', 'in']\n"
     ]
    }
   ],
   "source": [
    "print(words[:10])"
   ]
  },
  {
   "cell_type": "code",
   "execution_count": 15,
   "metadata": {},
   "outputs": [
    {
     "name": "stdout",
     "output_type": "stream",
     "text": [
      "1 Mary is in the school.\n",
      "\n"
     ]
    }
   ],
   "source": [
    "print (lines[0][:200]) #first 200 characters in first synopses (for 'The Godfather')"
   ]
  },
  {
   "cell_type": "code",
   "execution_count": 16,
   "metadata": {},
   "outputs": [
    {
     "name": "stdout",
     "output_type": "stream",
     "text": [
      "[nltk_data] Downloading package stopwords to C:\\Users\\Bhanuja\n",
      "[nltk_data]     Chouhan\\AppData\\Roaming\\nltk_data...\n",
      "[nltk_data]   Package stopwords is already up-to-date!\n"
     ]
    },
    {
     "data": {
      "text/plain": [
       "True"
      ]
     },
     "execution_count": 16,
     "metadata": {},
     "output_type": "execute_result"
    }
   ],
   "source": [
    "nltk.download('stopwords')"
   ]
  },
  {
   "cell_type": "code",
   "execution_count": 17,
   "metadata": {},
   "outputs": [],
   "source": [
    "from nltk.corpus import stopwords\n",
    "from nltk.tokenize import word_tokenize"
   ]
  },
  {
   "cell_type": "code",
   "execution_count": 18,
   "metadata": {},
   "outputs": [],
   "source": [
    "# load nltk's English stopwords as variable called 'stopwords'\n",
    "stopwords = nltk.corpus.stopwords.words('english')"
   ]
  },
  {
   "cell_type": "code",
   "execution_count": 19,
   "metadata": {},
   "outputs": [],
   "source": [
    "# load nltk's SnowballStemmer as variabled 'stemmer'\n",
    "from nltk.stem.snowball import SnowballStemmer\n",
    "stemmer = SnowballStemmer(\"english\")"
   ]
  },
  {
   "cell_type": "code",
   "execution_count": 20,
   "metadata": {},
   "outputs": [],
   "source": [
    "stopwords = nltk.corpus.stopwords.words('english')\n",
    "newStopWords = ['would','says','N','$','could','also','last','either','.','?','1','2','3','4','5','6','7','8','9','10','11','12','13','14','15']\n",
    "stopwords.extend(newStopWords)"
   ]
  },
  {
   "cell_type": "code",
   "execution_count": 21,
   "metadata": {},
   "outputs": [
    {
     "name": "stdout",
     "output_type": "stream",
     "text": [
      "['i', 'me', 'my', 'myself', 'we', 'our', 'ours', 'ourselves', 'you', \"you're\", \"you've\", \"you'll\", \"you'd\", 'your', 'yours', 'yourself', 'yourselves', 'he', 'him', 'his', 'himself', 'she', \"she's\", 'her', 'hers', 'herself', 'it', \"it's\", 'its', 'itself', 'they', 'them', 'their', 'theirs', 'themselves', 'what', 'which', 'who', 'whom', 'this', 'that', \"that'll\", 'these', 'those', 'am', 'is', 'are', 'was', 'were', 'be', 'been', 'being', 'have', 'has', 'had', 'having', 'do', 'does', 'did', 'doing', 'a', 'an', 'the', 'and', 'but', 'if', 'or', 'because', 'as', 'until', 'while', 'of', 'at', 'by', 'for', 'with', 'about', 'against', 'between', 'into', 'through', 'during', 'before', 'after', 'above', 'below', 'to', 'from', 'up', 'down', 'in', 'out', 'on', 'off', 'over', 'under', 'again', 'further', 'then', 'once', 'here', 'there', 'when', 'where', 'why', 'how', 'all', 'any', 'both', 'each', 'few', 'more', 'most', 'other', 'some', 'such', 'no', 'nor', 'not', 'only', 'own', 'same', 'so', 'than', 'too', 'very', 's', 't', 'can', 'will', 'just', 'don', \"don't\", 'should', \"should've\", 'now', 'd', 'll', 'm', 'o', 're', 've', 'y', 'ain', 'aren', \"aren't\", 'couldn', \"couldn't\", 'didn', \"didn't\", 'doesn', \"doesn't\", 'hadn', \"hadn't\", 'hasn', \"hasn't\", 'haven', \"haven't\", 'isn', \"isn't\", 'ma', 'mightn', \"mightn't\", 'mustn', \"mustn't\", 'needn', \"needn't\", 'shan', \"shan't\", 'shouldn', \"shouldn't\", 'wasn', \"wasn't\", 'weren', \"weren't\", 'won', \"won't\", 'wouldn', \"wouldn't\", 'would', 'says', 'N', '$', 'could', 'also', 'last', 'either', '.', '?', '1', '2', '3', '4', '5', '6', '7', '8', '9', '10', '11', '12', '13', '14', '15']\n"
     ]
    }
   ],
   "source": [
    "print(stopwords)"
   ]
  },
  {
   "cell_type": "code",
   "execution_count": 22,
   "metadata": {},
   "outputs": [],
   "source": [
    "word_tokens = word_tokenize(text)"
   ]
  },
  {
   "cell_type": "code",
   "execution_count": 23,
   "metadata": {},
   "outputs": [],
   "source": [
    "filtered_sentence = [w for w in word_tokens if not w in stopwords]\n",
    " \n",
    "filtered_sentence = []\n",
    " \n",
    "for w in word_tokens:\n",
    "    if w not in stopwords:\n",
    "        filtered_sentence.append(w)"
   ]
  },
  {
   "cell_type": "code",
   "execution_count": 24,
   "metadata": {},
   "outputs": [],
   "source": [
    "sfiltered = []\n",
    "\n",
    "for char in word_tokens:\n",
    "    filter(str.isalpha, char)"
   ]
  },
  {
   "cell_type": "code",
   "execution_count": 25,
   "metadata": {},
   "outputs": [],
   "source": [
    "import matplotlib.pyplot as plt"
   ]
  },
  {
   "cell_type": "code",
   "execution_count": 26,
   "metadata": {},
   "outputs": [
    {
     "name": "stdout",
     "output_type": "stream",
     "text": [
      "['Mary', 'school', 'Bill', 'kitchen', 'Is', 'Bill', 'bedroom', 'Bill', 'journeyed', 'bedroom', 'Fred', 'travelled', 'cinema', 'Is', 'Bill', 'bedroom', 'yes', 'Fred', 'went', 'back', 'park', 'Bill', 'school', 'office', 'Is', 'Bill', 'park', 'Mary', 'went', 'cinema', 'Julie', 'school', 'office', 'Is', 'Fred', 'park', 'yes', 'Julie', 'park', 'school', 'Bill', 'went', 'back', 'office', 'Is', 'Bill', 'office', 'yes', 'Fred', 'journeyed', 'office', 'Fred', 'went', 'back', 'cinema', 'Is', 'Fred', 'office', 'Julie', 'school', 'office', 'Julie', 'moved', 'cinema', 'Is', 'Julie', 'cinema', 'yes', 'Julie', 'kitchen', 'bedroom', 'Julie', 'journeyed', 'school', 'Is', 'Julie', 'school', 'yes', 'Bill', 'bedroom', 'school', 'Bill', 'went', 'bedroom', 'Is', 'Bill', 'office', 'Julie', 'journeyed', 'park', 'Mary', 'travelled', 'school', 'Is', 'Julie', 'park', 'yes', 'Bill', 'kitchen', 'Julie', 'school', 'cinema', 'Is', 'Bill', 'bedroom', 'Fred', 'bedroom', 'Bill', 'school', 'Is', 'Julie', 'bedroom', 'Julie', 'bedroom', 'office', 'Fred', 'park', 'Is', 'Julie', 'bedroom', 'maybe', 'Fred', 'school', 'bedroom', 'Mary', 'went', 'kitchen', 'Is', 'Bill', 'school', 'yes', 'Julie', 'kitchen', 'bedroom', 'Julie', 'school', 'Is', 'Julie', 'school', 'yes', 'Julie', 'journeyed', 'bedroom', 'Julie', 'travelled', 'park', 'Is', 'Julie', 'kitchen', 'Fred', 'office', 'kitchen', 'Julie', 'travelled', 'bedroom', 'Is', 'Julie', 'bedroom', 'yes', 'Julie', 'moved', 'office', 'Mary', 'office', 'kitchen', 'Is', 'Julie', 'kitchen', 'Bill', 'kitchen', 'Bill', 'bedroom', 'park', 'Is', 'Mary', 'kitchen', 'maybe', 'Fred', 'bedroom', 'bedroom', 'Julie', 'went', 'bedroom', 'Is', 'Mary', 'kitchen', 'maybe', 'Bill', 'went', 'kitchen', 'Fred', 'office', 'park', 'Is', 'Fred', 'park', 'maybe', 'Fred', 'went', 'bedroom', 'Mary', 'school', 'bedroom', 'Is', 'Fred', 'school', 'Bill', 'office', 'kitchen', 'Julie', 'kitchen', 'park', 'Is', 'Fred', 'bedroom', 'yes', 'Mary', 'park', 'Mary', 'went', 'back', 'office', 'Is', 'Mary', 'kitchen', 'Bill', 'went', 'back', 'kitchen', 'Bill', 'journeyed', 'bedroom', 'Is', 'Mary', 'office', 'yes', 'Julie', 'journeyed', 'cinema', 'Fred', 'bedroom', 'Is', 'Julie', 'school', 'Julie', 'moved', 'kitchen', 'Mary', 'travelled', 'park', 'Is', 'Julie', 'kitchen', 'yes', 'Mary', 'bedroom', 'Fred', 'kitchen', 'kitchen', 'Is', 'Mary', 'office', 'Julie', 'cinema', 'park', 'Bill', 'office', 'office', 'Is', 'Mary', 'office', 'Bill', 'park', 'park', 'Julie', 'bedroom', 'school', 'Is', 'Fred', 'cinema', 'Fred', 'kitchen', 'Bill', 'moved', 'bedroom', 'Is', 'Fred', 'kitchen', 'yes', 'Fred', 'school', 'Bill', 'went', 'cinema', 'Is', 'Bill', 'school', 'Julie', 'travelled', 'park', 'Julie', 'office', 'Is', 'Bill', 'cinema', 'yes', 'Julie', 'journeyed', 'kitchen', 'Is', 'Julie', 'school', 'Bill', 'park', 'bedroom', 'Bill', 'school', 'Is', 'Mary', 'school', 'maybe', 'Julie', 'moved', 'cinema', 'Mary', 'journeyed', 'school', 'Is', 'Mary', 'park', 'Mary', 'kitchen', 'office', 'Bill', 'went', 'school', 'Is', 'Fred', 'school', 'Fred', 'went', 'school', 'Fred', 'travelled', 'kitchen', 'Is', 'Fred', 'kitchen', 'yes', 'Fred', 'went', 'back', 'school', 'Fred', 'moved', 'bedroom', 'Is', 'Fred', 'school', 'Mary', 'office', 'Mary', 'kitchen', 'kitchen', 'Is', 'Mary', 'school', 'Julie', 'went', 'office', 'Julie', 'moved', 'cinema', 'Is', 'Mary', 'kitchen', 'maybe', 'Bill', 'went', 'back', 'office', 'Fred', 'kitchen', 'Is', 'Mary', 'kitchen', 'maybe', 'Julie', 'went', 'back', 'cinema', 'Bill', 'travelled', 'kitchen', 'Is', 'Julie', 'cinema', 'yes', 'Fred', 'moved', 'bedroom', 'Julie', 'went', 'back', 'kitchen', 'Is', 'Julie', 'park', 'Mary', 'kitchen', 'Bill', 'went', 'back', 'park', 'Is', 'Mary', 'kitchen', 'yes', 'Mary', 'bedroom', 'Fred', 'park', 'office', 'Is', 'Fred', 'office', 'maybe', 'Fred', 'park', 'Mary', 'cinema', 'cinema', 'Is', 'Fred', 'park', 'yes', 'Fred', 'office', 'Mary', 'park', 'Is', 'Mary', 'bedroom', 'Fred', 'went', 'back', 'bedroom', 'Mary', 'office', 'school', 'Is', 'Mary', 'office', 'maybe', 'Fred', 'went', 'back', 'school', 'Fred', 'bedroom', 'bedroom', 'Is', 'Mary', 'office', 'maybe']\n"
     ]
    }
   ],
   "source": [
    "print(filtered_sentence)"
   ]
  },
  {
   "cell_type": "code",
   "execution_count": 27,
   "metadata": {},
   "outputs": [],
   "source": [
    "from collections import Counter\n",
    "cwords = Counter(filtered_sentence)"
   ]
  },
  {
   "cell_type": "code",
   "execution_count": 28,
   "metadata": {},
   "outputs": [
    {
     "data": {
      "image/png": "[encoded data removed]",
      "text/plain": [
       "<matplotlib.figure.Figure at 0x1f3b925e898>"
      ]
     },
     "metadata": {},
     "output_type": "display_data"
    }
   ],
   "source": [
    "from wordcloud import WordCloud, STOPWORDS\n",
    "wordcloud = WordCloud()\n",
    "wordcloud.fit_words(cwords)\n",
    "\n",
    "fig=plt.figure(figsize=(10, 10))   # Prepare a plot 5x3 inches\n",
    "plt.imshow(wordcloud)\n",
    "plt.axis(\"off\")\n",
    "plt.show()"
   ]
  },
  {
   "cell_type": "code",
   "execution_count": 29,
   "metadata": {},
   "outputs": [],
   "source": [
    "top_all = cwords.most_common()[:7]\n",
    "top_all_words = [x[0] for x in top_all] "
   ]
  },
  {
   "cell_type": "code",
   "execution_count": 30,
   "metadata": {},
   "outputs": [
    {
     "name": "stdout",
     "output_type": "stream",
     "text": [
      "['Bill', 'Bill', 'Bill', 'journeyed', 'travelled', 'cinema', 'Bill', 'yes', 'went', 'back', 'park', 'Bill', 'office', 'Bill', 'park', 'went', 'cinema', 'office', 'park', 'yes', 'park', 'Bill', 'went', 'back', 'office', 'Bill', 'office', 'yes', 'journeyed', 'office', 'went', 'back', 'cinema', 'office', 'office', 'moved', 'cinema', 'cinema', 'yes', 'journeyed', 'yes', 'Bill', 'Bill', 'went', 'Bill', 'office', 'journeyed', 'park', 'travelled', 'park', 'yes', 'Bill', 'cinema', 'Bill', 'Bill', 'office', 'park', 'maybe', 'went', 'Bill', 'yes', 'yes', 'journeyed', 'travelled', 'park', 'office', 'travelled', 'yes', 'moved', 'office', 'office', 'Bill', 'Bill', 'park', 'maybe', 'went', 'maybe', 'Bill', 'went', 'office', 'park', 'park', 'maybe', 'went', 'Bill', 'office', 'park', 'yes', 'park', 'went', 'back', 'office', 'Bill', 'went', 'back', 'Bill', 'journeyed', 'office', 'yes', 'journeyed', 'cinema', 'moved', 'travelled', 'park', 'yes', 'office', 'cinema', 'park', 'Bill', 'office', 'office', 'office', 'Bill', 'park', 'park', 'cinema', 'Bill', 'moved', 'yes', 'Bill', 'went', 'cinema', 'Bill', 'travelled', 'park', 'office', 'Bill', 'cinema', 'yes', 'journeyed', 'Bill', 'park', 'Bill', 'maybe', 'moved', 'cinema', 'journeyed', 'park', 'office', 'Bill', 'went', 'went', 'travelled', 'yes', 'went', 'back', 'moved', 'office', 'went', 'office', 'moved', 'cinema', 'maybe', 'Bill', 'went', 'back', 'office', 'maybe', 'went', 'back', 'cinema', 'Bill', 'travelled', 'cinema', 'yes', 'moved', 'went', 'back', 'park', 'Bill', 'went', 'back', 'park', 'yes', 'park', 'office', 'office', 'maybe', 'park', 'cinema', 'cinema', 'park', 'yes', 'office', 'park', 'went', 'back', 'office', 'office', 'maybe', 'went', 'back', 'office', 'maybe']\n"
     ]
    }
   ],
   "source": [
    "new_best_words = [w for w in filtered_sentence if w not in top_all_words]\n",
    "new_best_ctr = Counter(new_best_words)\n",
    "print(new_best_words)"
   ]
  },
  {
   "cell_type": "code",
   "execution_count": 31,
   "metadata": {},
   "outputs": [
    {
     "data": {
      "image/png": "[encoded data removed]",
      "text/plain": [
       "<matplotlib.figure.Figure at 0x1f3bdc1d2b0>"
      ]
     },
     "metadata": {},
     "output_type": "display_data"
    }
   ],
   "source": [
    "wordcloud = WordCloud()\n",
    "wordcloud.fit_words(new_best_ctr)\n",
    "\n",
    "fig=plt.figure(figsize=(15, 15))   # Prepare a plot 5x3 inches\n",
    "plt.imshow(wordcloud)\n",
    "plt.axis(\"off\")\n",
    "plt.show()"
   ]
  },
  {
   "cell_type": "code",
   "execution_count": 32,
   "metadata": {},
   "outputs": [],
   "source": [
    "# here I define a tokenizer and stemmer which returns the set of stems in the text that it is passed\n",
    "\n",
    "def tokenize_and_stem(text):\n",
    "    # first tokenize by sentence, then by word to ensure that punctuation is caught as it's own token\n",
    "    tokens = [word for sent in nltk.sent_tokenize(text) for word in nltk.word_tokenize(sent)]\n",
    "    filtered_tokens = []\n",
    "    # filter out any tokens not containing letters (e.g., numeric tokens, raw punctuation)\n",
    "    for token in tokens:\n",
    "        if re.search('[a-zA-Z]', token):\n",
    "            filtered_tokens.append(token)\n",
    "    stems = [stemmer.stem(t) for t in filtered_tokens]\n",
    "    return stems\n",
    "\n",
    "\n",
    "def tokenize_only(text):\n",
    "    # first tokenize by sentence, then by word to ensure that punctuation is caught as it's own token\n",
    "    tokens = [word.lower() for sent in nltk.sent_tokenize(text) for word in nltk.word_tokenize(sent)]\n",
    "    filtered_tokens = []\n",
    "    # filter out any tokens not containing letters (e.g., numeric tokens, raw punctuation)\n",
    "    for token in tokens:\n",
    "        if re.search('[a-zA-Z]', token):\n",
    "            filtered_tokens.append(token)\n",
    "    return filtered_tokens"
   ]
  },
  {
   "cell_type": "code",
   "execution_count": 33,
   "metadata": {},
   "outputs": [],
   "source": [
    "#not super pythonic, no, not at all.\n",
    "#use extend so it's a big flat list of vocab\n",
    "totalvocab_stemmed = []\n",
    "totalvocab_tokenized = []\n",
    "for i in lines:\n",
    "    allwords_stemmed = tokenize_and_stem(i) #for each item in 'synopses', tokenize/stem\n",
    "    totalvocab_stemmed.extend(allwords_stemmed) #extend the 'totalvocab_stemmed' list\n",
    "    \n",
    "    allwords_tokenized = tokenize_only(i)\n",
    "    totalvocab_tokenized.extend(allwords_tokenized)"
   ]
  },
  {
   "cell_type": "code",
   "execution_count": 34,
   "metadata": {},
   "outputs": [
    {
     "name": "stdout",
     "output_type": "stream",
     "text": [
      "there are 927 items in vocab_frame\n"
     ]
    }
   ],
   "source": [
    "vocab_frame = pd.DataFrame({'words': totalvocab_tokenized}, index = totalvocab_stemmed)\n",
    "print ('there are ' + str(vocab_frame.shape[0]) + ' items in vocab_frame')"
   ]
  },
  {
   "cell_type": "code",
   "execution_count": 35,
   "metadata": {},
   "outputs": [
    {
     "name": "stdout",
     "output_type": "stream",
     "text": [
      "         words\n",
      "mari      mary\n",
      "is          is\n",
      "in          in\n",
      "the        the\n",
      "school  school\n"
     ]
    },
    {
     "data": {
      "text/plain": [
       "<function print>"
      ]
     },
     "execution_count": 35,
     "metadata": {},
     "output_type": "execute_result"
    }
   ],
   "source": [
    "print (vocab_frame.head())\n",
    "print\n",
    "print\n",
    "print\n",
    "print"
   ]
  },
  {
   "cell_type": "markdown",
   "metadata": {},
   "source": [
    "Tf-idf and document similarity\n",
    "\n",
    "Here, I define term frequency-inverse document frequency (tf-idf) vectorizer parameters and then convert the synopses list into a tf-idf matrix.\n",
    "\n",
    "To get a Tf-idf matrix, first count word occurrences by document. This is transformed into a document-term matrix (dtm). This is also just called a term frequency matrix. An example of a dtm is here at right.\n",
    "\n",
    "Then apply the term frequency-inverse document frequency weighting: words that occur frequently within a document but not frequently within the corpus receive a higher weighting as these words are assumed to contain more meaning in relation to the document.\n",
    "\n",
    "A couple things to note about the parameters I define below:\n",
    "\n",
    "max_df: this is the maximum frequency within the documents a given feature can have to be used in the tfi-idf matrix. If the term is in greater than 80% of the documents it probably cares little meanining (in the context of film synopses) min_idf: this could be an integer (e.g. 5) and the term would have to be in at least 5 of the documents to be considered. Here I pass 0.2; the term must be in at least 20% of the document. I found that if I allowed a lower min_df I ended up basing clustering on names--for example \"Michael\" or \"Tom\" are names found in several of the movies and the synopses use these names frequently, but the names carry no real meaning. ngram_range: this just means I'll look at unigrams, bigrams and trigrams. See n-grams"
   ]
  },
  {
   "cell_type": "code",
   "execution_count": 36,
   "metadata": {},
   "outputs": [
    {
     "name": "stdout",
     "output_type": "stream",
     "text": [
      "Wall time: 267 ms\n",
      "(152, 11)\n"
     ]
    }
   ],
   "source": [
    "from sklearn.feature_extraction.text import TfidfVectorizer\n",
    "\n",
    "#define vectorizer parameters\n",
    "tfidf_vectorizer = TfidfVectorizer(max_df=0.9, max_features=200000,\n",
    "                                 min_df=0.1, stop_words='english',\n",
    "                                 use_idf=True, tokenizer=tokenize_and_stem, ngram_range=(1,3))\n",
    "\n",
    "%time tfidf_matrix = tfidf_vectorizer.fit_transform(lines) #fit the vectorizer to synopses\n",
    "\n",
    "print(tfidf_matrix.shape)"
   ]
  },
  {
   "cell_type": "markdown",
   "metadata": {},
   "source": [
    "Terms is just a list of the features used in the tf-idf matrix. This is a vocabulary.\n",
    "\n",
    "dist is defined as 1 - the cosine similarity of each document. Cosine similarity is measured against the tf-idf matrix and can be used to generate a measure of similarity between each document and the other documents in the corpus (each synopsis among the synopses). Subtracting it from 1 provides cosine distance which I will use for plotting on a euclidean (2-dimensional) plane.\n",
    "\n",
    "Note that with dist it is possible to evaluate the similarity of any two or more synopses."
   ]
  },
  {
   "cell_type": "code",
   "execution_count": 37,
   "metadata": {},
   "outputs": [],
   "source": [
    "terms = tfidf_vectorizer.get_feature_names()"
   ]
  },
  {
   "cell_type": "code",
   "execution_count": 38,
   "metadata": {},
   "outputs": [
    {
     "data": {
      "text/plain": [
       "<function print>"
      ]
     },
     "execution_count": 38,
     "metadata": {},
     "output_type": "execute_result"
    }
   ],
   "source": [
    "from sklearn.metrics.pairwise import cosine_similarity\n",
    "dist = 1 - cosine_similarity(tfidf_matrix)\n",
    "print\n",
    "print"
   ]
  },
  {
   "cell_type": "markdown",
   "metadata": {},
   "source": [
    "K-means clustering Now onto the fun part. Using the tf-idf matrix, you can run a slew of clustering algorithms to better understand the hidden structure within the synopses. I first chose k-means. K-means initializes with a pre-determined number of clusters (I chose 5). Each observation is assigned to a cluster (cluster assignment) so as to minimize the within cluster sum of squares. Next, the mean of the clustered observations is calculated and used as the new cluster centroid. Then, observations are reassigned to clusters and centroids recalculated in an iterative process until the algorithm reaches convergence."
   ]
  },
  {
   "cell_type": "code",
   "execution_count": 39,
   "metadata": {},
   "outputs": [
    {
     "name": "stdout",
     "output_type": "stream",
     "text": [
      "Wall time: 246 ms\n"
     ]
    }
   ],
   "source": [
    "from sklearn.cluster import KMeans\n",
    "\n",
    "num_clusters = 5\n",
    "\n",
    "km = KMeans(n_clusters=num_clusters)\n",
    "\n",
    "%time km.fit(tfidf_matrix)\n",
    "\n",
    "clusters = km.labels_.tolist()"
   ]
  },
  {
   "cell_type": "code",
   "execution_count": 40,
   "metadata": {},
   "outputs": [
    {
     "name": "stdout",
     "output_type": "stream",
     "text": [
      "Wall time: 287 ms\n"
     ]
    }
   ],
   "source": [
    "from sklearn.externals import joblib\n",
    "\n",
    "#uncomment the below to save your model \n",
    "#since I've already run my model I am loading from the pickle\n",
    "\n",
    "#joblib.dump(km,  'doc_cluster.pkl')\n",
    "num_clusters = 5\n",
    "\n",
    "km = KMeans(n_clusters=num_clusters)\n",
    "%time km.fit(tfidf_matrix)\n",
    "clusters = km.labels_.tolist()"
   ]
  },
  {
   "cell_type": "code",
   "execution_count": 41,
   "metadata": {},
   "outputs": [],
   "source": [
    "passage = { 'title': filtered_sentence, 'cluster': clusters }\n",
    "\n",
    "frame = pd.DataFrame(passage, index = [clusters] , columns = ['cluster'])"
   ]
  },
  {
   "cell_type": "code",
   "execution_count": 42,
   "metadata": {},
   "outputs": [
    {
     "data": {
      "text/plain": [
       "0    41\n",
       "1    32\n",
       "4    27\n",
       "2    27\n",
       "3    25\n",
       "Name: cluster, dtype: int64"
      ]
     },
     "execution_count": 42,
     "metadata": {},
     "output_type": "execute_result"
    }
   ],
   "source": [
    "frame['cluster'].value_counts() #number of words per cluster (clusters from 0 to 4)"
   ]
  },
  {
   "cell_type": "code",
   "execution_count": 43,
   "metadata": {},
   "outputs": [
    {
     "data": {
      "text/plain": [
       "1.769736842105263"
      ]
     },
     "execution_count": 43,
     "metadata": {},
     "output_type": "execute_result"
    }
   ],
   "source": [
    "grouped = frame['cluster']\n",
    "\n",
    "grouped.mean() #average rank (1 to 100) per cluster"
   ]
  },
  {
   "cell_type": "code",
   "execution_count": 44,
   "metadata": {},
   "outputs": [
    {
     "name": "stdout",
     "output_type": "stream",
     "text": [
      "Top terms per cluster:\n",
      "\n",
      "Cluster 0 words: b'school', b'cinema', b'julie', b'fred', b'went', b'mary', b'yes', b'park',\n",
      "\n",
      "Cluster 1 words: b'bedroom', b'julie', b'fred', b'went', b'mary', b'school', b'yes', b'kitchen',\n",
      "\n",
      "Cluster 2 words: b'office', b'mary', b'fred', b'julie', b'went', b'school', b'kitchen', b'yes',\n",
      "\n",
      "Cluster 3 words: b'park', b'julie', b'fred', b'mary', b'yes', b'went', b'bedroom', b'office',\n",
      "\n",
      "Cluster 4 words: b'kitchen', b'mary', b'julie', b'fred', b'went', b'yes', b'school', b'park',\n",
      "\n"
     ]
    }
   ],
   "source": [
    "from __future__ import print_function\n",
    "\n",
    "print(\"Top terms per cluster:\")\n",
    "print()\n",
    "#sort cluster centers by proximity to centroid\n",
    "order_centroids = km.cluster_centers_.argsort()[:, ::-1] \n",
    "\n",
    "for i in range(num_clusters):\n",
    "    print(\"Cluster %d words:\" % i, end='')\n",
    "    \n",
    "    for ind in order_centroids[i, :8]: #replace 6 with n words per cluster\n",
    "        print(' %s' % vocab_frame.loc[terms[ind].split(' ')].values.tolist()[0][0].encode('utf-8', 'ignore'), end=',')\n",
    "    print() #add whitespace\n",
    "    print() #add whitespace"
   ]
  },
  {
   "cell_type": "code",
   "execution_count": 45,
   "metadata": {},
   "outputs": [
    {
     "name": "stdout",
     "output_type": "stream",
     "text": [
      "\n",
      "\n"
     ]
    }
   ],
   "source": [
    "import os  # for os.path.basename\n",
    "\n",
    "import matplotlib.pyplot as plt\n",
    "import matplotlib as mpl\n",
    "\n",
    "from sklearn.manifold import MDS\n",
    "\n",
    "MDS()\n",
    "\n",
    "# convert two components as we're plotting points in a two-dimensional plane\n",
    "# \"precomputed\" because we provide a distance matrix\n",
    "# we will also specify `random_state` so the plot is reproducible.\n",
    "mds = MDS(n_components=2, dissimilarity=\"precomputed\", random_state=1)\n",
    "\n",
    "pos = mds.fit_transform(dist)  # shape (n_components, n_samples)\n",
    "\n",
    "xs, ys = pos[:, 0], pos[:, 1]\n",
    "print()\n",
    "print()"
   ]
  },
  {
   "cell_type": "code",
   "execution_count": 46,
   "metadata": {},
   "outputs": [],
   "source": [
    "#set up colors per clusters using a dict\n",
    "cluster_colors = {0: '#1b9e77', 1: '#d95f02', 2: '#7570b3', 3: '#e7298a', 4: '#66a61e'}\n",
    "\n",
    "#set up cluster names using a dict\n",
    "cluster_names = {0: 'cluster1', \n",
    "                 1: 'cluster2', \n",
    "                 2: 'cluster3', \n",
    "                 3: 'cluster4', \n",
    "                 4: 'cluster5'}"
   ]
  },
  {
   "cell_type": "code",
   "execution_count": 47,
   "metadata": {},
   "outputs": [
    {
     "data": {
      "image/png": "[encoded data removed]",
      "text/plain": [
       "<matplotlib.figure.Figure at 0x1f3be551080>"
      ]
     },
     "metadata": {},
     "output_type": "display_data"
    },
    {
     "data": {
      "text/plain": [
       "<matplotlib.figure.Figure at 0x1f3be7a3278>"
      ]
     },
     "metadata": {},
     "output_type": "display_data"
    }
   ],
   "source": [
    "#some ipython magic to show the matplotlib plots inline\n",
    "%matplotlib inline \n",
    "\n",
    "#create data frame that has the result of the MDS plus the cluster numbers and titles\n",
    "df = pd.DataFrame(dict(x=xs, y=ys, label=clusters, title=lines)) \n",
    "\n",
    "#group by cluster\n",
    "groups = df.groupby('label')\n",
    "\n",
    "\n",
    "# set up plot\n",
    "fig, ax = plt.subplots(figsize=(17, 9)) # set size\n",
    "ax.margins(0.05) # Optional, just adds 5% padding to the autoscaling\n",
    "\n",
    "#iterate through groups to layer the plot\n",
    "#note that I use the cluster_name and cluster_color dicts with the 'name' lookup to return the appropriate color/label\n",
    "for name, group in groups:\n",
    "    ax.plot(group.x, group.y, marker='o', linestyle='', ms=12, \n",
    "            label=cluster_names[name], color=cluster_colors[name], \n",
    "            mec='none')\n",
    "    ax.set_aspect('auto')\n",
    "    ax.tick_params(\\\n",
    "        axis= 'x',          # changes apply to the x-axis\n",
    "        which='both',      # both major and minor ticks are affected\n",
    "        bottom='off',      # ticks along the bottom edge are off\n",
    "        top='off',         # ticks along the top edge are off\n",
    "        labelbottom='off')\n",
    "    ax.tick_params(\\\n",
    "        axis= 'y',         # changes apply to the y-axis\n",
    "        which='both',      # both major and minor ticks are affected\n",
    "        left='off',      # ticks along the bottom edge are off\n",
    "        top='off',         # ticks along the top edge are off\n",
    "        labelleft='off')\n",
    "    \n",
    "ax.legend(numpoints=1)  #show legend with only 1 point\n",
    "\n",
    "#add label in x,y position with the label as the film title\n",
    "for i in range(len(df)):\n",
    "    ax.text(df.iloc[i]['x'], df.iloc[i]['y'], df.iloc[i]['title'], size=8)  \n",
    "\n",
    "    \n",
    "    \n",
    "plt.show() #show the plot\n",
    "\n",
    "plt.savefig('clusters_small_noaxes.png', dpi=200)"
   ]
  },
  {
   "cell_type": "code",
   "execution_count": 48,
   "metadata": {},
   "outputs": [],
   "source": [
    "plt.close()"
   ]
  },
  {
   "cell_type": "code",
   "execution_count": 49,
   "metadata": {},
   "outputs": [],
   "source": [
    "#define custom toolbar location\n",
    "class TopToolbar(mpld3.plugins.PluginBase):\n",
    "    \"\"\"Plugin for moving toolbar to top of figure\"\"\"\n",
    "\n",
    "    JAVASCRIPT = \"\"\"\n",
    "    mpld3.register_plugin(\"toptoolbar\", TopToolbar);\n",
    "    TopToolbar.prototype = Object.create(mpld3.Plugin.prototype);\n",
    "    TopToolbar.prototype.constructor = TopToolbar;\n",
    "    function TopToolbar(fig, props){\n",
    "        mpld3.Plugin.call(this, fig, props);\n",
    "    };\n",
    "\n",
    "    TopToolbar.prototype.draw = function(){\n",
    "      // the toolbar svg doesn't exist\n",
    "      // yet, so first draw it\n",
    "      this.fig.toolbar.draw();\n",
    "\n",
    "      // then change the y position to be\n",
    "      // at the top of the figure\n",
    "      this.fig.toolbar.toolbar.attr(\"x\", 150);\n",
    "      this.fig.toolbar.toolbar.attr(\"y\", 400);\n",
    "\n",
    "      // then remove the draw function,\n",
    "      // so that it is not called again\n",
    "      this.fig.toolbar.draw = function() {}\n",
    "    }\n",
    "    \"\"\"\n",
    "    def __init__(self):\n",
    "        self.dict_ = {\"type\": \"toptoolbar\"}"
   ]
  },
  {
   "cell_type": "code",
   "execution_count": 50,
   "metadata": {},
   "outputs": [
    {
     "data": {
      "text/html": [
       "\n",
       "\n",
       "<style>\n",
       "\n",
       "text.mpld3-text, div.mpld3-tooltip {\n",
       "  font-family:Arial, Helvetica, sans-serif;\n",
       "}\n",
       "\n",
       "g.mpld3-xaxis, g.mpld3-yaxis {\n",
       "display: none; }\n",
       "\n",
       "svg.mpld3-figure {\n",
       "margin-left: -200px;}\n",
       "\n",
       "text.mpld3-text, div.mpld3-tooltip {\n",
       "  font-family:Arial, Helvetica, sans-serif;\n",
       "}\n",
       "\n",
       "g.mpld3-xaxis, g.mpld3-yaxis {\n",
       "display: none; }\n",
       "\n",
       "svg.mpld3-figure {\n",
       "margin-left: -200px;}\n",
       "\n",
       "text.mpld3-text, div.mpld3-tooltip {\n",
       "  font-family:Arial, Helvetica, sans-serif;\n",
       "}\n",
       "\n",
       "g.mpld3-xaxis, g.mpld3-yaxis {\n",
       "display: none; }\n",
       "\n",
       "svg.mpld3-figure {\n",
       "margin-left: -200px;}\n",
       "\n",
       "text.mpld3-text, div.mpld3-tooltip {\n",
       "  font-family:Arial, Helvetica, sans-serif;\n",
       "}\n",
       "\n",
       "g.mpld3-xaxis, g.mpld3-yaxis {\n",
       "display: none; }\n",
       "\n",
       "svg.mpld3-figure {\n",
       "margin-left: -200px;}\n",
       "\n",
       "text.mpld3-text, div.mpld3-tooltip {\n",
       "  font-family:Arial, Helvetica, sans-serif;\n",
       "}\n",
       "\n",
       "g.mpld3-xaxis, g.mpld3-yaxis {\n",
       "display: none; }\n",
       "\n",
       "svg.mpld3-figure {\n",
       "margin-left: -200px;}\n",
       "\n",
       "</style>\n",
       "\n",
       "<div id=\"fig_el1564421463430007768547181491\"></div>\n",
       "<script>\n",
       "function mpld3_load_lib(url, callback){\n",
       "  var s = document.createElement('script');\n",
       "  s.src = url;\n",
       "  s.async = true;\n",
       "  s.onreadystatechange = s.onload = callback;\n",
       "  s.onerror = function(){console.warn(\"failed to load library \" + url);};\n",
       "  document.getElementsByTagName(\"head\")[0].appendChild(s);\n",
       "}\n",
       "\n",
       "if(typeof(mpld3) !== \"undefined\" && mpld3._mpld3IsLoaded){\n",
       "   // already loaded: just create the figure\n",
       "   !function(mpld3){\n",
       "       \n",
       "    mpld3.register_plugin(\"htmltooltip\", HtmlTooltipPlugin);\n",
       "    HtmlTooltipPlugin.prototype = Object.create(mpld3.Plugin.prototype);\n",
       "    HtmlTooltipPlugin.prototype.constructor = HtmlTooltipPlugin;\n",
       "    HtmlTooltipPlugin.prototype.requiredProps = [\"id\"];\n",
       "    HtmlTooltipPlugin.prototype.defaultProps = {labels:null,\n",
       "                                                hoffset:0,\n",
       "                                                voffset:10};\n",
       "    function HtmlTooltipPlugin(fig, props){\n",
       "        mpld3.Plugin.call(this, fig, props);\n",
       "    };\n",
       "\n",
       "    HtmlTooltipPlugin.prototype.draw = function(){\n",
       "       var obj = mpld3.get_element(this.props.id);\n",
       "       var labels = this.props.labels;\n",
       "       var tooltip = d3.select(\"body\").append(\"div\")\n",
       "                    .attr(\"class\", \"mpld3-tooltip\")\n",
       "                    .style(\"position\", \"absolute\")\n",
       "                    .style(\"z-index\", \"10\")\n",
       "                    .style(\"visibility\", \"hidden\");\n",
       "\n",
       "       obj.elements()\n",
       "           .on(\"mouseover\", function(d, i){\n",
       "                              tooltip.html(labels[i])\n",
       "                                     .style(\"visibility\", \"visible\");})\n",
       "           .on(\"mousemove\", function(d, i){\n",
       "                  tooltip\n",
       "                    .style(\"top\", d3.event.pageY + this.props.voffset + \"px\")\n",
       "                    .style(\"left\",d3.event.pageX + this.props.hoffset + \"px\");\n",
       "                 }.bind(this))\n",
       "           .on(\"mouseout\",  function(d, i){\n",
       "                           tooltip.style(\"visibility\", \"hidden\");});\n",
       "    };\n",
       "    \n",
       "    mpld3.register_plugin(\"toptoolbar\", TopToolbar);\n",
       "    TopToolbar.prototype = Object.create(mpld3.Plugin.prototype);\n",
       "    TopToolbar.prototype.constructor = TopToolbar;\n",
       "    function TopToolbar(fig, props){\n",
       "        mpld3.Plugin.call(this, fig, props);\n",
       "    };\n",
       "\n",
       "    TopToolbar.prototype.draw = function(){\n",
       "      // the toolbar svg doesn't exist\n",
       "      // yet, so first draw it\n",
       "      this.fig.toolbar.draw();\n",
       "\n",
       "      // then change the y position to be\n",
       "      // at the top of the figure\n",
       "      this.fig.toolbar.toolbar.attr(\"x\", 150);\n",
       "      this.fig.toolbar.toolbar.attr(\"y\", 400);\n",
       "\n",
       "      // then remove the draw function,\n",
       "      // so that it is not called again\n",
       "      this.fig.toolbar.draw = function() {}\n",
       "    }\n",
       "    \n",
       "    mpld3.register_plugin(\"htmltooltip\", HtmlTooltipPlugin);\n",
       "    HtmlTooltipPlugin.prototype = Object.create(mpld3.Plugin.prototype);\n",
       "    HtmlTooltipPlugin.prototype.constructor = HtmlTooltipPlugin;\n",
       "    HtmlTooltipPlugin.prototype.requiredProps = [\"id\"];\n",
       "    HtmlTooltipPlugin.prototype.defaultProps = {labels:null,\n",
       "                                                hoffset:0,\n",
       "                                                voffset:10};\n",
       "    function HtmlTooltipPlugin(fig, props){\n",
       "        mpld3.Plugin.call(this, fig, props);\n",
       "    };\n",
       "\n",
       "    HtmlTooltipPlugin.prototype.draw = function(){\n",
       "       var obj = mpld3.get_element(this.props.id);\n",
       "       var labels = this.props.labels;\n",
       "       var tooltip = d3.select(\"body\").append(\"div\")\n",
       "                    .attr(\"class\", \"mpld3-tooltip\")\n",
       "                    .style(\"position\", \"absolute\")\n",
       "                    .style(\"z-index\", \"10\")\n",
       "                    .style(\"visibility\", \"hidden\");\n",
       "\n",
       "       obj.elements()\n",
       "           .on(\"mouseover\", function(d, i){\n",
       "                              tooltip.html(labels[i])\n",
       "                                     .style(\"visibility\", \"visible\");})\n",
       "           .on(\"mousemove\", function(d, i){\n",
       "                  tooltip\n",
       "                    .style(\"top\", d3.event.pageY + this.props.voffset + \"px\")\n",
       "                    .style(\"left\",d3.event.pageX + this.props.hoffset + \"px\");\n",
       "                 }.bind(this))\n",
       "           .on(\"mouseout\",  function(d, i){\n",
       "                           tooltip.style(\"visibility\", \"hidden\");});\n",
       "    };\n",
       "    \n",
       "    mpld3.register_plugin(\"toptoolbar\", TopToolbar);\n",
       "    TopToolbar.prototype = Object.create(mpld3.Plugin.prototype);\n",
       "    TopToolbar.prototype.constructor = TopToolbar;\n",
       "    function TopToolbar(fig, props){\n",
       "        mpld3.Plugin.call(this, fig, props);\n",
       "    };\n",
       "\n",
       "    TopToolbar.prototype.draw = function(){\n",
       "      // the toolbar svg doesn't exist\n",
       "      // yet, so first draw it\n",
       "      this.fig.toolbar.draw();\n",
       "\n",
       "      // then change the y position to be\n",
       "      // at the top of the figure\n",
       "      this.fig.toolbar.toolbar.attr(\"x\", 150);\n",
       "      this.fig.toolbar.toolbar.attr(\"y\", 400);\n",
       "\n",
       "      // then remove the draw function,\n",
       "      // so that it is not called again\n",
       "      this.fig.toolbar.draw = function() {}\n",
       "    }\n",
       "    \n",
       "    mpld3.register_plugin(\"htmltooltip\", HtmlTooltipPlugin);\n",
       "    HtmlTooltipPlugin.prototype = Object.create(mpld3.Plugin.prototype);\n",
       "    HtmlTooltipPlugin.prototype.constructor = HtmlTooltipPlugin;\n",
       "    HtmlTooltipPlugin.prototype.requiredProps = [\"id\"];\n",
       "    HtmlTooltipPlugin.prototype.defaultProps = {labels:null,\n",
       "                                                hoffset:0,\n",
       "                                                voffset:10};\n",
       "    function HtmlTooltipPlugin(fig, props){\n",
       "        mpld3.Plugin.call(this, fig, props);\n",
       "    };\n",
       "\n",
       "    HtmlTooltipPlugin.prototype.draw = function(){\n",
       "       var obj = mpld3.get_element(this.props.id);\n",
       "       var labels = this.props.labels;\n",
       "       var tooltip = d3.select(\"body\").append(\"div\")\n",
       "                    .attr(\"class\", \"mpld3-tooltip\")\n",
       "                    .style(\"position\", \"absolute\")\n",
       "                    .style(\"z-index\", \"10\")\n",
       "                    .style(\"visibility\", \"hidden\");\n",
       "\n",
       "       obj.elements()\n",
       "           .on(\"mouseover\", function(d, i){\n",
       "                              tooltip.html(labels[i])\n",
       "                                     .style(\"visibility\", \"visible\");})\n",
       "           .on(\"mousemove\", function(d, i){\n",
       "                  tooltip\n",
       "                    .style(\"top\", d3.event.pageY + this.props.voffset + \"px\")\n",
       "                    .style(\"left\",d3.event.pageX + this.props.hoffset + \"px\");\n",
       "                 }.bind(this))\n",
       "           .on(\"mouseout\",  function(d, i){\n",
       "                           tooltip.style(\"visibility\", \"hidden\");});\n",
       "    };\n",
       "    \n",
       "    mpld3.register_plugin(\"toptoolbar\", TopToolbar);\n",
       "    TopToolbar.prototype = Object.create(mpld3.Plugin.prototype);\n",
       "    TopToolbar.prototype.constructor = TopToolbar;\n",
       "    function TopToolbar(fig, props){\n",
       "        mpld3.Plugin.call(this, fig, props);\n",
       "    };\n",
       "\n",
       "    TopToolbar.prototype.draw = function(){\n",
       "      // the toolbar svg doesn't exist\n",
       "      // yet, so first draw it\n",
       "      this.fig.toolbar.draw();\n",
       "\n",
       "      // then change the y position to be\n",
       "      // at the top of the figure\n",
       "      this.fig.toolbar.toolbar.attr(\"x\", 150);\n",
       "      this.fig.toolbar.toolbar.attr(\"y\", 400);\n",
       "\n",
       "      // then remove the draw function,\n",
       "      // so that it is not called again\n",
       "      this.fig.toolbar.draw = function() {}\n",
       "    }\n",
       "    \n",
       "    mpld3.register_plugin(\"htmltooltip\", HtmlTooltipPlugin);\n",
       "    HtmlTooltipPlugin.prototype = Object.create(mpld3.Plugin.prototype);\n",
       "    HtmlTooltipPlugin.prototype.constructor = HtmlTooltipPlugin;\n",
       "    HtmlTooltipPlugin.prototype.requiredProps = [\"id\"];\n",
       "    HtmlTooltipPlugin.prototype.defaultProps = {labels:null,\n",
       "                                                hoffset:0,\n",
       "                                                voffset:10};\n",
       "    function HtmlTooltipPlugin(fig, props){\n",
       "        mpld3.Plugin.call(this, fig, props);\n",
       "    };\n",
       "\n",
       "    HtmlTooltipPlugin.prototype.draw = function(){\n",
       "       var obj = mpld3.get_element(this.props.id);\n",
       "       var labels = this.props.labels;\n",
       "       var tooltip = d3.select(\"body\").append(\"div\")\n",
       "                    .attr(\"class\", \"mpld3-tooltip\")\n",
       "                    .style(\"position\", \"absolute\")\n",
       "                    .style(\"z-index\", \"10\")\n",
       "                    .style(\"visibility\", \"hidden\");\n",
       "\n",
       "       obj.elements()\n",
       "           .on(\"mouseover\", function(d, i){\n",
       "                              tooltip.html(labels[i])\n",
       "                                     .style(\"visibility\", \"visible\");})\n",
       "           .on(\"mousemove\", function(d, i){\n",
       "                  tooltip\n",
       "                    .style(\"top\", d3.event.pageY + this.props.voffset + \"px\")\n",
       "                    .style(\"left\",d3.event.pageX + this.props.hoffset + \"px\");\n",
       "                 }.bind(this))\n",
       "           .on(\"mouseout\",  function(d, i){\n",
       "                           tooltip.style(\"visibility\", \"hidden\");});\n",
       "    };\n",
       "    \n",
       "    mpld3.register_plugin(\"toptoolbar\", TopToolbar);\n",
       "    TopToolbar.prototype = Object.create(mpld3.Plugin.prototype);\n",
       "    TopToolbar.prototype.constructor = TopToolbar;\n",
       "    function TopToolbar(fig, props){\n",
       "        mpld3.Plugin.call(this, fig, props);\n",
       "    };\n",
       "\n",
       "    TopToolbar.prototype.draw = function(){\n",
       "      // the toolbar svg doesn't exist\n",
       "      // yet, so first draw it\n",
       "      this.fig.toolbar.draw();\n",
       "\n",
       "      // then change the y position to be\n",
       "      // at the top of the figure\n",
       "      this.fig.toolbar.toolbar.attr(\"x\", 150);\n",
       "      this.fig.toolbar.toolbar.attr(\"y\", 400);\n",
       "\n",
       "      // then remove the draw function,\n",
       "      // so that it is not called again\n",
       "      this.fig.toolbar.draw = function() {}\n",
       "    }\n",
       "    \n",
       "    mpld3.register_plugin(\"htmltooltip\", HtmlTooltipPlugin);\n",
       "    HtmlTooltipPlugin.prototype = Object.create(mpld3.Plugin.prototype);\n",
       "    HtmlTooltipPlugin.prototype.constructor = HtmlTooltipPlugin;\n",
       "    HtmlTooltipPlugin.prototype.requiredProps = [\"id\"];\n",
       "    HtmlTooltipPlugin.prototype.defaultProps = {labels:null,\n",
       "                                                hoffset:0,\n",
       "                                                voffset:10};\n",
       "    function HtmlTooltipPlugin(fig, props){\n",
       "        mpld3.Plugin.call(this, fig, props);\n",
       "    };\n",
       "\n",
       "    HtmlTooltipPlugin.prototype.draw = function(){\n",
       "       var obj = mpld3.get_element(this.props.id);\n",
       "       var labels = this.props.labels;\n",
       "       var tooltip = d3.select(\"body\").append(\"div\")\n",
       "                    .attr(\"class\", \"mpld3-tooltip\")\n",
       "                    .style(\"position\", \"absolute\")\n",
       "                    .style(\"z-index\", \"10\")\n",
       "                    .style(\"visibility\", \"hidden\");\n",
       "\n",
       "       obj.elements()\n",
       "           .on(\"mouseover\", function(d, i){\n",
       "                              tooltip.html(labels[i])\n",
       "                                     .style(\"visibility\", \"visible\");})\n",
       "           .on(\"mousemove\", function(d, i){\n",
       "                  tooltip\n",
       "                    .style(\"top\", d3.event.pageY + this.props.voffset + \"px\")\n",
       "                    .style(\"left\",d3.event.pageX + this.props.hoffset + \"px\");\n",
       "                 }.bind(this))\n",
       "           .on(\"mouseout\",  function(d, i){\n",
       "                           tooltip.style(\"visibility\", \"hidden\");});\n",
       "    };\n",
       "    \n",
       "    mpld3.register_plugin(\"toptoolbar\", TopToolbar);\n",
       "    TopToolbar.prototype = Object.create(mpld3.Plugin.prototype);\n",
       "    TopToolbar.prototype.constructor = TopToolbar;\n",
       "    function TopToolbar(fig, props){\n",
       "        mpld3.Plugin.call(this, fig, props);\n",
       "    };\n",
       "\n",
       "    TopToolbar.prototype.draw = function(){\n",
       "      // the toolbar svg doesn't exist\n",
       "      // yet, so first draw it\n",
       "      this.fig.toolbar.draw();\n",
       "\n",
       "      // then change the y position to be\n",
       "      // at the top of the figure\n",
       "      this.fig.toolbar.toolbar.attr(\"x\", 150);\n",
       "      this.fig.toolbar.toolbar.attr(\"y\", 400);\n",
       "\n",
       "      // then remove the draw function,\n",
       "      // so that it is not called again\n",
       "      this.fig.toolbar.draw = function() {}\n",
       "    }\n",
       "    \n",
       "       mpld3.draw_figure(\"fig_el1564421463430007768547181491\", {\"width\": 1008.0, \"height\": 432.0, \"axes\": [{\"bbox\": [0.125, 0.125, 0.775, 0.755], \"xlim\": [-0.7414220532775794, 0.7555925982512295], \"ylim\": [-0.7874283626020617, 0.8578968253308698], \"xdomain\": [-0.7414220532775794, 0.7555925982512295], \"ydomain\": [-0.7874283626020617, 0.8578968253308698], \"xscale\": \"linear\", \"yscale\": \"linear\", \"axes\": [{\"position\": \"bottom\", \"nticks\": 0, \"tickvalues\": [], \"tickformat\": \"\", \"scale\": \"linear\", \"fontsize\": null, \"grid\": {\"gridOn\": false}, \"visible\": false}, {\"position\": \"left\", \"nticks\": 0, \"tickvalues\": [], \"tickformat\": \"\", \"scale\": \"linear\", \"fontsize\": null, \"grid\": {\"gridOn\": false}, \"visible\": false}], \"axesbg\": \"#FFFFFF\", \"axesbgalpha\": null, \"zoomable\": true, \"id\": \"el156442146375142088\", \"lines\": [], \"paths\": [{\"data\": \"data07\", \"xindex\": 0, \"yindex\": 1, \"coordinates\": \"axes\", \"pathcodes\": [\"M\", \"L\", \"S\", \"L\", \"S\", \"L\", \"S\", \"L\", \"S\", \"Z\"], \"id\": \"el156442146369596608\", \"dasharray\": \"none\", \"alpha\": 0.8, \"facecolor\": \"#FFFFFF\", \"edgecolor\": \"#CCCCCC\", \"edgewidth\": 1.0, \"zorder\": 1000000.0}], \"markers\": [{\"data\": \"data01\", \"xindex\": 0, \"yindex\": 1, \"coordinates\": \"data\", \"id\": \"el156442146393468208pts\", \"facecolor\": \"#1B9E77\", \"edgecolor\": \"none\", \"edgewidth\": 1.0, \"alpha\": 1, \"zorder\": 2, \"markerpath\": [[[0.0, 9.0], [2.3868279, 9.0], [4.676218837063681, 8.051703224294176], [6.3639610306789285, 6.3639610306789285], [8.051703224294176, 4.676218837063681], [9.0, 2.3868279], [9.0, 0.0], [9.0, -2.3868279], [8.051703224294176, -4.676218837063681], [6.3639610306789285, -6.3639610306789285], [4.676218837063681, -8.051703224294176], [2.3868279, -9.0], [0.0, -9.0], [-2.3868279, -9.0], [-4.676218837063681, -8.051703224294176], [-6.3639610306789285, -6.3639610306789285], [-8.051703224294176, -4.676218837063681], [-9.0, -2.3868279], [-9.0, 0.0], [-9.0, 2.3868279], [-8.051703224294176, 4.676218837063681], [-6.3639610306789285, 6.3639610306789285], [-4.676218837063681, 8.051703224294176], [-2.3868279, 9.0], [0.0, 9.0]], [\"M\", \"C\", \"C\", \"C\", \"C\", \"C\", \"C\", \"C\", \"C\", \"Z\"]]}, {\"data\": \"data02\", \"xindex\": 0, \"yindex\": 1, \"coordinates\": \"data\", \"id\": \"el156442146369596440pts\", \"facecolor\": \"#D95F02\", \"edgecolor\": \"none\", \"edgewidth\": 1.0, \"alpha\": 1, \"zorder\": 2, \"markerpath\": [[[0.0, 9.0], [2.3868279, 9.0], [4.676218837063681, 8.051703224294176], [6.3639610306789285, 6.3639610306789285], [8.051703224294176, 4.676218837063681], [9.0, 2.3868279], [9.0, 0.0], [9.0, -2.3868279], [8.051703224294176, -4.676218837063681], [6.3639610306789285, -6.3639610306789285], [4.676218837063681, -8.051703224294176], [2.3868279, -9.0], [0.0, -9.0], [-2.3868279, -9.0], [-4.676218837063681, -8.051703224294176], [-6.3639610306789285, -6.3639610306789285], [-8.051703224294176, -4.676218837063681], [-9.0, -2.3868279], [-9.0, 0.0], [-9.0, 2.3868279], [-8.051703224294176, 4.676218837063681], [-6.3639610306789285, 6.3639610306789285], [-4.676218837063681, 8.051703224294176], [-2.3868279, 9.0], [0.0, 9.0]], [\"M\", \"C\", \"C\", \"C\", \"C\", \"C\", \"C\", \"C\", \"C\", \"Z\"]]}, {\"data\": \"data03\", \"xindex\": 0, \"yindex\": 1, \"coordinates\": \"data\", \"id\": \"el156442146393465296pts\", \"facecolor\": \"#7570B3\", \"edgecolor\": \"none\", \"edgewidth\": 1.0, \"alpha\": 1, \"zorder\": 2, \"markerpath\": [[[0.0, 9.0], [2.3868279, 9.0], [4.676218837063681, 8.051703224294176], [6.3639610306789285, 6.3639610306789285], [8.051703224294176, 4.676218837063681], [9.0, 2.3868279], [9.0, 0.0], [9.0, -2.3868279], [8.051703224294176, -4.676218837063681], [6.3639610306789285, -6.3639610306789285], [4.676218837063681, -8.051703224294176], [2.3868279, -9.0], [0.0, -9.0], [-2.3868279, -9.0], [-4.676218837063681, -8.051703224294176], [-6.3639610306789285, -6.3639610306789285], [-8.051703224294176, -4.676218837063681], [-9.0, -2.3868279], [-9.0, 0.0], [-9.0, 2.3868279], [-8.051703224294176, 4.676218837063681], [-6.3639610306789285, 6.3639610306789285], [-4.676218837063681, 8.051703224294176], [-2.3868279, 9.0], [0.0, 9.0]], [\"M\", \"C\", \"C\", \"C\", \"C\", \"C\", \"C\", \"C\", \"C\", \"Z\"]]}, {\"data\": \"data04\", \"xindex\": 0, \"yindex\": 1, \"coordinates\": \"data\", \"id\": \"el156442146374850208pts\", \"facecolor\": \"#E7298A\", \"edgecolor\": \"none\", \"edgewidth\": 1.0, \"alpha\": 1, \"zorder\": 2, \"markerpath\": [[[0.0, 9.0], [2.3868279, 9.0], [4.676218837063681, 8.051703224294176], [6.3639610306789285, 6.3639610306789285], [8.051703224294176, 4.676218837063681], [9.0, 2.3868279], [9.0, 0.0], [9.0, -2.3868279], [8.051703224294176, -4.676218837063681], [6.3639610306789285, -6.3639610306789285], [4.676218837063681, -8.051703224294176], [2.3868279, -9.0], [0.0, -9.0], [-2.3868279, -9.0], [-4.676218837063681, -8.051703224294176], [-6.3639610306789285, -6.3639610306789285], [-8.051703224294176, -4.676218837063681], [-9.0, -2.3868279], [-9.0, 0.0], [-9.0, 2.3868279], [-8.051703224294176, 4.676218837063681], [-6.3639610306789285, 6.3639610306789285], [-4.676218837063681, 8.051703224294176], [-2.3868279, 9.0], [0.0, 9.0]], [\"M\", \"C\", \"C\", \"C\", \"C\", \"C\", \"C\", \"C\", \"C\", \"Z\"]]}, {\"data\": \"data05\", \"xindex\": 0, \"yindex\": 1, \"coordinates\": \"data\", \"id\": \"el156442146369595040pts\", \"facecolor\": \"#66A61E\", \"edgecolor\": \"none\", \"edgewidth\": 1.0, \"alpha\": 1, \"zorder\": 2, \"markerpath\": [[[0.0, 9.0], [2.3868279, 9.0], [4.676218837063681, 8.051703224294176], [6.3639610306789285, 6.3639610306789285], [8.051703224294176, 4.676218837063681], [9.0, 2.3868279], [9.0, 0.0], [9.0, -2.3868279], [8.051703224294176, -4.676218837063681], [6.3639610306789285, -6.3639610306789285], [4.676218837063681, -8.051703224294176], [2.3868279, -9.0], [0.0, -9.0], [-2.3868279, -9.0], [-4.676218837063681, -8.051703224294176], [-6.3639610306789285, -6.3639610306789285], [-8.051703224294176, -4.676218837063681], [-9.0, -2.3868279], [-9.0, 0.0], [-9.0, 2.3868279], [-8.051703224294176, 4.676218837063681], [-6.3639610306789285, 6.3639610306789285], [-4.676218837063681, 8.051703224294176], [-2.3868279, 9.0], [0.0, 9.0]], [\"M\", \"C\", \"C\", \"C\", \"C\", \"C\", \"C\", \"C\", \"C\", \"Z\"]]}, {\"data\": \"data06\", \"xindex\": 0, \"yindex\": 1, \"coordinates\": \"axes\", \"id\": \"el156442146294954472pts\", \"facecolor\": \"#1B9E77\", \"edgecolor\": \"none\", \"edgewidth\": 1.0, \"alpha\": 1, \"zorder\": 1000002.0, \"markerpath\": [[[0.0, 9.0], [2.3868279, 9.0], [4.676218837063681, 8.051703224294176], [6.3639610306789285, 6.3639610306789285], [8.051703224294176, 4.676218837063681], [9.0, 2.3868279], [9.0, 0.0], [9.0, -2.3868279], [8.051703224294176, -4.676218837063681], [6.3639610306789285, -6.3639610306789285], [4.676218837063681, -8.051703224294176], [2.3868279, -9.0], [0.0, -9.0], [-2.3868279, -9.0], [-4.676218837063681, -8.051703224294176], [-6.3639610306789285, -6.3639610306789285], [-8.051703224294176, -4.676218837063681], [-9.0, -2.3868279], [-9.0, 0.0], [-9.0, 2.3868279], [-8.051703224294176, 4.676218837063681], [-6.3639610306789285, 6.3639610306789285], [-4.676218837063681, 8.051703224294176], [-2.3868279, 9.0], [0.0, 9.0]], [\"M\", \"C\", \"C\", \"C\", \"C\", \"C\", \"C\", \"C\", \"C\", \"Z\"]]}, {\"data\": \"data06\", \"xindex\": 0, \"yindex\": 2, \"coordinates\": \"axes\", \"id\": \"el156442146375029928pts\", \"facecolor\": \"#D95F02\", \"edgecolor\": \"none\", \"edgewidth\": 1.0, \"alpha\": 1, \"zorder\": 1000002.0, \"markerpath\": [[[0.0, 9.0], [2.3868279, 9.0], [4.676218837063681, 8.051703224294176], [6.3639610306789285, 6.3639610306789285], [8.051703224294176, 4.676218837063681], [9.0, 2.3868279], [9.0, 0.0], [9.0, -2.3868279], [8.051703224294176, -4.676218837063681], [6.3639610306789285, -6.3639610306789285], [4.676218837063681, -8.051703224294176], [2.3868279, -9.0], [0.0, -9.0], [-2.3868279, -9.0], [-4.676218837063681, -8.051703224294176], [-6.3639610306789285, -6.3639610306789285], [-8.051703224294176, -4.676218837063681], [-9.0, -2.3868279], [-9.0, 0.0], [-9.0, 2.3868279], [-8.051703224294176, 4.676218837063681], [-6.3639610306789285, 6.3639610306789285], [-4.676218837063681, 8.051703224294176], [-2.3868279, 9.0], [0.0, 9.0]], [\"M\", \"C\", \"C\", \"C\", \"C\", \"C\", \"C\", \"C\", \"C\", \"Z\"]]}, {\"data\": \"data06\", \"xindex\": 0, \"yindex\": 3, \"coordinates\": \"axes\", \"id\": \"el156442146375031832pts\", \"facecolor\": \"#7570B3\", \"edgecolor\": \"none\", \"edgewidth\": 1.0, \"alpha\": 1, \"zorder\": 1000002.0, \"markerpath\": [[[0.0, 9.0], [2.3868279, 9.0], [4.676218837063681, 8.051703224294176], [6.3639610306789285, 6.3639610306789285], [8.051703224294176, 4.676218837063681], [9.0, 2.3868279], [9.0, 0.0], [9.0, -2.3868279], [8.051703224294176, -4.676218837063681], [6.3639610306789285, -6.3639610306789285], [4.676218837063681, -8.051703224294176], [2.3868279, -9.0], [0.0, -9.0], [-2.3868279, -9.0], [-4.676218837063681, -8.051703224294176], [-6.3639610306789285, -6.3639610306789285], [-8.051703224294176, -4.676218837063681], [-9.0, -2.3868279], [-9.0, 0.0], [-9.0, 2.3868279], [-8.051703224294176, 4.676218837063681], [-6.3639610306789285, 6.3639610306789285], [-4.676218837063681, 8.051703224294176], [-2.3868279, 9.0], [0.0, 9.0]], [\"M\", \"C\", \"C\", \"C\", \"C\", \"C\", \"C\", \"C\", \"C\", \"Z\"]]}, {\"data\": \"data06\", \"xindex\": 0, \"yindex\": 4, \"coordinates\": \"axes\", \"id\": \"el156442146374957376pts\", \"facecolor\": \"#E7298A\", \"edgecolor\": \"none\", \"edgewidth\": 1.0, \"alpha\": 1, \"zorder\": 1000002.0, \"markerpath\": [[[0.0, 9.0], [2.3868279, 9.0], [4.676218837063681, 8.051703224294176], [6.3639610306789285, 6.3639610306789285], [8.051703224294176, 4.676218837063681], [9.0, 2.3868279], [9.0, 0.0], [9.0, -2.3868279], [8.051703224294176, -4.676218837063681], [6.3639610306789285, -6.3639610306789285], [4.676218837063681, -8.051703224294176], [2.3868279, -9.0], [0.0, -9.0], [-2.3868279, -9.0], [-4.676218837063681, -8.051703224294176], [-6.3639610306789285, -6.3639610306789285], [-8.051703224294176, -4.676218837063681], [-9.0, -2.3868279], [-9.0, 0.0], [-9.0, 2.3868279], [-8.051703224294176, 4.676218837063681], [-6.3639610306789285, 6.3639610306789285], [-4.676218837063681, 8.051703224294176], [-2.3868279, 9.0], [0.0, 9.0]], [\"M\", \"C\", \"C\", \"C\", \"C\", \"C\", \"C\", \"C\", \"C\", \"Z\"]]}, {\"data\": \"data06\", \"xindex\": 0, \"yindex\": 5, \"coordinates\": \"axes\", \"id\": \"el156442146374955696pts\", \"facecolor\": \"#66A61E\", \"edgecolor\": \"none\", \"edgewidth\": 1.0, \"alpha\": 1, \"zorder\": 1000002.0, \"markerpath\": [[[0.0, 9.0], [2.3868279, 9.0], [4.676218837063681, 8.051703224294176], [6.3639610306789285, 6.3639610306789285], [8.051703224294176, 4.676218837063681], [9.0, 2.3868279], [9.0, 0.0], [9.0, -2.3868279], [8.051703224294176, -4.676218837063681], [6.3639610306789285, -6.3639610306789285], [4.676218837063681, -8.051703224294176], [2.3868279, -9.0], [0.0, -9.0], [-2.3868279, -9.0], [-4.676218837063681, -8.051703224294176], [-6.3639610306789285, -6.3639610306789285], [-8.051703224294176, -4.676218837063681], [-9.0, -2.3868279], [-9.0, 0.0], [-9.0, 2.3868279], [-8.051703224294176, 4.676218837063681], [-6.3639610306789285, 6.3639610306789285], [-4.676218837063681, 8.051703224294176], [-2.3868279, 9.0], [0.0, 9.0]], [\"M\", \"C\", \"C\", \"C\", \"C\", \"C\", \"C\", \"C\", \"C\", \"Z\"]]}], \"texts\": [{\"text\": \"cluster1\", \"position\": [0.936635944700461, 0.9478783419180772], \"coordinates\": \"axes\", \"h_anchor\": \"start\", \"v_baseline\": \"auto\", \"rotation\": -0.0, \"fontsize\": 10.0, \"color\": \"#000000\", \"alpha\": 1, \"zorder\": 1000003.0, \"id\": \"el156442146374712232\"}, {\"text\": \"cluster2\", \"position\": [0.936635944700461, 0.901888643610498], \"coordinates\": \"axes\", \"h_anchor\": \"start\", \"v_baseline\": \"auto\", \"rotation\": -0.0, \"fontsize\": 10.0, \"color\": \"#000000\", \"alpha\": 1, \"zorder\": 1000003.0, \"id\": \"el156442146375029368\"}, {\"text\": \"cluster3\", \"position\": [0.936635944700461, 0.8558989453029189], \"coordinates\": \"axes\", \"h_anchor\": \"start\", \"v_baseline\": \"auto\", \"rotation\": -0.0, \"fontsize\": 10.0, \"color\": \"#000000\", \"alpha\": 1, \"zorder\": 1000003.0, \"id\": \"el156442146375031328\"}, {\"text\": \"cluster4\", \"position\": [0.936635944700461, 0.8099092469953398], \"coordinates\": \"axes\", \"h_anchor\": \"start\", \"v_baseline\": \"auto\", \"rotation\": -0.0, \"fontsize\": 10.0, \"color\": \"#000000\", \"alpha\": 1, \"zorder\": 1000003.0, \"id\": \"el156442146374956760\"}, {\"text\": \"cluster5\", \"position\": [0.936635944700461, 0.7639195486877607], \"coordinates\": \"axes\", \"h_anchor\": \"start\", \"v_baseline\": \"auto\", \"rotation\": -0.0, \"fontsize\": 10.0, \"color\": \"#000000\", \"alpha\": 1, \"zorder\": 1000003.0, \"id\": \"el156442146374956816\"}], \"collections\": [], \"images\": [], \"sharex\": [], \"sharey\": []}], \"data\": {\"data01\": [[-0.06086970277312786, -0.10211006319101368], [-0.4699450168795918, 0.5048690529080175], [-0.4028953607914287, 0.4542812867832512], [-0.36324138670312645, 0.5133642878764872], [-0.6452707063495252, 0.28225997785352197], [-0.6405536798633688, 0.1915404781986741], [-0.3523652724157751, 0.09536885819075795], [-0.4089207860630646, 0.03686946552843164], [-0.060869702757120295, -0.1021100631878896], [-0.5226248061536463, 0.24528788312177974], [-0.3456680473510283, 0.19253853416653047], [-0.48706230417512386, 0.07894907819514164], [-0.3523652724157746, 0.09536885819075791], [-0.4089207860418415, 0.036869465522817536], [-0.13770051111524456, 0.16936068192959033], [-0.6452707058301989, 0.28225997896423716], [-0.3523652724157768, 0.0953688581907578], [-0.46994491894007384, 0.5048691388749377], [-0.13770051111446902, 0.1693606819284188], [-0.5070679316650933, 0.5336566276519839], [-0.34566804722248257, 0.19253853426232037], [-0.6695816386665332, 0.3648862893431289], [-0.35236527241577476, 0.095368858190758], [-0.3456680472764141, 0.19253853422213146], [-0.060869703513170996, -0.10211006333566462], [-0.4427555724241844, -0.7408625553964128], [-0.6452705192866054, 0.2822603779354404], [-0.06086970277731063, -0.1021100631918311], [-0.24815080946501109, 0.40663448286564924], [-0.13770051111522424, 0.16936068192955717], [-0.13107998483631947, 0.27162617399210803], [-0.13107998484197175, 0.2716261739992492], [-0.13770051111523582, 0.16936068192957665], [-0.06086970275479492, -0.1021100631874347], [-0.6452707088838822, 0.28225997243314577], [-0.5116673416287244, 0.3986086535819442], [-0.6405539161680902, 0.191539826899493], [-0.6990537140833678, 0.26118598195418957], [-0.1310799848427544, 0.27162617400023814], [-0.5723830502612478, -0.6529399967091796], [-0.29922359662356796, 0.8113310181252208]], \"data02\": [[0.3464141261001386, 0.6268913607989324], [0.3464141260995286, 0.6268913607992738], [0.16262053318509834, 0.6677548645376044], [0.2023579937840426, 0.1379412526665713], [0.042946825861458246, 0.5181719676510936], [0.22855400107239762, 0.6251942365676482], [0.34641412609716404, 0.626891360800592], [0.32818296029322347, 0.49298495602741904], [0.12869403913612834, 0.54846384878142], [0.422999100859462, 0.23529017885240278], [0.1286940391361014, 0.5484638487814404], [0.094071293334063, 0.38107002929792744], [0.20235799386018513, 0.13794125283839892], [0.1286940391360845, 0.5484638487814525], [0.1286940391360826, 0.5484638487814542], [-0.0024695448315977574, 0.5270308779751693], [0.32846753467872186, 0.5471806194142192], [0.07587988690293317, 0.5000310416183851], [0.25166081728636347, 0.4575920595818618], [0.17055413255527904, 0.2709547076699232], [0.2779535152247483, 0.4219859631861406], [0.3464141260953316, 0.6268913608016143], [0.3281829602932263, 0.4929849560274177], [0.46202256735603675, 0.3590468152160004], [-0.014673928308324941, 0.40372601328027774], [0.34641412610037997, 0.6268913607987983], [0.3281829602932251, 0.4929849560274184], [0.3281829602932242, 0.49298495602741876], [0.4620225673560366, 0.3590468152160004], [0.46202256735603664, 0.3590468152160003], [0.25166081742881136, 0.4575920595134331], [0.32846753467871864, 0.547180619414221]], \"data03\": [[0.4305903642908656, -0.015550143643338264], [0.12797658127900347, 0.005292009890945377], [0.6691871138925762, 0.029848639906780383], [0.6620679548204845, -0.11194702899513373], [0.5858221156508514, -0.0005458182468270199], [0.5858221156508516, -0.0005458182468290417], [0.12797658128248743, 0.005292009890244124], [0.7132242590548166, -0.11978879949354088], [0.3814485453693593, -0.32227141819231925], [0.49271640000247724, -0.04984740439750057], [0.4136806342857851, -0.41397025615695365], [0.4638533285703712, -0.43937649895330744], [0.5382653697912902, -0.17355282644107906], [0.5133017519854378, -0.2538349364173227], [0.5840916087774024, -0.25245082310969674], [0.7132242590570179, -0.11978879948014595], [0.5840916087774024, -0.2524508231096979], [0.49271640025353347, -0.04984740273392374], [0.4136806342857853, -0.41397025615695376], [0.5840916087774024, -0.252450823109697], [0.43514940514675865, 0.043678948064989426], [0.669187116011788, 0.02984862517081278], [0.5858221156508516, -0.0005458182468270374], [0.5858221156508517, -0.000545818246827049], [0.3841318912732724, -0.15070461511717617], [0.5840916087774021, -0.2524508231096977], [0.5840916087774022, -0.2524508231096976]], \"data04\": [[-0.24219548900883459, 0.3133318228731128], [-0.6344381422193089, -0.35673140918376595], [-0.4572771988787097, -0.2413659916703494], [-0.46379971874453574, -0.07357256532220413], [-0.5876201173450134, -0.21215516510543803], [-0.5652567287545667, -0.1649872224502721], [-0.4832986022528809, -0.2973389469535139], [-0.5876201173450143, -0.21215516510543808], [-0.004561304227718988, 0.615247365863656], [0.3171190604679055, -0.09096166475812884], [-0.4832986022528705, -0.2973389469535009], [-0.26735272730174986, -0.43892093598439835], [-0.3947001244854639, -0.44530193908166765], [-0.39470012448546166, -0.4453019390816698], [-0.6598334979074862, 0.0033182610787580416], [-0.6344381422602564, -0.3567314091255513], [-0.5876201173450797, -0.21215516510529173], [-0.004561304242663941, 0.6152473658611529], [-0.3947001244853901, -0.4453019390817301], [-0.5876201173450725, -0.2121551651053078], [-0.4110010209664606, 0.3866506140196601], [0.3171190604715991, -0.09096166475537182], [-0.4806539805671432, -0.2964100251854758], [-0.4574584485468176, -0.24142366282112848], [-0.39470012448539044, -0.4453019390817298]], \"data05\": [[0.12342737579834226, -0.6959668848215677], [0.12342737578098864, -0.6959668848239431], [0.25365002645241796, -0.47387953401995697], [-0.07897181269870303, -0.5346623059770675], [-0.07897181269870303, -0.5346623059770675], [0.12342737577958687, -0.6959668848241354], [0.24829311942018872, -0.5780758326275306], [0.24829311942018834, -0.578075832627531], [0.04412268461704224, -0.6218095041256826], [0.24829311942019208, -0.578075832627529], [0.0441226891411833, -0.6218095024073286], [-0.078971812698703, -0.5346623059770677], [-0.1411902653165322, -0.466388300423134], [0.11452653202795765, -0.5931270611937041], [0.12320895583018583, -0.4763369520613763], [0.037410384965776956, -0.4170827930230344], [-0.07897181269870301, -0.5346623059770675], [0.12320895583389681, -0.47633695205893717], [0.03741038511312798, -0.41708279293092837], [0.19676478244082304, -0.619176743383313], [0.248293119420189, -0.5780758326275305], [0.12320895583021343, -0.47633695206135834], [0.24829311942018834, -0.5780758326275308], [0.1234273757800949, -0.6959668848240655], [-0.06787802129622614, -0.41148156858934726], [0.24829311942018903, -0.5780758326275305], [0.15362578703243263, -0.5353475652371336]], \"data06\": [[0.913594470046083, 0.958609271523179, 0.9126195732155998, 0.8666298749080207, 0.8206401766004416, 0.7746504782928625]], \"data07\": [[0.8982334869431644, 0.745523669364729], [0.9910394265232977, 0.745523669364729], [0.9935995903737841, 0.745523669364729], [0.9935995903737841, 0.7516556291390729], [0.9935995903737841, 0.9785381407897964], [0.9935995903737841, 0.9846701005641403], [0.9910394265232977, 0.9846701005641403], [0.8982334869431644, 0.9846701005641403], [0.895673323092678, 0.9846701005641403], [0.895673323092678, 0.9785381407897964], [0.895673323092678, 0.7516556291390729], [0.895673323092678, 0.745523669364729], [0.8982334869431644, 0.745523669364729]]}, \"id\": \"el156442146343000776\", \"plugins\": [{\"type\": \"reset\"}, {\"type\": \"zoom\", \"button\": true, \"enabled\": false}, {\"type\": \"boxzoom\", \"button\": true, \"enabled\": false}, {\"type\": \"htmltooltip\", \"id\": \"el156442146393468208pts\", \"labels\": [\"1 Mary is in the school.\\n\", \"5 Fred travelled to the cinema.\\n\", \"10 Mary went to the cinema.\\n\", \"2 Fred went back to the cinema.\\n\", \"5 Julie moved to the cinema.\\n\", \"6 Is Julie in the cinema? \\tyes\\t5\\n\", \"8 Julie journeyed to the school.\\n\", \"9 Is Julie in the school? \\tyes\\t8\\n\", \"14 Mary travelled to the school.\\n\", \"2 Julie is either in the school or the cinema.\\n\", \"5 Bill is in the school.\\n\", \"12 Is Bill in the school? \\tyes\\t5\\n\", \"14 Julie is in the school.\\n\", \"15 Is Julie in the school? \\tyes\\t14\\n\", \"6 Is Fred in the school? \\tno\\t4\\n\", \"1 Julie journeyed to the cinema.\\n\", \"3 Is Julie in the school? \\tno\\t1\\n\", \"15 Is Fred in the cinema? \\tno\\t8\\n\", \"4 Fred is in the school.\\n\", \"5 Bill went to the cinema.\\n\", \"6 Is Bill in the school? \\tno\\t5\\n\", \"9 Is Bill in the cinema? \\tyes\\t5\\n\", \"12 Is Julie in the school? \\tno\\t8\\n\", \"14 Bill is in the school.\\n\", \"15 Is Mary in the school? \\tmaybe\\t11\\n\", \"\\n\", \"1 Julie moved to the cinema.\\n\", \"11 Mary journeyed to the school.\\n\", \"14 Bill went to the school.\\n\", \"15 Is Fred in the school? \\tno\\t10\\n\", \"1 Fred went to the school.\\n\", \"4 Fred went back to the school.\\n\", \"6 Is Fred in the school? \\tno\\t5\\n\", \"9 Is Mary in the school? \\tno\\t8\\n\", \"11 Julie moved to the cinema.\\n\", \"1 Julie went back to the cinema.\\n\", \"3 Is Julie in the cinema? \\tyes\\t1\\n\", \"14 Mary is either in the cinema or the cinema.\\n\", \"7 Fred went back to the school.\\n\", \"\\n\", \"\\n\"], \"hoffset\": 10, \"voffset\": 10}, {\"type\": \"toptoolbar\"}, {\"type\": \"htmltooltip\", \"id\": \"el156442146369596440pts\", \"labels\": [\"3 Is Bill in the bedroom? \\tno\\t2\\n\", \"4 Bill journeyed to the bedroom.\\n\", \"6 Is Bill in the bedroom? \\tyes\\t4\\n\", \"7 Julie is either in the kitchen or the bedroom.\\n\", \"10 Bill is either in the bedroom or the school.\\n\", \"11 Bill went to the bedroom.\\n\", \"3 Is Bill in the bedroom? \\tno\\t1\\n\", \"4 Fred is in the bedroom.\\n\", \"6 Is Julie in the bedroom? \\tno\\t2\\n\", \"7 Julie is either in the bedroom or the office.\\n\", \"9 Is Julie in the bedroom? \\tmaybe\\t7\\n\", \"10 Fred is either in the school or the bedroom.\\n\", \"13 Julie is either in the kitchen or the bedroom.\\n\", \"1 Julie journeyed to the bedroom.\\n\", \"5 Julie travelled to the bedroom.\\n\", \"6 Is Julie in the bedroom? \\tyes\\t5\\n\", \"13 Fred is either in the bedroom or the bedroom.\\n\", \"14 Julie went to the bedroom.\\n\", \"4 Fred went to the bedroom.\\n\", \"5 Mary is either in the school or the bedroom.\\n\", \"9 Is Fred in the bedroom? \\tyes\\t4\\n\", \"14 Bill journeyed to the bedroom.\\n\", \"2 Fred is in the bedroom.\\n\", \"7 Mary is in the bedroom.\\n\", \"14 Julie is either in the bedroom or the school.\\n\", \"2 Bill moved to the bedroom.\\n\", \"5 Fred moved to the bedroom.\\n\", \"4 Fred moved to the bedroom.\\n\", \"10 Mary is in the bedroom.\\n\", \"3 Is Mary in the bedroom? \\tno\\t2\\n\", \"4 Fred went back to the bedroom.\\n\", \"8 Fred is either in the bedroom or the bedroom.\\n\"], \"hoffset\": 10, \"voffset\": 10}, {\"type\": \"toptoolbar\"}, {\"type\": \"htmltooltip\", \"id\": \"el156442146393465296pts\", \"labels\": [\"8 Bill is either in the school or the office.\\n\", \"11 Julie is either in the school or the office.\\n\", \"14 Bill went back to the office.\\n\", \"15 Is Bill in the office? \\tyes\\t14\\n\", \"1 Fred journeyed to the office.\\n\", \"3 Is Fred in the office? \\tno\\t2\\n\", \"4 Julie is either in the school or the office.\\n\", \"12 Is Bill in the office? \\tno\\t11\\n\", \"4 Fred is either in the office or the kitchen.\\n\", \"7 Julie moved to the office.\\n\", \"8 Mary is either in the office or the kitchen.\\n\", \"7 Bill is either in the office or the kitchen.\\n\", \"11 Mary went back to the office.\\n\", \"15 Is Mary in the office? \\tyes\\t11\\n\", \"9 Is Mary in the office? \\tno\\t7\\n\", \"11 Bill is either in the office or the office.\\n\", \"12 Is Mary in the office? \\tno\\t7\\n\", \"8 Julie is in the office.\\n\", \"13 Mary is either in the kitchen or the office.\\n\", \"7 Mary is in the office.\\n\", \"10 Julie went to the office.\\n\", \"13 Bill went back to the office.\\n\", \"12 Is Fred in the office? \\tmaybe\\t11\\n\", \"1 Fred is in the office.\\n\", \"5 Mary is either in the office or the school.\\n\", \"6 Is Mary in the office? \\tmaybe\\t5\\n\", \"9 Is Mary in the office? \\tmaybe\\t5\\n\"], \"hoffset\": 10, \"voffset\": 10}, {\"type\": \"toptoolbar\"}, {\"type\": \"htmltooltip\", \"id\": \"el156442146374850208pts\", \"labels\": [\"7 Fred went back to the park.\\n\", \"9 Is Bill in the park? \\tno\\t8\\n\", \"12 Is Fred in the park? \\tyes\\t7\\n\", \"13 Julie is either in the park or the school.\\n\", \"13 Julie journeyed to the park.\\n\", \"15 Is Julie in the park? \\tyes\\t13\\n\", \"8 Fred is in the park.\\n\", \"2 Julie travelled to the park.\\n\", \"11 Bill is either in the bedroom or the park.\\n\", \"2 Fred is either in the office or the park.\\n\", \"3 Is Fred in the park? \\tmaybe\\t2\\n\", \"8 Julie is either in the kitchen or the park.\\n\", \"10 Mary is in the park.\\n\", \"5 Mary travelled to the park.\\n\", \"10 Julie is either in the cinema or the park.\\n\", \"13 Bill is either in the park or the park.\\n\", \"7 Julie travelled to the park.\\n\", \"13 Bill is either in the park or the bedroom.\\n\", \"12 Is Mary in the park? \\tno\\t11\\n\", \"6 Is Julie in the park? \\tno\\t5\\n\", \"8 Bill went back to the park.\\n\", \"11 Fred is either in the park or the office.\\n\", \"13 Fred is in the park.\\n\", \"15 Is Fred in the park? \\tyes\\t13\\n\", \"2 Mary is in the park.\\n\"], \"hoffset\": 10, \"voffset\": 10}, {\"type\": \"toptoolbar\"}, {\"type\": \"htmltooltip\", \"id\": \"el156442146369595040pts\", \"labels\": [\"2 Bill is in the kitchen.\\n\", \"1 Bill is in the kitchen.\\n\", \"11 Mary went to the kitchen.\\n\", \"3 Is Julie in the kitchen? \\tno\\t2\\n\", \"9 Is Julie in the kitchen? \\tno\\t7\\n\", \"10 Bill is in the kitchen.\\n\", \"12 Is Mary in the kitchen? \\tmaybe\\t8\\n\", \"15 Is Mary in the kitchen? \\tmaybe\\t8\\n\", \"1 Bill went to the kitchen.\\n\", \"12 Is Mary in the kitchen? \\tno\\t11\\n\", \"13 Bill went back to the kitchen.\\n\", \"4 Julie moved to the kitchen.\\n\", \"6 Is Julie in the kitchen? \\tyes\\t4\\n\", \"8 Fred is either in the kitchen or the kitchen.\\n\", \"1 Fred is in the kitchen.\\n\", \"3 Is Fred in the kitchen? \\tyes\\t1\\n\", \"10 Julie journeyed to the kitchen.\\n\", \"2 Fred travelled to the kitchen.\\n\", \"3 Is Fred in the kitchen? \\tyes\\t2\\n\", \"8 Mary is either in the kitchen or the kitchen.\\n\", \"12 Is Mary in the kitchen? \\tmaybe\\t8\\n\", \"14 Fred is in the kitchen.\\n\", \"15 Is Mary in the kitchen? \\tmaybe\\t8\\n\", \"2 Bill travelled to the kitchen.\\n\", \"5 Julie went back to the kitchen.\\n\", \"7 Mary is in the kitchen.\\n\", \"9 Is Mary in the kitchen? \\tyes\\t7\\n\"], \"hoffset\": 10, \"voffset\": 10}, {\"type\": \"toptoolbar\"}]});\n",
       "   }(mpld3);\n",
       "}else if(typeof define === \"function\" && define.amd){\n",
       "   // require.js is available: use it to load d3/mpld3\n",
       "   require.config({paths: {d3: \"https://mpld3.github.io/js/d3.v3.min\"}});\n",
       "   require([\"d3\"], function(d3){\n",
       "      window.d3 = d3;\n",
       "      mpld3_load_lib(\"https://mpld3.github.io/js/mpld3.v0.3.js\", function(){\n",
       "         \n",
       "    mpld3.register_plugin(\"htmltooltip\", HtmlTooltipPlugin);\n",
       "    HtmlTooltipPlugin.prototype = Object.create(mpld3.Plugin.prototype);\n",
       "    HtmlTooltipPlugin.prototype.constructor = HtmlTooltipPlugin;\n",
       "    HtmlTooltipPlugin.prototype.requiredProps = [\"id\"];\n",
       "    HtmlTooltipPlugin.prototype.defaultProps = {labels:null,\n",
       "                                                hoffset:0,\n",
       "                                                voffset:10};\n",
       "    function HtmlTooltipPlugin(fig, props){\n",
       "        mpld3.Plugin.call(this, fig, props);\n",
       "    };\n",
       "\n",
       "    HtmlTooltipPlugin.prototype.draw = function(){\n",
       "       var obj = mpld3.get_element(this.props.id);\n",
       "       var labels = this.props.labels;\n",
       "       var tooltip = d3.select(\"body\").append(\"div\")\n",
       "                    .attr(\"class\", \"mpld3-tooltip\")\n",
       "                    .style(\"position\", \"absolute\")\n",
       "                    .style(\"z-index\", \"10\")\n",
       "                    .style(\"visibility\", \"hidden\");\n",
       "\n",
       "       obj.elements()\n",
       "           .on(\"mouseover\", function(d, i){\n",
       "                              tooltip.html(labels[i])\n",
       "                                     .style(\"visibility\", \"visible\");})\n",
       "           .on(\"mousemove\", function(d, i){\n",
       "                  tooltip\n",
       "                    .style(\"top\", d3.event.pageY + this.props.voffset + \"px\")\n",
       "                    .style(\"left\",d3.event.pageX + this.props.hoffset + \"px\");\n",
       "                 }.bind(this))\n",
       "           .on(\"mouseout\",  function(d, i){\n",
       "                           tooltip.style(\"visibility\", \"hidden\");});\n",
       "    };\n",
       "    \n",
       "    mpld3.register_plugin(\"toptoolbar\", TopToolbar);\n",
       "    TopToolbar.prototype = Object.create(mpld3.Plugin.prototype);\n",
       "    TopToolbar.prototype.constructor = TopToolbar;\n",
       "    function TopToolbar(fig, props){\n",
       "        mpld3.Plugin.call(this, fig, props);\n",
       "    };\n",
       "\n",
       "    TopToolbar.prototype.draw = function(){\n",
       "      // the toolbar svg doesn't exist\n",
       "      // yet, so first draw it\n",
       "      this.fig.toolbar.draw();\n",
       "\n",
       "      // then change the y position to be\n",
       "      // at the top of the figure\n",
       "      this.fig.toolbar.toolbar.attr(\"x\", 150);\n",
       "      this.fig.toolbar.toolbar.attr(\"y\", 400);\n",
       "\n",
       "      // then remove the draw function,\n",
       "      // so that it is not called again\n",
       "      this.fig.toolbar.draw = function() {}\n",
       "    }\n",
       "    \n",
       "    mpld3.register_plugin(\"htmltooltip\", HtmlTooltipPlugin);\n",
       "    HtmlTooltipPlugin.prototype = Object.create(mpld3.Plugin.prototype);\n",
       "    HtmlTooltipPlugin.prototype.constructor = HtmlTooltipPlugin;\n",
       "    HtmlTooltipPlugin.prototype.requiredProps = [\"id\"];\n",
       "    HtmlTooltipPlugin.prototype.defaultProps = {labels:null,\n",
       "                                                hoffset:0,\n",
       "                                                voffset:10};\n",
       "    function HtmlTooltipPlugin(fig, props){\n",
       "        mpld3.Plugin.call(this, fig, props);\n",
       "    };\n",
       "\n",
       "    HtmlTooltipPlugin.prototype.draw = function(){\n",
       "       var obj = mpld3.get_element(this.props.id);\n",
       "       var labels = this.props.labels;\n",
       "       var tooltip = d3.select(\"body\").append(\"div\")\n",
       "                    .attr(\"class\", \"mpld3-tooltip\")\n",
       "                    .style(\"position\", \"absolute\")\n",
       "                    .style(\"z-index\", \"10\")\n",
       "                    .style(\"visibility\", \"hidden\");\n",
       "\n",
       "       obj.elements()\n",
       "           .on(\"mouseover\", function(d, i){\n",
       "                              tooltip.html(labels[i])\n",
       "                                     .style(\"visibility\", \"visible\");})\n",
       "           .on(\"mousemove\", function(d, i){\n",
       "                  tooltip\n",
       "                    .style(\"top\", d3.event.pageY + this.props.voffset + \"px\")\n",
       "                    .style(\"left\",d3.event.pageX + this.props.hoffset + \"px\");\n",
       "                 }.bind(this))\n",
       "           .on(\"mouseout\",  function(d, i){\n",
       "                           tooltip.style(\"visibility\", \"hidden\");});\n",
       "    };\n",
       "    \n",
       "    mpld3.register_plugin(\"toptoolbar\", TopToolbar);\n",
       "    TopToolbar.prototype = Object.create(mpld3.Plugin.prototype);\n",
       "    TopToolbar.prototype.constructor = TopToolbar;\n",
       "    function TopToolbar(fig, props){\n",
       "        mpld3.Plugin.call(this, fig, props);\n",
       "    };\n",
       "\n",
       "    TopToolbar.prototype.draw = function(){\n",
       "      // the toolbar svg doesn't exist\n",
       "      // yet, so first draw it\n",
       "      this.fig.toolbar.draw();\n",
       "\n",
       "      // then change the y position to be\n",
       "      // at the top of the figure\n",
       "      this.fig.toolbar.toolbar.attr(\"x\", 150);\n",
       "      this.fig.toolbar.toolbar.attr(\"y\", 400);\n",
       "\n",
       "      // then remove the draw function,\n",
       "      // so that it is not called again\n",
       "      this.fig.toolbar.draw = function() {}\n",
       "    }\n",
       "    \n",
       "    mpld3.register_plugin(\"htmltooltip\", HtmlTooltipPlugin);\n",
       "    HtmlTooltipPlugin.prototype = Object.create(mpld3.Plugin.prototype);\n",
       "    HtmlTooltipPlugin.prototype.constructor = HtmlTooltipPlugin;\n",
       "    HtmlTooltipPlugin.prototype.requiredProps = [\"id\"];\n",
       "    HtmlTooltipPlugin.prototype.defaultProps = {labels:null,\n",
       "                                                hoffset:0,\n",
       "                                                voffset:10};\n",
       "    function HtmlTooltipPlugin(fig, props){\n",
       "        mpld3.Plugin.call(this, fig, props);\n",
       "    };\n",
       "\n",
       "    HtmlTooltipPlugin.prototype.draw = function(){\n",
       "       var obj = mpld3.get_element(this.props.id);\n",
       "       var labels = this.props.labels;\n",
       "       var tooltip = d3.select(\"body\").append(\"div\")\n",
       "                    .attr(\"class\", \"mpld3-tooltip\")\n",
       "                    .style(\"position\", \"absolute\")\n",
       "                    .style(\"z-index\", \"10\")\n",
       "                    .style(\"visibility\", \"hidden\");\n",
       "\n",
       "       obj.elements()\n",
       "           .on(\"mouseover\", function(d, i){\n",
       "                              tooltip.html(labels[i])\n",
       "                                     .style(\"visibility\", \"visible\");})\n",
       "           .on(\"mousemove\", function(d, i){\n",
       "                  tooltip\n",
       "                    .style(\"top\", d3.event.pageY + this.props.voffset + \"px\")\n",
       "                    .style(\"left\",d3.event.pageX + this.props.hoffset + \"px\");\n",
       "                 }.bind(this))\n",
       "           .on(\"mouseout\",  function(d, i){\n",
       "                           tooltip.style(\"visibility\", \"hidden\");});\n",
       "    };\n",
       "    \n",
       "    mpld3.register_plugin(\"toptoolbar\", TopToolbar);\n",
       "    TopToolbar.prototype = Object.create(mpld3.Plugin.prototype);\n",
       "    TopToolbar.prototype.constructor = TopToolbar;\n",
       "    function TopToolbar(fig, props){\n",
       "        mpld3.Plugin.call(this, fig, props);\n",
       "    };\n",
       "\n",
       "    TopToolbar.prototype.draw = function(){\n",
       "      // the toolbar svg doesn't exist\n",
       "      // yet, so first draw it\n",
       "      this.fig.toolbar.draw();\n",
       "\n",
       "      // then change the y position to be\n",
       "      // at the top of the figure\n",
       "      this.fig.toolbar.toolbar.attr(\"x\", 150);\n",
       "      this.fig.toolbar.toolbar.attr(\"y\", 400);\n",
       "\n",
       "      // then remove the draw function,\n",
       "      // so that it is not called again\n",
       "      this.fig.toolbar.draw = function() {}\n",
       "    }\n",
       "    \n",
       "    mpld3.register_plugin(\"htmltooltip\", HtmlTooltipPlugin);\n",
       "    HtmlTooltipPlugin.prototype = Object.create(mpld3.Plugin.prototype);\n",
       "    HtmlTooltipPlugin.prototype.constructor = HtmlTooltipPlugin;\n",
       "    HtmlTooltipPlugin.prototype.requiredProps = [\"id\"];\n",
       "    HtmlTooltipPlugin.prototype.defaultProps = {labels:null,\n",
       "                                                hoffset:0,\n",
       "                                                voffset:10};\n",
       "    function HtmlTooltipPlugin(fig, props){\n",
       "        mpld3.Plugin.call(this, fig, props);\n",
       "    };\n",
       "\n",
       "    HtmlTooltipPlugin.prototype.draw = function(){\n",
       "       var obj = mpld3.get_element(this.props.id);\n",
       "       var labels = this.props.labels;\n",
       "       var tooltip = d3.select(\"body\").append(\"div\")\n",
       "                    .attr(\"class\", \"mpld3-tooltip\")\n",
       "                    .style(\"position\", \"absolute\")\n",
       "                    .style(\"z-index\", \"10\")\n",
       "                    .style(\"visibility\", \"hidden\");\n",
       "\n",
       "       obj.elements()\n",
       "           .on(\"mouseover\", function(d, i){\n",
       "                              tooltip.html(labels[i])\n",
       "                                     .style(\"visibility\", \"visible\");})\n",
       "           .on(\"mousemove\", function(d, i){\n",
       "                  tooltip\n",
       "                    .style(\"top\", d3.event.pageY + this.props.voffset + \"px\")\n",
       "                    .style(\"left\",d3.event.pageX + this.props.hoffset + \"px\");\n",
       "                 }.bind(this))\n",
       "           .on(\"mouseout\",  function(d, i){\n",
       "                           tooltip.style(\"visibility\", \"hidden\");});\n",
       "    };\n",
       "    \n",
       "    mpld3.register_plugin(\"toptoolbar\", TopToolbar);\n",
       "    TopToolbar.prototype = Object.create(mpld3.Plugin.prototype);\n",
       "    TopToolbar.prototype.constructor = TopToolbar;\n",
       "    function TopToolbar(fig, props){\n",
       "        mpld3.Plugin.call(this, fig, props);\n",
       "    };\n",
       "\n",
       "    TopToolbar.prototype.draw = function(){\n",
       "      // the toolbar svg doesn't exist\n",
       "      // yet, so first draw it\n",
       "      this.fig.toolbar.draw();\n",
       "\n",
       "      // then change the y position to be\n",
       "      // at the top of the figure\n",
       "      this.fig.toolbar.toolbar.attr(\"x\", 150);\n",
       "      this.fig.toolbar.toolbar.attr(\"y\", 400);\n",
       "\n",
       "      // then remove the draw function,\n",
       "      // so that it is not called again\n",
       "      this.fig.toolbar.draw = function() {}\n",
       "    }\n",
       "    \n",
       "    mpld3.register_plugin(\"htmltooltip\", HtmlTooltipPlugin);\n",
       "    HtmlTooltipPlugin.prototype = Object.create(mpld3.Plugin.prototype);\n",
       "    HtmlTooltipPlugin.prototype.constructor = HtmlTooltipPlugin;\n",
       "    HtmlTooltipPlugin.prototype.requiredProps = [\"id\"];\n",
       "    HtmlTooltipPlugin.prototype.defaultProps = {labels:null,\n",
       "                                                hoffset:0,\n",
       "                                                voffset:10};\n",
       "    function HtmlTooltipPlugin(fig, props){\n",
       "        mpld3.Plugin.call(this, fig, props);\n",
       "    };\n",
       "\n",
       "    HtmlTooltipPlugin.prototype.draw = function(){\n",
       "       var obj = mpld3.get_element(this.props.id);\n",
       "       var labels = this.props.labels;\n",
       "       var tooltip = d3.select(\"body\").append(\"div\")\n",
       "                    .attr(\"class\", \"mpld3-tooltip\")\n",
       "                    .style(\"position\", \"absolute\")\n",
       "                    .style(\"z-index\", \"10\")\n",
       "                    .style(\"visibility\", \"hidden\");\n",
       "\n",
       "       obj.elements()\n",
       "           .on(\"mouseover\", function(d, i){\n",
       "                              tooltip.html(labels[i])\n",
       "                                     .style(\"visibility\", \"visible\");})\n",
       "           .on(\"mousemove\", function(d, i){\n",
       "                  tooltip\n",
       "                    .style(\"top\", d3.event.pageY + this.props.voffset + \"px\")\n",
       "                    .style(\"left\",d3.event.pageX + this.props.hoffset + \"px\");\n",
       "                 }.bind(this))\n",
       "           .on(\"mouseout\",  function(d, i){\n",
       "                           tooltip.style(\"visibility\", \"hidden\");});\n",
       "    };\n",
       "    \n",
       "    mpld3.register_plugin(\"toptoolbar\", TopToolbar);\n",
       "    TopToolbar.prototype = Object.create(mpld3.Plugin.prototype);\n",
       "    TopToolbar.prototype.constructor = TopToolbar;\n",
       "    function TopToolbar(fig, props){\n",
       "        mpld3.Plugin.call(this, fig, props);\n",
       "    };\n",
       "\n",
       "    TopToolbar.prototype.draw = function(){\n",
       "      // the toolbar svg doesn't exist\n",
       "      // yet, so first draw it\n",
       "      this.fig.toolbar.draw();\n",
       "\n",
       "      // then change the y position to be\n",
       "      // at the top of the figure\n",
       "      this.fig.toolbar.toolbar.attr(\"x\", 150);\n",
       "      this.fig.toolbar.toolbar.attr(\"y\", 400);\n",
       "\n",
       "      // then remove the draw function,\n",
       "      // so that it is not called again\n",
       "      this.fig.toolbar.draw = function() {}\n",
       "    }\n",
       "    \n",
       "         mpld3.draw_figure(\"fig_el1564421463430007768547181491\", {\"width\": 1008.0, \"height\": 432.0, \"axes\": [{\"bbox\": [0.125, 0.125, 0.775, 0.755], \"xlim\": [-0.7414220532775794, 0.7555925982512295], \"ylim\": [-0.7874283626020617, 0.8578968253308698], \"xdomain\": [-0.7414220532775794, 0.7555925982512295], \"ydomain\": [-0.7874283626020617, 0.8578968253308698], \"xscale\": \"linear\", \"yscale\": \"linear\", \"axes\": [{\"position\": \"bottom\", \"nticks\": 0, \"tickvalues\": [], \"tickformat\": \"\", \"scale\": \"linear\", \"fontsize\": null, \"grid\": {\"gridOn\": false}, \"visible\": false}, {\"position\": \"left\", \"nticks\": 0, \"tickvalues\": [], \"tickformat\": \"\", \"scale\": \"linear\", \"fontsize\": null, \"grid\": {\"gridOn\": false}, \"visible\": false}], \"axesbg\": \"#FFFFFF\", \"axesbgalpha\": null, \"zoomable\": true, \"id\": \"el156442146375142088\", \"lines\": [], \"paths\": [{\"data\": \"data07\", \"xindex\": 0, \"yindex\": 1, \"coordinates\": \"axes\", \"pathcodes\": [\"M\", \"L\", \"S\", \"L\", \"S\", \"L\", \"S\", \"L\", \"S\", \"Z\"], \"id\": \"el156442146369596608\", \"dasharray\": \"none\", \"alpha\": 0.8, \"facecolor\": \"#FFFFFF\", \"edgecolor\": \"#CCCCCC\", \"edgewidth\": 1.0, \"zorder\": 1000000.0}], \"markers\": [{\"data\": \"data01\", \"xindex\": 0, \"yindex\": 1, \"coordinates\": \"data\", \"id\": \"el156442146393468208pts\", \"facecolor\": \"#1B9E77\", \"edgecolor\": \"none\", \"edgewidth\": 1.0, \"alpha\": 1, \"zorder\": 2, \"markerpath\": [[[0.0, 9.0], [2.3868279, 9.0], [4.676218837063681, 8.051703224294176], [6.3639610306789285, 6.3639610306789285], [8.051703224294176, 4.676218837063681], [9.0, 2.3868279], [9.0, 0.0], [9.0, -2.3868279], [8.051703224294176, -4.676218837063681], [6.3639610306789285, -6.3639610306789285], [4.676218837063681, -8.051703224294176], [2.3868279, -9.0], [0.0, -9.0], [-2.3868279, -9.0], [-4.676218837063681, -8.051703224294176], [-6.3639610306789285, -6.3639610306789285], [-8.051703224294176, -4.676218837063681], [-9.0, -2.3868279], [-9.0, 0.0], [-9.0, 2.3868279], [-8.051703224294176, 4.676218837063681], [-6.3639610306789285, 6.3639610306789285], [-4.676218837063681, 8.051703224294176], [-2.3868279, 9.0], [0.0, 9.0]], [\"M\", \"C\", \"C\", \"C\", \"C\", \"C\", \"C\", \"C\", \"C\", \"Z\"]]}, {\"data\": \"data02\", \"xindex\": 0, \"yindex\": 1, \"coordinates\": \"data\", \"id\": \"el156442146369596440pts\", \"facecolor\": \"#D95F02\", \"edgecolor\": \"none\", \"edgewidth\": 1.0, \"alpha\": 1, \"zorder\": 2, \"markerpath\": [[[0.0, 9.0], [2.3868279, 9.0], [4.676218837063681, 8.051703224294176], [6.3639610306789285, 6.3639610306789285], [8.051703224294176, 4.676218837063681], [9.0, 2.3868279], [9.0, 0.0], [9.0, -2.3868279], [8.051703224294176, -4.676218837063681], [6.3639610306789285, -6.3639610306789285], [4.676218837063681, -8.051703224294176], [2.3868279, -9.0], [0.0, -9.0], [-2.3868279, -9.0], [-4.676218837063681, -8.051703224294176], [-6.3639610306789285, -6.3639610306789285], [-8.051703224294176, -4.676218837063681], [-9.0, -2.3868279], [-9.0, 0.0], [-9.0, 2.3868279], [-8.051703224294176, 4.676218837063681], [-6.3639610306789285, 6.3639610306789285], [-4.676218837063681, 8.051703224294176], [-2.3868279, 9.0], [0.0, 9.0]], [\"M\", \"C\", \"C\", \"C\", \"C\", \"C\", \"C\", \"C\", \"C\", \"Z\"]]}, {\"data\": \"data03\", \"xindex\": 0, \"yindex\": 1, \"coordinates\": \"data\", \"id\": \"el156442146393465296pts\", \"facecolor\": \"#7570B3\", \"edgecolor\": \"none\", \"edgewidth\": 1.0, \"alpha\": 1, \"zorder\": 2, \"markerpath\": [[[0.0, 9.0], [2.3868279, 9.0], [4.676218837063681, 8.051703224294176], [6.3639610306789285, 6.3639610306789285], [8.051703224294176, 4.676218837063681], [9.0, 2.3868279], [9.0, 0.0], [9.0, -2.3868279], [8.051703224294176, -4.676218837063681], [6.3639610306789285, -6.3639610306789285], [4.676218837063681, -8.051703224294176], [2.3868279, -9.0], [0.0, -9.0], [-2.3868279, -9.0], [-4.676218837063681, -8.051703224294176], [-6.3639610306789285, -6.3639610306789285], [-8.051703224294176, -4.676218837063681], [-9.0, -2.3868279], [-9.0, 0.0], [-9.0, 2.3868279], [-8.051703224294176, 4.676218837063681], [-6.3639610306789285, 6.3639610306789285], [-4.676218837063681, 8.051703224294176], [-2.3868279, 9.0], [0.0, 9.0]], [\"M\", \"C\", \"C\", \"C\", \"C\", \"C\", \"C\", \"C\", \"C\", \"Z\"]]}, {\"data\": \"data04\", \"xindex\": 0, \"yindex\": 1, \"coordinates\": \"data\", \"id\": \"el156442146374850208pts\", \"facecolor\": \"#E7298A\", \"edgecolor\": \"none\", \"edgewidth\": 1.0, \"alpha\": 1, \"zorder\": 2, \"markerpath\": [[[0.0, 9.0], [2.3868279, 9.0], [4.676218837063681, 8.051703224294176], [6.3639610306789285, 6.3639610306789285], [8.051703224294176, 4.676218837063681], [9.0, 2.3868279], [9.0, 0.0], [9.0, -2.3868279], [8.051703224294176, -4.676218837063681], [6.3639610306789285, -6.3639610306789285], [4.676218837063681, -8.051703224294176], [2.3868279, -9.0], [0.0, -9.0], [-2.3868279, -9.0], [-4.676218837063681, -8.051703224294176], [-6.3639610306789285, -6.3639610306789285], [-8.051703224294176, -4.676218837063681], [-9.0, -2.3868279], [-9.0, 0.0], [-9.0, 2.3868279], [-8.051703224294176, 4.676218837063681], [-6.3639610306789285, 6.3639610306789285], [-4.676218837063681, 8.051703224294176], [-2.3868279, 9.0], [0.0, 9.0]], [\"M\", \"C\", \"C\", \"C\", \"C\", \"C\", \"C\", \"C\", \"C\", \"Z\"]]}, {\"data\": \"data05\", \"xindex\": 0, \"yindex\": 1, \"coordinates\": \"data\", \"id\": \"el156442146369595040pts\", \"facecolor\": \"#66A61E\", \"edgecolor\": \"none\", \"edgewidth\": 1.0, \"alpha\": 1, \"zorder\": 2, \"markerpath\": [[[0.0, 9.0], [2.3868279, 9.0], [4.676218837063681, 8.051703224294176], [6.3639610306789285, 6.3639610306789285], [8.051703224294176, 4.676218837063681], [9.0, 2.3868279], [9.0, 0.0], [9.0, -2.3868279], [8.051703224294176, -4.676218837063681], [6.3639610306789285, -6.3639610306789285], [4.676218837063681, -8.051703224294176], [2.3868279, -9.0], [0.0, -9.0], [-2.3868279, -9.0], [-4.676218837063681, -8.051703224294176], [-6.3639610306789285, -6.3639610306789285], [-8.051703224294176, -4.676218837063681], [-9.0, -2.3868279], [-9.0, 0.0], [-9.0, 2.3868279], [-8.051703224294176, 4.676218837063681], [-6.3639610306789285, 6.3639610306789285], [-4.676218837063681, 8.051703224294176], [-2.3868279, 9.0], [0.0, 9.0]], [\"M\", \"C\", \"C\", \"C\", \"C\", \"C\", \"C\", \"C\", \"C\", \"Z\"]]}, {\"data\": \"data06\", \"xindex\": 0, \"yindex\": 1, \"coordinates\": \"axes\", \"id\": \"el156442146294954472pts\", \"facecolor\": \"#1B9E77\", \"edgecolor\": \"none\", \"edgewidth\": 1.0, \"alpha\": 1, \"zorder\": 1000002.0, \"markerpath\": [[[0.0, 9.0], [2.3868279, 9.0], [4.676218837063681, 8.051703224294176], [6.3639610306789285, 6.3639610306789285], [8.051703224294176, 4.676218837063681], [9.0, 2.3868279], [9.0, 0.0], [9.0, -2.3868279], [8.051703224294176, -4.676218837063681], [6.3639610306789285, -6.3639610306789285], [4.676218837063681, -8.051703224294176], [2.3868279, -9.0], [0.0, -9.0], [-2.3868279, -9.0], [-4.676218837063681, -8.051703224294176], [-6.3639610306789285, -6.3639610306789285], [-8.051703224294176, -4.676218837063681], [-9.0, -2.3868279], [-9.0, 0.0], [-9.0, 2.3868279], [-8.051703224294176, 4.676218837063681], [-6.3639610306789285, 6.3639610306789285], [-4.676218837063681, 8.051703224294176], [-2.3868279, 9.0], [0.0, 9.0]], [\"M\", \"C\", \"C\", \"C\", \"C\", \"C\", \"C\", \"C\", \"C\", \"Z\"]]}, {\"data\": \"data06\", \"xindex\": 0, \"yindex\": 2, \"coordinates\": \"axes\", \"id\": \"el156442146375029928pts\", \"facecolor\": \"#D95F02\", \"edgecolor\": \"none\", \"edgewidth\": 1.0, \"alpha\": 1, \"zorder\": 1000002.0, \"markerpath\": [[[0.0, 9.0], [2.3868279, 9.0], [4.676218837063681, 8.051703224294176], [6.3639610306789285, 6.3639610306789285], [8.051703224294176, 4.676218837063681], [9.0, 2.3868279], [9.0, 0.0], [9.0, -2.3868279], [8.051703224294176, -4.676218837063681], [6.3639610306789285, -6.3639610306789285], [4.676218837063681, -8.051703224294176], [2.3868279, -9.0], [0.0, -9.0], [-2.3868279, -9.0], [-4.676218837063681, -8.051703224294176], [-6.3639610306789285, -6.3639610306789285], [-8.051703224294176, -4.676218837063681], [-9.0, -2.3868279], [-9.0, 0.0], [-9.0, 2.3868279], [-8.051703224294176, 4.676218837063681], [-6.3639610306789285, 6.3639610306789285], [-4.676218837063681, 8.051703224294176], [-2.3868279, 9.0], [0.0, 9.0]], [\"M\", \"C\", \"C\", \"C\", \"C\", \"C\", \"C\", \"C\", \"C\", \"Z\"]]}, {\"data\": \"data06\", \"xindex\": 0, \"yindex\": 3, \"coordinates\": \"axes\", \"id\": \"el156442146375031832pts\", \"facecolor\": \"#7570B3\", \"edgecolor\": \"none\", \"edgewidth\": 1.0, \"alpha\": 1, \"zorder\": 1000002.0, \"markerpath\": [[[0.0, 9.0], [2.3868279, 9.0], [4.676218837063681, 8.051703224294176], [6.3639610306789285, 6.3639610306789285], [8.051703224294176, 4.676218837063681], [9.0, 2.3868279], [9.0, 0.0], [9.0, -2.3868279], [8.051703224294176, -4.676218837063681], [6.3639610306789285, -6.3639610306789285], [4.676218837063681, -8.051703224294176], [2.3868279, -9.0], [0.0, -9.0], [-2.3868279, -9.0], [-4.676218837063681, -8.051703224294176], [-6.3639610306789285, -6.3639610306789285], [-8.051703224294176, -4.676218837063681], [-9.0, -2.3868279], [-9.0, 0.0], [-9.0, 2.3868279], [-8.051703224294176, 4.676218837063681], [-6.3639610306789285, 6.3639610306789285], [-4.676218837063681, 8.051703224294176], [-2.3868279, 9.0], [0.0, 9.0]], [\"M\", \"C\", \"C\", \"C\", \"C\", \"C\", \"C\", \"C\", \"C\", \"Z\"]]}, {\"data\": \"data06\", \"xindex\": 0, \"yindex\": 4, \"coordinates\": \"axes\", \"id\": \"el156442146374957376pts\", \"facecolor\": \"#E7298A\", \"edgecolor\": \"none\", \"edgewidth\": 1.0, \"alpha\": 1, \"zorder\": 1000002.0, \"markerpath\": [[[0.0, 9.0], [2.3868279, 9.0], [4.676218837063681, 8.051703224294176], [6.3639610306789285, 6.3639610306789285], [8.051703224294176, 4.676218837063681], [9.0, 2.3868279], [9.0, 0.0], [9.0, -2.3868279], [8.051703224294176, -4.676218837063681], [6.3639610306789285, -6.3639610306789285], [4.676218837063681, -8.051703224294176], [2.3868279, -9.0], [0.0, -9.0], [-2.3868279, -9.0], [-4.676218837063681, -8.051703224294176], [-6.3639610306789285, -6.3639610306789285], [-8.051703224294176, -4.676218837063681], [-9.0, -2.3868279], [-9.0, 0.0], [-9.0, 2.3868279], [-8.051703224294176, 4.676218837063681], [-6.3639610306789285, 6.3639610306789285], [-4.676218837063681, 8.051703224294176], [-2.3868279, 9.0], [0.0, 9.0]], [\"M\", \"C\", \"C\", \"C\", \"C\", \"C\", \"C\", \"C\", \"C\", \"Z\"]]}, {\"data\": \"data06\", \"xindex\": 0, \"yindex\": 5, \"coordinates\": \"axes\", \"id\": \"el156442146374955696pts\", \"facecolor\": \"#66A61E\", \"edgecolor\": \"none\", \"edgewidth\": 1.0, \"alpha\": 1, \"zorder\": 1000002.0, \"markerpath\": [[[0.0, 9.0], [2.3868279, 9.0], [4.676218837063681, 8.051703224294176], [6.3639610306789285, 6.3639610306789285], [8.051703224294176, 4.676218837063681], [9.0, 2.3868279], [9.0, 0.0], [9.0, -2.3868279], [8.051703224294176, -4.676218837063681], [6.3639610306789285, -6.3639610306789285], [4.676218837063681, -8.051703224294176], [2.3868279, -9.0], [0.0, -9.0], [-2.3868279, -9.0], [-4.676218837063681, -8.051703224294176], [-6.3639610306789285, -6.3639610306789285], [-8.051703224294176, -4.676218837063681], [-9.0, -2.3868279], [-9.0, 0.0], [-9.0, 2.3868279], [-8.051703224294176, 4.676218837063681], [-6.3639610306789285, 6.3639610306789285], [-4.676218837063681, 8.051703224294176], [-2.3868279, 9.0], [0.0, 9.0]], [\"M\", \"C\", \"C\", \"C\", \"C\", \"C\", \"C\", \"C\", \"C\", \"Z\"]]}], \"texts\": [{\"text\": \"cluster1\", \"position\": [0.936635944700461, 0.9478783419180772], \"coordinates\": \"axes\", \"h_anchor\": \"start\", \"v_baseline\": \"auto\", \"rotation\": -0.0, \"fontsize\": 10.0, \"color\": \"#000000\", \"alpha\": 1, \"zorder\": 1000003.0, \"id\": \"el156442146374712232\"}, {\"text\": \"cluster2\", \"position\": [0.936635944700461, 0.901888643610498], \"coordinates\": \"axes\", \"h_anchor\": \"start\", \"v_baseline\": \"auto\", \"rotation\": -0.0, \"fontsize\": 10.0, \"color\": \"#000000\", \"alpha\": 1, \"zorder\": 1000003.0, \"id\": \"el156442146375029368\"}, {\"text\": \"cluster3\", \"position\": [0.936635944700461, 0.8558989453029189], \"coordinates\": \"axes\", \"h_anchor\": \"start\", \"v_baseline\": \"auto\", \"rotation\": -0.0, \"fontsize\": 10.0, \"color\": \"#000000\", \"alpha\": 1, \"zorder\": 1000003.0, \"id\": \"el156442146375031328\"}, {\"text\": \"cluster4\", \"position\": [0.936635944700461, 0.8099092469953398], \"coordinates\": \"axes\", \"h_anchor\": \"start\", \"v_baseline\": \"auto\", \"rotation\": -0.0, \"fontsize\": 10.0, \"color\": \"#000000\", \"alpha\": 1, \"zorder\": 1000003.0, \"id\": \"el156442146374956760\"}, {\"text\": \"cluster5\", \"position\": [0.936635944700461, 0.7639195486877607], \"coordinates\": \"axes\", \"h_anchor\": \"start\", \"v_baseline\": \"auto\", \"rotation\": -0.0, \"fontsize\": 10.0, \"color\": \"#000000\", \"alpha\": 1, \"zorder\": 1000003.0, \"id\": \"el156442146374956816\"}], \"collections\": [], \"images\": [], \"sharex\": [], \"sharey\": []}], \"data\": {\"data01\": [[-0.06086970277312786, -0.10211006319101368], [-0.4699450168795918, 0.5048690529080175], [-0.4028953607914287, 0.4542812867832512], [-0.36324138670312645, 0.5133642878764872], [-0.6452707063495252, 0.28225997785352197], [-0.6405536798633688, 0.1915404781986741], [-0.3523652724157751, 0.09536885819075795], [-0.4089207860630646, 0.03686946552843164], [-0.060869702757120295, -0.1021100631878896], [-0.5226248061536463, 0.24528788312177974], [-0.3456680473510283, 0.19253853416653047], [-0.48706230417512386, 0.07894907819514164], [-0.3523652724157746, 0.09536885819075791], [-0.4089207860418415, 0.036869465522817536], [-0.13770051111524456, 0.16936068192959033], [-0.6452707058301989, 0.28225997896423716], [-0.3523652724157768, 0.0953688581907578], [-0.46994491894007384, 0.5048691388749377], [-0.13770051111446902, 0.1693606819284188], [-0.5070679316650933, 0.5336566276519839], [-0.34566804722248257, 0.19253853426232037], [-0.6695816386665332, 0.3648862893431289], [-0.35236527241577476, 0.095368858190758], [-0.3456680472764141, 0.19253853422213146], [-0.060869703513170996, -0.10211006333566462], [-0.4427555724241844, -0.7408625553964128], [-0.6452705192866054, 0.2822603779354404], [-0.06086970277731063, -0.1021100631918311], [-0.24815080946501109, 0.40663448286564924], [-0.13770051111522424, 0.16936068192955717], [-0.13107998483631947, 0.27162617399210803], [-0.13107998484197175, 0.2716261739992492], [-0.13770051111523582, 0.16936068192957665], [-0.06086970275479492, -0.1021100631874347], [-0.6452707088838822, 0.28225997243314577], [-0.5116673416287244, 0.3986086535819442], [-0.6405539161680902, 0.191539826899493], [-0.6990537140833678, 0.26118598195418957], [-0.1310799848427544, 0.27162617400023814], [-0.5723830502612478, -0.6529399967091796], [-0.29922359662356796, 0.8113310181252208]], \"data02\": [[0.3464141261001386, 0.6268913607989324], [0.3464141260995286, 0.6268913607992738], [0.16262053318509834, 0.6677548645376044], [0.2023579937840426, 0.1379412526665713], [0.042946825861458246, 0.5181719676510936], [0.22855400107239762, 0.6251942365676482], [0.34641412609716404, 0.626891360800592], [0.32818296029322347, 0.49298495602741904], [0.12869403913612834, 0.54846384878142], [0.422999100859462, 0.23529017885240278], [0.1286940391361014, 0.5484638487814404], [0.094071293334063, 0.38107002929792744], [0.20235799386018513, 0.13794125283839892], [0.1286940391360845, 0.5484638487814525], [0.1286940391360826, 0.5484638487814542], [-0.0024695448315977574, 0.5270308779751693], [0.32846753467872186, 0.5471806194142192], [0.07587988690293317, 0.5000310416183851], [0.25166081728636347, 0.4575920595818618], [0.17055413255527904, 0.2709547076699232], [0.2779535152247483, 0.4219859631861406], [0.3464141260953316, 0.6268913608016143], [0.3281829602932263, 0.4929849560274177], [0.46202256735603675, 0.3590468152160004], [-0.014673928308324941, 0.40372601328027774], [0.34641412610037997, 0.6268913607987983], [0.3281829602932251, 0.4929849560274184], [0.3281829602932242, 0.49298495602741876], [0.4620225673560366, 0.3590468152160004], [0.46202256735603664, 0.3590468152160003], [0.25166081742881136, 0.4575920595134331], [0.32846753467871864, 0.547180619414221]], \"data03\": [[0.4305903642908656, -0.015550143643338264], [0.12797658127900347, 0.005292009890945377], [0.6691871138925762, 0.029848639906780383], [0.6620679548204845, -0.11194702899513373], [0.5858221156508514, -0.0005458182468270199], [0.5858221156508516, -0.0005458182468290417], [0.12797658128248743, 0.005292009890244124], [0.7132242590548166, -0.11978879949354088], [0.3814485453693593, -0.32227141819231925], [0.49271640000247724, -0.04984740439750057], [0.4136806342857851, -0.41397025615695365], [0.4638533285703712, -0.43937649895330744], [0.5382653697912902, -0.17355282644107906], [0.5133017519854378, -0.2538349364173227], [0.5840916087774024, -0.25245082310969674], [0.7132242590570179, -0.11978879948014595], [0.5840916087774024, -0.2524508231096979], [0.49271640025353347, -0.04984740273392374], [0.4136806342857853, -0.41397025615695376], [0.5840916087774024, -0.252450823109697], [0.43514940514675865, 0.043678948064989426], [0.669187116011788, 0.02984862517081278], [0.5858221156508516, -0.0005458182468270374], [0.5858221156508517, -0.000545818246827049], [0.3841318912732724, -0.15070461511717617], [0.5840916087774021, -0.2524508231096977], [0.5840916087774022, -0.2524508231096976]], \"data04\": [[-0.24219548900883459, 0.3133318228731128], [-0.6344381422193089, -0.35673140918376595], [-0.4572771988787097, -0.2413659916703494], [-0.46379971874453574, -0.07357256532220413], [-0.5876201173450134, -0.21215516510543803], [-0.5652567287545667, -0.1649872224502721], [-0.4832986022528809, -0.2973389469535139], [-0.5876201173450143, -0.21215516510543808], [-0.004561304227718988, 0.615247365863656], [0.3171190604679055, -0.09096166475812884], [-0.4832986022528705, -0.2973389469535009], [-0.26735272730174986, -0.43892093598439835], [-0.3947001244854639, -0.44530193908166765], [-0.39470012448546166, -0.4453019390816698], [-0.6598334979074862, 0.0033182610787580416], [-0.6344381422602564, -0.3567314091255513], [-0.5876201173450797, -0.21215516510529173], [-0.004561304242663941, 0.6152473658611529], [-0.3947001244853901, -0.4453019390817301], [-0.5876201173450725, -0.2121551651053078], [-0.4110010209664606, 0.3866506140196601], [0.3171190604715991, -0.09096166475537182], [-0.4806539805671432, -0.2964100251854758], [-0.4574584485468176, -0.24142366282112848], [-0.39470012448539044, -0.4453019390817298]], \"data05\": [[0.12342737579834226, -0.6959668848215677], [0.12342737578098864, -0.6959668848239431], [0.25365002645241796, -0.47387953401995697], [-0.07897181269870303, -0.5346623059770675], [-0.07897181269870303, -0.5346623059770675], [0.12342737577958687, -0.6959668848241354], [0.24829311942018872, -0.5780758326275306], [0.24829311942018834, -0.578075832627531], [0.04412268461704224, -0.6218095041256826], [0.24829311942019208, -0.578075832627529], [0.0441226891411833, -0.6218095024073286], [-0.078971812698703, -0.5346623059770677], [-0.1411902653165322, -0.466388300423134], [0.11452653202795765, -0.5931270611937041], [0.12320895583018583, -0.4763369520613763], [0.037410384965776956, -0.4170827930230344], [-0.07897181269870301, -0.5346623059770675], [0.12320895583389681, -0.47633695205893717], [0.03741038511312798, -0.41708279293092837], [0.19676478244082304, -0.619176743383313], [0.248293119420189, -0.5780758326275305], [0.12320895583021343, -0.47633695206135834], [0.24829311942018834, -0.5780758326275308], [0.1234273757800949, -0.6959668848240655], [-0.06787802129622614, -0.41148156858934726], [0.24829311942018903, -0.5780758326275305], [0.15362578703243263, -0.5353475652371336]], \"data06\": [[0.913594470046083, 0.958609271523179, 0.9126195732155998, 0.8666298749080207, 0.8206401766004416, 0.7746504782928625]], \"data07\": [[0.8982334869431644, 0.745523669364729], [0.9910394265232977, 0.745523669364729], [0.9935995903737841, 0.745523669364729], [0.9935995903737841, 0.7516556291390729], [0.9935995903737841, 0.9785381407897964], [0.9935995903737841, 0.9846701005641403], [0.9910394265232977, 0.9846701005641403], [0.8982334869431644, 0.9846701005641403], [0.895673323092678, 0.9846701005641403], [0.895673323092678, 0.9785381407897964], [0.895673323092678, 0.7516556291390729], [0.895673323092678, 0.745523669364729], [0.8982334869431644, 0.745523669364729]]}, \"id\": \"el156442146343000776\", \"plugins\": [{\"type\": \"reset\"}, {\"type\": \"zoom\", \"button\": true, \"enabled\": false}, {\"type\": \"boxzoom\", \"button\": true, \"enabled\": false}, {\"type\": \"htmltooltip\", \"id\": \"el156442146393468208pts\", \"labels\": [\"1 Mary is in the school.\\n\", \"5 Fred travelled to the cinema.\\n\", \"10 Mary went to the cinema.\\n\", \"2 Fred went back to the cinema.\\n\", \"5 Julie moved to the cinema.\\n\", \"6 Is Julie in the cinema? \\tyes\\t5\\n\", \"8 Julie journeyed to the school.\\n\", \"9 Is Julie in the school? \\tyes\\t8\\n\", \"14 Mary travelled to the school.\\n\", \"2 Julie is either in the school or the cinema.\\n\", \"5 Bill is in the school.\\n\", \"12 Is Bill in the school? \\tyes\\t5\\n\", \"14 Julie is in the school.\\n\", \"15 Is Julie in the school? \\tyes\\t14\\n\", \"6 Is Fred in the school? \\tno\\t4\\n\", \"1 Julie journeyed to the cinema.\\n\", \"3 Is Julie in the school? \\tno\\t1\\n\", \"15 Is Fred in the cinema? \\tno\\t8\\n\", \"4 Fred is in the school.\\n\", \"5 Bill went to the cinema.\\n\", \"6 Is Bill in the school? \\tno\\t5\\n\", \"9 Is Bill in the cinema? \\tyes\\t5\\n\", \"12 Is Julie in the school? \\tno\\t8\\n\", \"14 Bill is in the school.\\n\", \"15 Is Mary in the school? \\tmaybe\\t11\\n\", \"\\n\", \"1 Julie moved to the cinema.\\n\", \"11 Mary journeyed to the school.\\n\", \"14 Bill went to the school.\\n\", \"15 Is Fred in the school? \\tno\\t10\\n\", \"1 Fred went to the school.\\n\", \"4 Fred went back to the school.\\n\", \"6 Is Fred in the school? \\tno\\t5\\n\", \"9 Is Mary in the school? \\tno\\t8\\n\", \"11 Julie moved to the cinema.\\n\", \"1 Julie went back to the cinema.\\n\", \"3 Is Julie in the cinema? \\tyes\\t1\\n\", \"14 Mary is either in the cinema or the cinema.\\n\", \"7 Fred went back to the school.\\n\", \"\\n\", \"\\n\"], \"hoffset\": 10, \"voffset\": 10}, {\"type\": \"toptoolbar\"}, {\"type\": \"htmltooltip\", \"id\": \"el156442146369596440pts\", \"labels\": [\"3 Is Bill in the bedroom? \\tno\\t2\\n\", \"4 Bill journeyed to the bedroom.\\n\", \"6 Is Bill in the bedroom? \\tyes\\t4\\n\", \"7 Julie is either in the kitchen or the bedroom.\\n\", \"10 Bill is either in the bedroom or the school.\\n\", \"11 Bill went to the bedroom.\\n\", \"3 Is Bill in the bedroom? \\tno\\t1\\n\", \"4 Fred is in the bedroom.\\n\", \"6 Is Julie in the bedroom? \\tno\\t2\\n\", \"7 Julie is either in the bedroom or the office.\\n\", \"9 Is Julie in the bedroom? \\tmaybe\\t7\\n\", \"10 Fred is either in the school or the bedroom.\\n\", \"13 Julie is either in the kitchen or the bedroom.\\n\", \"1 Julie journeyed to the bedroom.\\n\", \"5 Julie travelled to the bedroom.\\n\", \"6 Is Julie in the bedroom? \\tyes\\t5\\n\", \"13 Fred is either in the bedroom or the bedroom.\\n\", \"14 Julie went to the bedroom.\\n\", \"4 Fred went to the bedroom.\\n\", \"5 Mary is either in the school or the bedroom.\\n\", \"9 Is Fred in the bedroom? \\tyes\\t4\\n\", \"14 Bill journeyed to the bedroom.\\n\", \"2 Fred is in the bedroom.\\n\", \"7 Mary is in the bedroom.\\n\", \"14 Julie is either in the bedroom or the school.\\n\", \"2 Bill moved to the bedroom.\\n\", \"5 Fred moved to the bedroom.\\n\", \"4 Fred moved to the bedroom.\\n\", \"10 Mary is in the bedroom.\\n\", \"3 Is Mary in the bedroom? \\tno\\t2\\n\", \"4 Fred went back to the bedroom.\\n\", \"8 Fred is either in the bedroom or the bedroom.\\n\"], \"hoffset\": 10, \"voffset\": 10}, {\"type\": \"toptoolbar\"}, {\"type\": \"htmltooltip\", \"id\": \"el156442146393465296pts\", \"labels\": [\"8 Bill is either in the school or the office.\\n\", \"11 Julie is either in the school or the office.\\n\", \"14 Bill went back to the office.\\n\", \"15 Is Bill in the office? \\tyes\\t14\\n\", \"1 Fred journeyed to the office.\\n\", \"3 Is Fred in the office? \\tno\\t2\\n\", \"4 Julie is either in the school or the office.\\n\", \"12 Is Bill in the office? \\tno\\t11\\n\", \"4 Fred is either in the office or the kitchen.\\n\", \"7 Julie moved to the office.\\n\", \"8 Mary is either in the office or the kitchen.\\n\", \"7 Bill is either in the office or the kitchen.\\n\", \"11 Mary went back to the office.\\n\", \"15 Is Mary in the office? \\tyes\\t11\\n\", \"9 Is Mary in the office? \\tno\\t7\\n\", \"11 Bill is either in the office or the office.\\n\", \"12 Is Mary in the office? \\tno\\t7\\n\", \"8 Julie is in the office.\\n\", \"13 Mary is either in the kitchen or the office.\\n\", \"7 Mary is in the office.\\n\", \"10 Julie went to the office.\\n\", \"13 Bill went back to the office.\\n\", \"12 Is Fred in the office? \\tmaybe\\t11\\n\", \"1 Fred is in the office.\\n\", \"5 Mary is either in the office or the school.\\n\", \"6 Is Mary in the office? \\tmaybe\\t5\\n\", \"9 Is Mary in the office? \\tmaybe\\t5\\n\"], \"hoffset\": 10, \"voffset\": 10}, {\"type\": \"toptoolbar\"}, {\"type\": \"htmltooltip\", \"id\": \"el156442146374850208pts\", \"labels\": [\"7 Fred went back to the park.\\n\", \"9 Is Bill in the park? \\tno\\t8\\n\", \"12 Is Fred in the park? \\tyes\\t7\\n\", \"13 Julie is either in the park or the school.\\n\", \"13 Julie journeyed to the park.\\n\", \"15 Is Julie in the park? \\tyes\\t13\\n\", \"8 Fred is in the park.\\n\", \"2 Julie travelled to the park.\\n\", \"11 Bill is either in the bedroom or the park.\\n\", \"2 Fred is either in the office or the park.\\n\", \"3 Is Fred in the park? \\tmaybe\\t2\\n\", \"8 Julie is either in the kitchen or the park.\\n\", \"10 Mary is in the park.\\n\", \"5 Mary travelled to the park.\\n\", \"10 Julie is either in the cinema or the park.\\n\", \"13 Bill is either in the park or the park.\\n\", \"7 Julie travelled to the park.\\n\", \"13 Bill is either in the park or the bedroom.\\n\", \"12 Is Mary in the park? \\tno\\t11\\n\", \"6 Is Julie in the park? \\tno\\t5\\n\", \"8 Bill went back to the park.\\n\", \"11 Fred is either in the park or the office.\\n\", \"13 Fred is in the park.\\n\", \"15 Is Fred in the park? \\tyes\\t13\\n\", \"2 Mary is in the park.\\n\"], \"hoffset\": 10, \"voffset\": 10}, {\"type\": \"toptoolbar\"}, {\"type\": \"htmltooltip\", \"id\": \"el156442146369595040pts\", \"labels\": [\"2 Bill is in the kitchen.\\n\", \"1 Bill is in the kitchen.\\n\", \"11 Mary went to the kitchen.\\n\", \"3 Is Julie in the kitchen? \\tno\\t2\\n\", \"9 Is Julie in the kitchen? \\tno\\t7\\n\", \"10 Bill is in the kitchen.\\n\", \"12 Is Mary in the kitchen? \\tmaybe\\t8\\n\", \"15 Is Mary in the kitchen? \\tmaybe\\t8\\n\", \"1 Bill went to the kitchen.\\n\", \"12 Is Mary in the kitchen? \\tno\\t11\\n\", \"13 Bill went back to the kitchen.\\n\", \"4 Julie moved to the kitchen.\\n\", \"6 Is Julie in the kitchen? \\tyes\\t4\\n\", \"8 Fred is either in the kitchen or the kitchen.\\n\", \"1 Fred is in the kitchen.\\n\", \"3 Is Fred in the kitchen? \\tyes\\t1\\n\", \"10 Julie journeyed to the kitchen.\\n\", \"2 Fred travelled to the kitchen.\\n\", \"3 Is Fred in the kitchen? \\tyes\\t2\\n\", \"8 Mary is either in the kitchen or the kitchen.\\n\", \"12 Is Mary in the kitchen? \\tmaybe\\t8\\n\", \"14 Fred is in the kitchen.\\n\", \"15 Is Mary in the kitchen? \\tmaybe\\t8\\n\", \"2 Bill travelled to the kitchen.\\n\", \"5 Julie went back to the kitchen.\\n\", \"7 Mary is in the kitchen.\\n\", \"9 Is Mary in the kitchen? \\tyes\\t7\\n\"], \"hoffset\": 10, \"voffset\": 10}, {\"type\": \"toptoolbar\"}]});\n",
       "      });\n",
       "    });\n",
       "}else{\n",
       "    // require.js not available: dynamically load d3 & mpld3\n",
       "    mpld3_load_lib(\"https://mpld3.github.io/js/d3.v3.min.js\", function(){\n",
       "         mpld3_load_lib(\"https://mpld3.github.io/js/mpld3.v0.3.js\", function(){\n",
       "                 \n",
       "    mpld3.register_plugin(\"htmltooltip\", HtmlTooltipPlugin);\n",
       "    HtmlTooltipPlugin.prototype = Object.create(mpld3.Plugin.prototype);\n",
       "    HtmlTooltipPlugin.prototype.constructor = HtmlTooltipPlugin;\n",
       "    HtmlTooltipPlugin.prototype.requiredProps = [\"id\"];\n",
       "    HtmlTooltipPlugin.prototype.defaultProps = {labels:null,\n",
       "                                                hoffset:0,\n",
       "                                                voffset:10};\n",
       "    function HtmlTooltipPlugin(fig, props){\n",
       "        mpld3.Plugin.call(this, fig, props);\n",
       "    };\n",
       "\n",
       "    HtmlTooltipPlugin.prototype.draw = function(){\n",
       "       var obj = mpld3.get_element(this.props.id);\n",
       "       var labels = this.props.labels;\n",
       "       var tooltip = d3.select(\"body\").append(\"div\")\n",
       "                    .attr(\"class\", \"mpld3-tooltip\")\n",
       "                    .style(\"position\", \"absolute\")\n",
       "                    .style(\"z-index\", \"10\")\n",
       "                    .style(\"visibility\", \"hidden\");\n",
       "\n",
       "       obj.elements()\n",
       "           .on(\"mouseover\", function(d, i){\n",
       "                              tooltip.html(labels[i])\n",
       "                                     .style(\"visibility\", \"visible\");})\n",
       "           .on(\"mousemove\", function(d, i){\n",
       "                  tooltip\n",
       "                    .style(\"top\", d3.event.pageY + this.props.voffset + \"px\")\n",
       "                    .style(\"left\",d3.event.pageX + this.props.hoffset + \"px\");\n",
       "                 }.bind(this))\n",
       "           .on(\"mouseout\",  function(d, i){\n",
       "                           tooltip.style(\"visibility\", \"hidden\");});\n",
       "    };\n",
       "    \n",
       "    mpld3.register_plugin(\"toptoolbar\", TopToolbar);\n",
       "    TopToolbar.prototype = Object.create(mpld3.Plugin.prototype);\n",
       "    TopToolbar.prototype.constructor = TopToolbar;\n",
       "    function TopToolbar(fig, props){\n",
       "        mpld3.Plugin.call(this, fig, props);\n",
       "    };\n",
       "\n",
       "    TopToolbar.prototype.draw = function(){\n",
       "      // the toolbar svg doesn't exist\n",
       "      // yet, so first draw it\n",
       "      this.fig.toolbar.draw();\n",
       "\n",
       "      // then change the y position to be\n",
       "      // at the top of the figure\n",
       "      this.fig.toolbar.toolbar.attr(\"x\", 150);\n",
       "      this.fig.toolbar.toolbar.attr(\"y\", 400);\n",
       "\n",
       "      // then remove the draw function,\n",
       "      // so that it is not called again\n",
       "      this.fig.toolbar.draw = function() {}\n",
       "    }\n",
       "    \n",
       "    mpld3.register_plugin(\"htmltooltip\", HtmlTooltipPlugin);\n",
       "    HtmlTooltipPlugin.prototype = Object.create(mpld3.Plugin.prototype);\n",
       "    HtmlTooltipPlugin.prototype.constructor = HtmlTooltipPlugin;\n",
       "    HtmlTooltipPlugin.prototype.requiredProps = [\"id\"];\n",
       "    HtmlTooltipPlugin.prototype.defaultProps = {labels:null,\n",
       "                                                hoffset:0,\n",
       "                                                voffset:10};\n",
       "    function HtmlTooltipPlugin(fig, props){\n",
       "        mpld3.Plugin.call(this, fig, props);\n",
       "    };\n",
       "\n",
       "    HtmlTooltipPlugin.prototype.draw = function(){\n",
       "       var obj = mpld3.get_element(this.props.id);\n",
       "       var labels = this.props.labels;\n",
       "       var tooltip = d3.select(\"body\").append(\"div\")\n",
       "                    .attr(\"class\", \"mpld3-tooltip\")\n",
       "                    .style(\"position\", \"absolute\")\n",
       "                    .style(\"z-index\", \"10\")\n",
       "                    .style(\"visibility\", \"hidden\");\n",
       "\n",
       "       obj.elements()\n",
       "           .on(\"mouseover\", function(d, i){\n",
       "                              tooltip.html(labels[i])\n",
       "                                     .style(\"visibility\", \"visible\");})\n",
       "           .on(\"mousemove\", function(d, i){\n",
       "                  tooltip\n",
       "                    .style(\"top\", d3.event.pageY + this.props.voffset + \"px\")\n",
       "                    .style(\"left\",d3.event.pageX + this.props.hoffset + \"px\");\n",
       "                 }.bind(this))\n",
       "           .on(\"mouseout\",  function(d, i){\n",
       "                           tooltip.style(\"visibility\", \"hidden\");});\n",
       "    };\n",
       "    \n",
       "    mpld3.register_plugin(\"toptoolbar\", TopToolbar);\n",
       "    TopToolbar.prototype = Object.create(mpld3.Plugin.prototype);\n",
       "    TopToolbar.prototype.constructor = TopToolbar;\n",
       "    function TopToolbar(fig, props){\n",
       "        mpld3.Plugin.call(this, fig, props);\n",
       "    };\n",
       "\n",
       "    TopToolbar.prototype.draw = function(){\n",
       "      // the toolbar svg doesn't exist\n",
       "      // yet, so first draw it\n",
       "      this.fig.toolbar.draw();\n",
       "\n",
       "      // then change the y position to be\n",
       "      // at the top of the figure\n",
       "      this.fig.toolbar.toolbar.attr(\"x\", 150);\n",
       "      this.fig.toolbar.toolbar.attr(\"y\", 400);\n",
       "\n",
       "      // then remove the draw function,\n",
       "      // so that it is not called again\n",
       "      this.fig.toolbar.draw = function() {}\n",
       "    }\n",
       "    \n",
       "    mpld3.register_plugin(\"htmltooltip\", HtmlTooltipPlugin);\n",
       "    HtmlTooltipPlugin.prototype = Object.create(mpld3.Plugin.prototype);\n",
       "    HtmlTooltipPlugin.prototype.constructor = HtmlTooltipPlugin;\n",
       "    HtmlTooltipPlugin.prototype.requiredProps = [\"id\"];\n",
       "    HtmlTooltipPlugin.prototype.defaultProps = {labels:null,\n",
       "                                                hoffset:0,\n",
       "                                                voffset:10};\n",
       "    function HtmlTooltipPlugin(fig, props){\n",
       "        mpld3.Plugin.call(this, fig, props);\n",
       "    };\n",
       "\n",
       "    HtmlTooltipPlugin.prototype.draw = function(){\n",
       "       var obj = mpld3.get_element(this.props.id);\n",
       "       var labels = this.props.labels;\n",
       "       var tooltip = d3.select(\"body\").append(\"div\")\n",
       "                    .attr(\"class\", \"mpld3-tooltip\")\n",
       "                    .style(\"position\", \"absolute\")\n",
       "                    .style(\"z-index\", \"10\")\n",
       "                    .style(\"visibility\", \"hidden\");\n",
       "\n",
       "       obj.elements()\n",
       "           .on(\"mouseover\", function(d, i){\n",
       "                              tooltip.html(labels[i])\n",
       "                                     .style(\"visibility\", \"visible\");})\n",
       "           .on(\"mousemove\", function(d, i){\n",
       "                  tooltip\n",
       "                    .style(\"top\", d3.event.pageY + this.props.voffset + \"px\")\n",
       "                    .style(\"left\",d3.event.pageX + this.props.hoffset + \"px\");\n",
       "                 }.bind(this))\n",
       "           .on(\"mouseout\",  function(d, i){\n",
       "                           tooltip.style(\"visibility\", \"hidden\");});\n",
       "    };\n",
       "    \n",
       "    mpld3.register_plugin(\"toptoolbar\", TopToolbar);\n",
       "    TopToolbar.prototype = Object.create(mpld3.Plugin.prototype);\n",
       "    TopToolbar.prototype.constructor = TopToolbar;\n",
       "    function TopToolbar(fig, props){\n",
       "        mpld3.Plugin.call(this, fig, props);\n",
       "    };\n",
       "\n",
       "    TopToolbar.prototype.draw = function(){\n",
       "      // the toolbar svg doesn't exist\n",
       "      // yet, so first draw it\n",
       "      this.fig.toolbar.draw();\n",
       "\n",
       "      // then change the y position to be\n",
       "      // at the top of the figure\n",
       "      this.fig.toolbar.toolbar.attr(\"x\", 150);\n",
       "      this.fig.toolbar.toolbar.attr(\"y\", 400);\n",
       "\n",
       "      // then remove the draw function,\n",
       "      // so that it is not called again\n",
       "      this.fig.toolbar.draw = function() {}\n",
       "    }\n",
       "    \n",
       "    mpld3.register_plugin(\"htmltooltip\", HtmlTooltipPlugin);\n",
       "    HtmlTooltipPlugin.prototype = Object.create(mpld3.Plugin.prototype);\n",
       "    HtmlTooltipPlugin.prototype.constructor = HtmlTooltipPlugin;\n",
       "    HtmlTooltipPlugin.prototype.requiredProps = [\"id\"];\n",
       "    HtmlTooltipPlugin.prototype.defaultProps = {labels:null,\n",
       "                                                hoffset:0,\n",
       "                                                voffset:10};\n",
       "    function HtmlTooltipPlugin(fig, props){\n",
       "        mpld3.Plugin.call(this, fig, props);\n",
       "    };\n",
       "\n",
       "    HtmlTooltipPlugin.prototype.draw = function(){\n",
       "       var obj = mpld3.get_element(this.props.id);\n",
       "       var labels = this.props.labels;\n",
       "       var tooltip = d3.select(\"body\").append(\"div\")\n",
       "                    .attr(\"class\", \"mpld3-tooltip\")\n",
       "                    .style(\"position\", \"absolute\")\n",
       "                    .style(\"z-index\", \"10\")\n",
       "                    .style(\"visibility\", \"hidden\");\n",
       "\n",
       "       obj.elements()\n",
       "           .on(\"mouseover\", function(d, i){\n",
       "                              tooltip.html(labels[i])\n",
       "                                     .style(\"visibility\", \"visible\");})\n",
       "           .on(\"mousemove\", function(d, i){\n",
       "                  tooltip\n",
       "                    .style(\"top\", d3.event.pageY + this.props.voffset + \"px\")\n",
       "                    .style(\"left\",d3.event.pageX + this.props.hoffset + \"px\");\n",
       "                 }.bind(this))\n",
       "           .on(\"mouseout\",  function(d, i){\n",
       "                           tooltip.style(\"visibility\", \"hidden\");});\n",
       "    };\n",
       "    \n",
       "    mpld3.register_plugin(\"toptoolbar\", TopToolbar);\n",
       "    TopToolbar.prototype = Object.create(mpld3.Plugin.prototype);\n",
       "    TopToolbar.prototype.constructor = TopToolbar;\n",
       "    function TopToolbar(fig, props){\n",
       "        mpld3.Plugin.call(this, fig, props);\n",
       "    };\n",
       "\n",
       "    TopToolbar.prototype.draw = function(){\n",
       "      // the toolbar svg doesn't exist\n",
       "      // yet, so first draw it\n",
       "      this.fig.toolbar.draw();\n",
       "\n",
       "      // then change the y position to be\n",
       "      // at the top of the figure\n",
       "      this.fig.toolbar.toolbar.attr(\"x\", 150);\n",
       "      this.fig.toolbar.toolbar.attr(\"y\", 400);\n",
       "\n",
       "      // then remove the draw function,\n",
       "      // so that it is not called again\n",
       "      this.fig.toolbar.draw = function() {}\n",
       "    }\n",
       "    \n",
       "    mpld3.register_plugin(\"htmltooltip\", HtmlTooltipPlugin);\n",
       "    HtmlTooltipPlugin.prototype = Object.create(mpld3.Plugin.prototype);\n",
       "    HtmlTooltipPlugin.prototype.constructor = HtmlTooltipPlugin;\n",
       "    HtmlTooltipPlugin.prototype.requiredProps = [\"id\"];\n",
       "    HtmlTooltipPlugin.prototype.defaultProps = {labels:null,\n",
       "                                                hoffset:0,\n",
       "                                                voffset:10};\n",
       "    function HtmlTooltipPlugin(fig, props){\n",
       "        mpld3.Plugin.call(this, fig, props);\n",
       "    };\n",
       "\n",
       "    HtmlTooltipPlugin.prototype.draw = function(){\n",
       "       var obj = mpld3.get_element(this.props.id);\n",
       "       var labels = this.props.labels;\n",
       "       var tooltip = d3.select(\"body\").append(\"div\")\n",
       "                    .attr(\"class\", \"mpld3-tooltip\")\n",
       "                    .style(\"position\", \"absolute\")\n",
       "                    .style(\"z-index\", \"10\")\n",
       "                    .style(\"visibility\", \"hidden\");\n",
       "\n",
       "       obj.elements()\n",
       "           .on(\"mouseover\", function(d, i){\n",
       "                              tooltip.html(labels[i])\n",
       "                                     .style(\"visibility\", \"visible\");})\n",
       "           .on(\"mousemove\", function(d, i){\n",
       "                  tooltip\n",
       "                    .style(\"top\", d3.event.pageY + this.props.voffset + \"px\")\n",
       "                    .style(\"left\",d3.event.pageX + this.props.hoffset + \"px\");\n",
       "                 }.bind(this))\n",
       "           .on(\"mouseout\",  function(d, i){\n",
       "                           tooltip.style(\"visibility\", \"hidden\");});\n",
       "    };\n",
       "    \n",
       "    mpld3.register_plugin(\"toptoolbar\", TopToolbar);\n",
       "    TopToolbar.prototype = Object.create(mpld3.Plugin.prototype);\n",
       "    TopToolbar.prototype.constructor = TopToolbar;\n",
       "    function TopToolbar(fig, props){\n",
       "        mpld3.Plugin.call(this, fig, props);\n",
       "    };\n",
       "\n",
       "    TopToolbar.prototype.draw = function(){\n",
       "      // the toolbar svg doesn't exist\n",
       "      // yet, so first draw it\n",
       "      this.fig.toolbar.draw();\n",
       "\n",
       "      // then change the y position to be\n",
       "      // at the top of the figure\n",
       "      this.fig.toolbar.toolbar.attr(\"x\", 150);\n",
       "      this.fig.toolbar.toolbar.attr(\"y\", 400);\n",
       "\n",
       "      // then remove the draw function,\n",
       "      // so that it is not called again\n",
       "      this.fig.toolbar.draw = function() {}\n",
       "    }\n",
       "    \n",
       "                 mpld3.draw_figure(\"fig_el1564421463430007768547181491\", {\"width\": 1008.0, \"height\": 432.0, \"axes\": [{\"bbox\": [0.125, 0.125, 0.775, 0.755], \"xlim\": [-0.7414220532775794, 0.7555925982512295], \"ylim\": [-0.7874283626020617, 0.8578968253308698], \"xdomain\": [-0.7414220532775794, 0.7555925982512295], \"ydomain\": [-0.7874283626020617, 0.8578968253308698], \"xscale\": \"linear\", \"yscale\": \"linear\", \"axes\": [{\"position\": \"bottom\", \"nticks\": 0, \"tickvalues\": [], \"tickformat\": \"\", \"scale\": \"linear\", \"fontsize\": null, \"grid\": {\"gridOn\": false}, \"visible\": false}, {\"position\": \"left\", \"nticks\": 0, \"tickvalues\": [], \"tickformat\": \"\", \"scale\": \"linear\", \"fontsize\": null, \"grid\": {\"gridOn\": false}, \"visible\": false}], \"axesbg\": \"#FFFFFF\", \"axesbgalpha\": null, \"zoomable\": true, \"id\": \"el156442146375142088\", \"lines\": [], \"paths\": [{\"data\": \"data07\", \"xindex\": 0, \"yindex\": 1, \"coordinates\": \"axes\", \"pathcodes\": [\"M\", \"L\", \"S\", \"L\", \"S\", \"L\", \"S\", \"L\", \"S\", \"Z\"], \"id\": \"el156442146369596608\", \"dasharray\": \"none\", \"alpha\": 0.8, \"facecolor\": \"#FFFFFF\", \"edgecolor\": \"#CCCCCC\", \"edgewidth\": 1.0, \"zorder\": 1000000.0}], \"markers\": [{\"data\": \"data01\", \"xindex\": 0, \"yindex\": 1, \"coordinates\": \"data\", \"id\": \"el156442146393468208pts\", \"facecolor\": \"#1B9E77\", \"edgecolor\": \"none\", \"edgewidth\": 1.0, \"alpha\": 1, \"zorder\": 2, \"markerpath\": [[[0.0, 9.0], [2.3868279, 9.0], [4.676218837063681, 8.051703224294176], [6.3639610306789285, 6.3639610306789285], [8.051703224294176, 4.676218837063681], [9.0, 2.3868279], [9.0, 0.0], [9.0, -2.3868279], [8.051703224294176, -4.676218837063681], [6.3639610306789285, -6.3639610306789285], [4.676218837063681, -8.051703224294176], [2.3868279, -9.0], [0.0, -9.0], [-2.3868279, -9.0], [-4.676218837063681, -8.051703224294176], [-6.3639610306789285, -6.3639610306789285], [-8.051703224294176, -4.676218837063681], [-9.0, -2.3868279], [-9.0, 0.0], [-9.0, 2.3868279], [-8.051703224294176, 4.676218837063681], [-6.3639610306789285, 6.3639610306789285], [-4.676218837063681, 8.051703224294176], [-2.3868279, 9.0], [0.0, 9.0]], [\"M\", \"C\", \"C\", \"C\", \"C\", \"C\", \"C\", \"C\", \"C\", \"Z\"]]}, {\"data\": \"data02\", \"xindex\": 0, \"yindex\": 1, \"coordinates\": \"data\", \"id\": \"el156442146369596440pts\", \"facecolor\": \"#D95F02\", \"edgecolor\": \"none\", \"edgewidth\": 1.0, \"alpha\": 1, \"zorder\": 2, \"markerpath\": [[[0.0, 9.0], [2.3868279, 9.0], [4.676218837063681, 8.051703224294176], [6.3639610306789285, 6.3639610306789285], [8.051703224294176, 4.676218837063681], [9.0, 2.3868279], [9.0, 0.0], [9.0, -2.3868279], [8.051703224294176, -4.676218837063681], [6.3639610306789285, -6.3639610306789285], [4.676218837063681, -8.051703224294176], [2.3868279, -9.0], [0.0, -9.0], [-2.3868279, -9.0], [-4.676218837063681, -8.051703224294176], [-6.3639610306789285, -6.3639610306789285], [-8.051703224294176, -4.676218837063681], [-9.0, -2.3868279], [-9.0, 0.0], [-9.0, 2.3868279], [-8.051703224294176, 4.676218837063681], [-6.3639610306789285, 6.3639610306789285], [-4.676218837063681, 8.051703224294176], [-2.3868279, 9.0], [0.0, 9.0]], [\"M\", \"C\", \"C\", \"C\", \"C\", \"C\", \"C\", \"C\", \"C\", \"Z\"]]}, {\"data\": \"data03\", \"xindex\": 0, \"yindex\": 1, \"coordinates\": \"data\", \"id\": \"el156442146393465296pts\", \"facecolor\": \"#7570B3\", \"edgecolor\": \"none\", \"edgewidth\": 1.0, \"alpha\": 1, \"zorder\": 2, \"markerpath\": [[[0.0, 9.0], [2.3868279, 9.0], [4.676218837063681, 8.051703224294176], [6.3639610306789285, 6.3639610306789285], [8.051703224294176, 4.676218837063681], [9.0, 2.3868279], [9.0, 0.0], [9.0, -2.3868279], [8.051703224294176, -4.676218837063681], [6.3639610306789285, -6.3639610306789285], [4.676218837063681, -8.051703224294176], [2.3868279, -9.0], [0.0, -9.0], [-2.3868279, -9.0], [-4.676218837063681, -8.051703224294176], [-6.3639610306789285, -6.3639610306789285], [-8.051703224294176, -4.676218837063681], [-9.0, -2.3868279], [-9.0, 0.0], [-9.0, 2.3868279], [-8.051703224294176, 4.676218837063681], [-6.3639610306789285, 6.3639610306789285], [-4.676218837063681, 8.051703224294176], [-2.3868279, 9.0], [0.0, 9.0]], [\"M\", \"C\", \"C\", \"C\", \"C\", \"C\", \"C\", \"C\", \"C\", \"Z\"]]}, {\"data\": \"data04\", \"xindex\": 0, \"yindex\": 1, \"coordinates\": \"data\", \"id\": \"el156442146374850208pts\", \"facecolor\": \"#E7298A\", \"edgecolor\": \"none\", \"edgewidth\": 1.0, \"alpha\": 1, \"zorder\": 2, \"markerpath\": [[[0.0, 9.0], [2.3868279, 9.0], [4.676218837063681, 8.051703224294176], [6.3639610306789285, 6.3639610306789285], [8.051703224294176, 4.676218837063681], [9.0, 2.3868279], [9.0, 0.0], [9.0, -2.3868279], [8.051703224294176, -4.676218837063681], [6.3639610306789285, -6.3639610306789285], [4.676218837063681, -8.051703224294176], [2.3868279, -9.0], [0.0, -9.0], [-2.3868279, -9.0], [-4.676218837063681, -8.051703224294176], [-6.3639610306789285, -6.3639610306789285], [-8.051703224294176, -4.676218837063681], [-9.0, -2.3868279], [-9.0, 0.0], [-9.0, 2.3868279], [-8.051703224294176, 4.676218837063681], [-6.3639610306789285, 6.3639610306789285], [-4.676218837063681, 8.051703224294176], [-2.3868279, 9.0], [0.0, 9.0]], [\"M\", \"C\", \"C\", \"C\", \"C\", \"C\", \"C\", \"C\", \"C\", \"Z\"]]}, {\"data\": \"data05\", \"xindex\": 0, \"yindex\": 1, \"coordinates\": \"data\", \"id\": \"el156442146369595040pts\", \"facecolor\": \"#66A61E\", \"edgecolor\": \"none\", \"edgewidth\": 1.0, \"alpha\": 1, \"zorder\": 2, \"markerpath\": [[[0.0, 9.0], [2.3868279, 9.0], [4.676218837063681, 8.051703224294176], [6.3639610306789285, 6.3639610306789285], [8.051703224294176, 4.676218837063681], [9.0, 2.3868279], [9.0, 0.0], [9.0, -2.3868279], [8.051703224294176, -4.676218837063681], [6.3639610306789285, -6.3639610306789285], [4.676218837063681, -8.051703224294176], [2.3868279, -9.0], [0.0, -9.0], [-2.3868279, -9.0], [-4.676218837063681, -8.051703224294176], [-6.3639610306789285, -6.3639610306789285], [-8.051703224294176, -4.676218837063681], [-9.0, -2.3868279], [-9.0, 0.0], [-9.0, 2.3868279], [-8.051703224294176, 4.676218837063681], [-6.3639610306789285, 6.3639610306789285], [-4.676218837063681, 8.051703224294176], [-2.3868279, 9.0], [0.0, 9.0]], [\"M\", \"C\", \"C\", \"C\", \"C\", \"C\", \"C\", \"C\", \"C\", \"Z\"]]}, {\"data\": \"data06\", \"xindex\": 0, \"yindex\": 1, \"coordinates\": \"axes\", \"id\": \"el156442146294954472pts\", \"facecolor\": \"#1B9E77\", \"edgecolor\": \"none\", \"edgewidth\": 1.0, \"alpha\": 1, \"zorder\": 1000002.0, \"markerpath\": [[[0.0, 9.0], [2.3868279, 9.0], [4.676218837063681, 8.051703224294176], [6.3639610306789285, 6.3639610306789285], [8.051703224294176, 4.676218837063681], [9.0, 2.3868279], [9.0, 0.0], [9.0, -2.3868279], [8.051703224294176, -4.676218837063681], [6.3639610306789285, -6.3639610306789285], [4.676218837063681, -8.051703224294176], [2.3868279, -9.0], [0.0, -9.0], [-2.3868279, -9.0], [-4.676218837063681, -8.051703224294176], [-6.3639610306789285, -6.3639610306789285], [-8.051703224294176, -4.676218837063681], [-9.0, -2.3868279], [-9.0, 0.0], [-9.0, 2.3868279], [-8.051703224294176, 4.676218837063681], [-6.3639610306789285, 6.3639610306789285], [-4.676218837063681, 8.051703224294176], [-2.3868279, 9.0], [0.0, 9.0]], [\"M\", \"C\", \"C\", \"C\", \"C\", \"C\", \"C\", \"C\", \"C\", \"Z\"]]}, {\"data\": \"data06\", \"xindex\": 0, \"yindex\": 2, \"coordinates\": \"axes\", \"id\": \"el156442146375029928pts\", \"facecolor\": \"#D95F02\", \"edgecolor\": \"none\", \"edgewidth\": 1.0, \"alpha\": 1, \"zorder\": 1000002.0, \"markerpath\": [[[0.0, 9.0], [2.3868279, 9.0], [4.676218837063681, 8.051703224294176], [6.3639610306789285, 6.3639610306789285], [8.051703224294176, 4.676218837063681], [9.0, 2.3868279], [9.0, 0.0], [9.0, -2.3868279], [8.051703224294176, -4.676218837063681], [6.3639610306789285, -6.3639610306789285], [4.676218837063681, -8.051703224294176], [2.3868279, -9.0], [0.0, -9.0], [-2.3868279, -9.0], [-4.676218837063681, -8.051703224294176], [-6.3639610306789285, -6.3639610306789285], [-8.051703224294176, -4.676218837063681], [-9.0, -2.3868279], [-9.0, 0.0], [-9.0, 2.3868279], [-8.051703224294176, 4.676218837063681], [-6.3639610306789285, 6.3639610306789285], [-4.676218837063681, 8.051703224294176], [-2.3868279, 9.0], [0.0, 9.0]], [\"M\", \"C\", \"C\", \"C\", \"C\", \"C\", \"C\", \"C\", \"C\", \"Z\"]]}, {\"data\": \"data06\", \"xindex\": 0, \"yindex\": 3, \"coordinates\": \"axes\", \"id\": \"el156442146375031832pts\", \"facecolor\": \"#7570B3\", \"edgecolor\": \"none\", \"edgewidth\": 1.0, \"alpha\": 1, \"zorder\": 1000002.0, \"markerpath\": [[[0.0, 9.0], [2.3868279, 9.0], [4.676218837063681, 8.051703224294176], [6.3639610306789285, 6.3639610306789285], [8.051703224294176, 4.676218837063681], [9.0, 2.3868279], [9.0, 0.0], [9.0, -2.3868279], [8.051703224294176, -4.676218837063681], [6.3639610306789285, -6.3639610306789285], [4.676218837063681, -8.051703224294176], [2.3868279, -9.0], [0.0, -9.0], [-2.3868279, -9.0], [-4.676218837063681, -8.051703224294176], [-6.3639610306789285, -6.3639610306789285], [-8.051703224294176, -4.676218837063681], [-9.0, -2.3868279], [-9.0, 0.0], [-9.0, 2.3868279], [-8.051703224294176, 4.676218837063681], [-6.3639610306789285, 6.3639610306789285], [-4.676218837063681, 8.051703224294176], [-2.3868279, 9.0], [0.0, 9.0]], [\"M\", \"C\", \"C\", \"C\", \"C\", \"C\", \"C\", \"C\", \"C\", \"Z\"]]}, {\"data\": \"data06\", \"xindex\": 0, \"yindex\": 4, \"coordinates\": \"axes\", \"id\": \"el156442146374957376pts\", \"facecolor\": \"#E7298A\", \"edgecolor\": \"none\", \"edgewidth\": 1.0, \"alpha\": 1, \"zorder\": 1000002.0, \"markerpath\": [[[0.0, 9.0], [2.3868279, 9.0], [4.676218837063681, 8.051703224294176], [6.3639610306789285, 6.3639610306789285], [8.051703224294176, 4.676218837063681], [9.0, 2.3868279], [9.0, 0.0], [9.0, -2.3868279], [8.051703224294176, -4.676218837063681], [6.3639610306789285, -6.3639610306789285], [4.676218837063681, -8.051703224294176], [2.3868279, -9.0], [0.0, -9.0], [-2.3868279, -9.0], [-4.676218837063681, -8.051703224294176], [-6.3639610306789285, -6.3639610306789285], [-8.051703224294176, -4.676218837063681], [-9.0, -2.3868279], [-9.0, 0.0], [-9.0, 2.3868279], [-8.051703224294176, 4.676218837063681], [-6.3639610306789285, 6.3639610306789285], [-4.676218837063681, 8.051703224294176], [-2.3868279, 9.0], [0.0, 9.0]], [\"M\", \"C\", \"C\", \"C\", \"C\", \"C\", \"C\", \"C\", \"C\", \"Z\"]]}, {\"data\": \"data06\", \"xindex\": 0, \"yindex\": 5, \"coordinates\": \"axes\", \"id\": \"el156442146374955696pts\", \"facecolor\": \"#66A61E\", \"edgecolor\": \"none\", \"edgewidth\": 1.0, \"alpha\": 1, \"zorder\": 1000002.0, \"markerpath\": [[[0.0, 9.0], [2.3868279, 9.0], [4.676218837063681, 8.051703224294176], [6.3639610306789285, 6.3639610306789285], [8.051703224294176, 4.676218837063681], [9.0, 2.3868279], [9.0, 0.0], [9.0, -2.3868279], [8.051703224294176, -4.676218837063681], [6.3639610306789285, -6.3639610306789285], [4.676218837063681, -8.051703224294176], [2.3868279, -9.0], [0.0, -9.0], [-2.3868279, -9.0], [-4.676218837063681, -8.051703224294176], [-6.3639610306789285, -6.3639610306789285], [-8.051703224294176, -4.676218837063681], [-9.0, -2.3868279], [-9.0, 0.0], [-9.0, 2.3868279], [-8.051703224294176, 4.676218837063681], [-6.3639610306789285, 6.3639610306789285], [-4.676218837063681, 8.051703224294176], [-2.3868279, 9.0], [0.0, 9.0]], [\"M\", \"C\", \"C\", \"C\", \"C\", \"C\", \"C\", \"C\", \"C\", \"Z\"]]}], \"texts\": [{\"text\": \"cluster1\", \"position\": [0.936635944700461, 0.9478783419180772], \"coordinates\": \"axes\", \"h_anchor\": \"start\", \"v_baseline\": \"auto\", \"rotation\": -0.0, \"fontsize\": 10.0, \"color\": \"#000000\", \"alpha\": 1, \"zorder\": 1000003.0, \"id\": \"el156442146374712232\"}, {\"text\": \"cluster2\", \"position\": [0.936635944700461, 0.901888643610498], \"coordinates\": \"axes\", \"h_anchor\": \"start\", \"v_baseline\": \"auto\", \"rotation\": -0.0, \"fontsize\": 10.0, \"color\": \"#000000\", \"alpha\": 1, \"zorder\": 1000003.0, \"id\": \"el156442146375029368\"}, {\"text\": \"cluster3\", \"position\": [0.936635944700461, 0.8558989453029189], \"coordinates\": \"axes\", \"h_anchor\": \"start\", \"v_baseline\": \"auto\", \"rotation\": -0.0, \"fontsize\": 10.0, \"color\": \"#000000\", \"alpha\": 1, \"zorder\": 1000003.0, \"id\": \"el156442146375031328\"}, {\"text\": \"cluster4\", \"position\": [0.936635944700461, 0.8099092469953398], \"coordinates\": \"axes\", \"h_anchor\": \"start\", \"v_baseline\": \"auto\", \"rotation\": -0.0, \"fontsize\": 10.0, \"color\": \"#000000\", \"alpha\": 1, \"zorder\": 1000003.0, \"id\": \"el156442146374956760\"}, {\"text\": \"cluster5\", \"position\": [0.936635944700461, 0.7639195486877607], \"coordinates\": \"axes\", \"h_anchor\": \"start\", \"v_baseline\": \"auto\", \"rotation\": -0.0, \"fontsize\": 10.0, \"color\": \"#000000\", \"alpha\": 1, \"zorder\": 1000003.0, \"id\": \"el156442146374956816\"}], \"collections\": [], \"images\": [], \"sharex\": [], \"sharey\": []}], \"data\": {\"data01\": [[-0.06086970277312786, -0.10211006319101368], [-0.4699450168795918, 0.5048690529080175], [-0.4028953607914287, 0.4542812867832512], [-0.36324138670312645, 0.5133642878764872], [-0.6452707063495252, 0.28225997785352197], [-0.6405536798633688, 0.1915404781986741], [-0.3523652724157751, 0.09536885819075795], [-0.4089207860630646, 0.03686946552843164], [-0.060869702757120295, -0.1021100631878896], [-0.5226248061536463, 0.24528788312177974], [-0.3456680473510283, 0.19253853416653047], [-0.48706230417512386, 0.07894907819514164], [-0.3523652724157746, 0.09536885819075791], [-0.4089207860418415, 0.036869465522817536], [-0.13770051111524456, 0.16936068192959033], [-0.6452707058301989, 0.28225997896423716], [-0.3523652724157768, 0.0953688581907578], [-0.46994491894007384, 0.5048691388749377], [-0.13770051111446902, 0.1693606819284188], [-0.5070679316650933, 0.5336566276519839], [-0.34566804722248257, 0.19253853426232037], [-0.6695816386665332, 0.3648862893431289], [-0.35236527241577476, 0.095368858190758], [-0.3456680472764141, 0.19253853422213146], [-0.060869703513170996, -0.10211006333566462], [-0.4427555724241844, -0.7408625553964128], [-0.6452705192866054, 0.2822603779354404], [-0.06086970277731063, -0.1021100631918311], [-0.24815080946501109, 0.40663448286564924], [-0.13770051111522424, 0.16936068192955717], [-0.13107998483631947, 0.27162617399210803], [-0.13107998484197175, 0.2716261739992492], [-0.13770051111523582, 0.16936068192957665], [-0.06086970275479492, -0.1021100631874347], [-0.6452707088838822, 0.28225997243314577], [-0.5116673416287244, 0.3986086535819442], [-0.6405539161680902, 0.191539826899493], [-0.6990537140833678, 0.26118598195418957], [-0.1310799848427544, 0.27162617400023814], [-0.5723830502612478, -0.6529399967091796], [-0.29922359662356796, 0.8113310181252208]], \"data02\": [[0.3464141261001386, 0.6268913607989324], [0.3464141260995286, 0.6268913607992738], [0.16262053318509834, 0.6677548645376044], [0.2023579937840426, 0.1379412526665713], [0.042946825861458246, 0.5181719676510936], [0.22855400107239762, 0.6251942365676482], [0.34641412609716404, 0.626891360800592], [0.32818296029322347, 0.49298495602741904], [0.12869403913612834, 0.54846384878142], [0.422999100859462, 0.23529017885240278], [0.1286940391361014, 0.5484638487814404], [0.094071293334063, 0.38107002929792744], [0.20235799386018513, 0.13794125283839892], [0.1286940391360845, 0.5484638487814525], [0.1286940391360826, 0.5484638487814542], [-0.0024695448315977574, 0.5270308779751693], [0.32846753467872186, 0.5471806194142192], [0.07587988690293317, 0.5000310416183851], [0.25166081728636347, 0.4575920595818618], [0.17055413255527904, 0.2709547076699232], [0.2779535152247483, 0.4219859631861406], [0.3464141260953316, 0.6268913608016143], [0.3281829602932263, 0.4929849560274177], [0.46202256735603675, 0.3590468152160004], [-0.014673928308324941, 0.40372601328027774], [0.34641412610037997, 0.6268913607987983], [0.3281829602932251, 0.4929849560274184], [0.3281829602932242, 0.49298495602741876], [0.4620225673560366, 0.3590468152160004], [0.46202256735603664, 0.3590468152160003], [0.25166081742881136, 0.4575920595134331], [0.32846753467871864, 0.547180619414221]], \"data03\": [[0.4305903642908656, -0.015550143643338264], [0.12797658127900347, 0.005292009890945377], [0.6691871138925762, 0.029848639906780383], [0.6620679548204845, -0.11194702899513373], [0.5858221156508514, -0.0005458182468270199], [0.5858221156508516, -0.0005458182468290417], [0.12797658128248743, 0.005292009890244124], [0.7132242590548166, -0.11978879949354088], [0.3814485453693593, -0.32227141819231925], [0.49271640000247724, -0.04984740439750057], [0.4136806342857851, -0.41397025615695365], [0.4638533285703712, -0.43937649895330744], [0.5382653697912902, -0.17355282644107906], [0.5133017519854378, -0.2538349364173227], [0.5840916087774024, -0.25245082310969674], [0.7132242590570179, -0.11978879948014595], [0.5840916087774024, -0.2524508231096979], [0.49271640025353347, -0.04984740273392374], [0.4136806342857853, -0.41397025615695376], [0.5840916087774024, -0.252450823109697], [0.43514940514675865, 0.043678948064989426], [0.669187116011788, 0.02984862517081278], [0.5858221156508516, -0.0005458182468270374], [0.5858221156508517, -0.000545818246827049], [0.3841318912732724, -0.15070461511717617], [0.5840916087774021, -0.2524508231096977], [0.5840916087774022, -0.2524508231096976]], \"data04\": [[-0.24219548900883459, 0.3133318228731128], [-0.6344381422193089, -0.35673140918376595], [-0.4572771988787097, -0.2413659916703494], [-0.46379971874453574, -0.07357256532220413], [-0.5876201173450134, -0.21215516510543803], [-0.5652567287545667, -0.1649872224502721], [-0.4832986022528809, -0.2973389469535139], [-0.5876201173450143, -0.21215516510543808], [-0.004561304227718988, 0.615247365863656], [0.3171190604679055, -0.09096166475812884], [-0.4832986022528705, -0.2973389469535009], [-0.26735272730174986, -0.43892093598439835], [-0.3947001244854639, -0.44530193908166765], [-0.39470012448546166, -0.4453019390816698], [-0.6598334979074862, 0.0033182610787580416], [-0.6344381422602564, -0.3567314091255513], [-0.5876201173450797, -0.21215516510529173], [-0.004561304242663941, 0.6152473658611529], [-0.3947001244853901, -0.4453019390817301], [-0.5876201173450725, -0.2121551651053078], [-0.4110010209664606, 0.3866506140196601], [0.3171190604715991, -0.09096166475537182], [-0.4806539805671432, -0.2964100251854758], [-0.4574584485468176, -0.24142366282112848], [-0.39470012448539044, -0.4453019390817298]], \"data05\": [[0.12342737579834226, -0.6959668848215677], [0.12342737578098864, -0.6959668848239431], [0.25365002645241796, -0.47387953401995697], [-0.07897181269870303, -0.5346623059770675], [-0.07897181269870303, -0.5346623059770675], [0.12342737577958687, -0.6959668848241354], [0.24829311942018872, -0.5780758326275306], [0.24829311942018834, -0.578075832627531], [0.04412268461704224, -0.6218095041256826], [0.24829311942019208, -0.578075832627529], [0.0441226891411833, -0.6218095024073286], [-0.078971812698703, -0.5346623059770677], [-0.1411902653165322, -0.466388300423134], [0.11452653202795765, -0.5931270611937041], [0.12320895583018583, -0.4763369520613763], [0.037410384965776956, -0.4170827930230344], [-0.07897181269870301, -0.5346623059770675], [0.12320895583389681, -0.47633695205893717], [0.03741038511312798, -0.41708279293092837], [0.19676478244082304, -0.619176743383313], [0.248293119420189, -0.5780758326275305], [0.12320895583021343, -0.47633695206135834], [0.24829311942018834, -0.5780758326275308], [0.1234273757800949, -0.6959668848240655], [-0.06787802129622614, -0.41148156858934726], [0.24829311942018903, -0.5780758326275305], [0.15362578703243263, -0.5353475652371336]], \"data06\": [[0.913594470046083, 0.958609271523179, 0.9126195732155998, 0.8666298749080207, 0.8206401766004416, 0.7746504782928625]], \"data07\": [[0.8982334869431644, 0.745523669364729], [0.9910394265232977, 0.745523669364729], [0.9935995903737841, 0.745523669364729], [0.9935995903737841, 0.7516556291390729], [0.9935995903737841, 0.9785381407897964], [0.9935995903737841, 0.9846701005641403], [0.9910394265232977, 0.9846701005641403], [0.8982334869431644, 0.9846701005641403], [0.895673323092678, 0.9846701005641403], [0.895673323092678, 0.9785381407897964], [0.895673323092678, 0.7516556291390729], [0.895673323092678, 0.745523669364729], [0.8982334869431644, 0.745523669364729]]}, \"id\": \"el156442146343000776\", \"plugins\": [{\"type\": \"reset\"}, {\"type\": \"zoom\", \"button\": true, \"enabled\": false}, {\"type\": \"boxzoom\", \"button\": true, \"enabled\": false}, {\"type\": \"htmltooltip\", \"id\": \"el156442146393468208pts\", \"labels\": [\"1 Mary is in the school.\\n\", \"5 Fred travelled to the cinema.\\n\", \"10 Mary went to the cinema.\\n\", \"2 Fred went back to the cinema.\\n\", \"5 Julie moved to the cinema.\\n\", \"6 Is Julie in the cinema? \\tyes\\t5\\n\", \"8 Julie journeyed to the school.\\n\", \"9 Is Julie in the school? \\tyes\\t8\\n\", \"14 Mary travelled to the school.\\n\", \"2 Julie is either in the school or the cinema.\\n\", \"5 Bill is in the school.\\n\", \"12 Is Bill in the school? \\tyes\\t5\\n\", \"14 Julie is in the school.\\n\", \"15 Is Julie in the school? \\tyes\\t14\\n\", \"6 Is Fred in the school? \\tno\\t4\\n\", \"1 Julie journeyed to the cinema.\\n\", \"3 Is Julie in the school? \\tno\\t1\\n\", \"15 Is Fred in the cinema? \\tno\\t8\\n\", \"4 Fred is in the school.\\n\", \"5 Bill went to the cinema.\\n\", \"6 Is Bill in the school? \\tno\\t5\\n\", \"9 Is Bill in the cinema? \\tyes\\t5\\n\", \"12 Is Julie in the school? \\tno\\t8\\n\", \"14 Bill is in the school.\\n\", \"15 Is Mary in the school? \\tmaybe\\t11\\n\", \"\\n\", \"1 Julie moved to the cinema.\\n\", \"11 Mary journeyed to the school.\\n\", \"14 Bill went to the school.\\n\", \"15 Is Fred in the school? \\tno\\t10\\n\", \"1 Fred went to the school.\\n\", \"4 Fred went back to the school.\\n\", \"6 Is Fred in the school? \\tno\\t5\\n\", \"9 Is Mary in the school? \\tno\\t8\\n\", \"11 Julie moved to the cinema.\\n\", \"1 Julie went back to the cinema.\\n\", \"3 Is Julie in the cinema? \\tyes\\t1\\n\", \"14 Mary is either in the cinema or the cinema.\\n\", \"7 Fred went back to the school.\\n\", \"\\n\", \"\\n\"], \"hoffset\": 10, \"voffset\": 10}, {\"type\": \"toptoolbar\"}, {\"type\": \"htmltooltip\", \"id\": \"el156442146369596440pts\", \"labels\": [\"3 Is Bill in the bedroom? \\tno\\t2\\n\", \"4 Bill journeyed to the bedroom.\\n\", \"6 Is Bill in the bedroom? \\tyes\\t4\\n\", \"7 Julie is either in the kitchen or the bedroom.\\n\", \"10 Bill is either in the bedroom or the school.\\n\", \"11 Bill went to the bedroom.\\n\", \"3 Is Bill in the bedroom? \\tno\\t1\\n\", \"4 Fred is in the bedroom.\\n\", \"6 Is Julie in the bedroom? \\tno\\t2\\n\", \"7 Julie is either in the bedroom or the office.\\n\", \"9 Is Julie in the bedroom? \\tmaybe\\t7\\n\", \"10 Fred is either in the school or the bedroom.\\n\", \"13 Julie is either in the kitchen or the bedroom.\\n\", \"1 Julie journeyed to the bedroom.\\n\", \"5 Julie travelled to the bedroom.\\n\", \"6 Is Julie in the bedroom? \\tyes\\t5\\n\", \"13 Fred is either in the bedroom or the bedroom.\\n\", \"14 Julie went to the bedroom.\\n\", \"4 Fred went to the bedroom.\\n\", \"5 Mary is either in the school or the bedroom.\\n\", \"9 Is Fred in the bedroom? \\tyes\\t4\\n\", \"14 Bill journeyed to the bedroom.\\n\", \"2 Fred is in the bedroom.\\n\", \"7 Mary is in the bedroom.\\n\", \"14 Julie is either in the bedroom or the school.\\n\", \"2 Bill moved to the bedroom.\\n\", \"5 Fred moved to the bedroom.\\n\", \"4 Fred moved to the bedroom.\\n\", \"10 Mary is in the bedroom.\\n\", \"3 Is Mary in the bedroom? \\tno\\t2\\n\", \"4 Fred went back to the bedroom.\\n\", \"8 Fred is either in the bedroom or the bedroom.\\n\"], \"hoffset\": 10, \"voffset\": 10}, {\"type\": \"toptoolbar\"}, {\"type\": \"htmltooltip\", \"id\": \"el156442146393465296pts\", \"labels\": [\"8 Bill is either in the school or the office.\\n\", \"11 Julie is either in the school or the office.\\n\", \"14 Bill went back to the office.\\n\", \"15 Is Bill in the office? \\tyes\\t14\\n\", \"1 Fred journeyed to the office.\\n\", \"3 Is Fred in the office? \\tno\\t2\\n\", \"4 Julie is either in the school or the office.\\n\", \"12 Is Bill in the office? \\tno\\t11\\n\", \"4 Fred is either in the office or the kitchen.\\n\", \"7 Julie moved to the office.\\n\", \"8 Mary is either in the office or the kitchen.\\n\", \"7 Bill is either in the office or the kitchen.\\n\", \"11 Mary went back to the office.\\n\", \"15 Is Mary in the office? \\tyes\\t11\\n\", \"9 Is Mary in the office? \\tno\\t7\\n\", \"11 Bill is either in the office or the office.\\n\", \"12 Is Mary in the office? \\tno\\t7\\n\", \"8 Julie is in the office.\\n\", \"13 Mary is either in the kitchen or the office.\\n\", \"7 Mary is in the office.\\n\", \"10 Julie went to the office.\\n\", \"13 Bill went back to the office.\\n\", \"12 Is Fred in the office? \\tmaybe\\t11\\n\", \"1 Fred is in the office.\\n\", \"5 Mary is either in the office or the school.\\n\", \"6 Is Mary in the office? \\tmaybe\\t5\\n\", \"9 Is Mary in the office? \\tmaybe\\t5\\n\"], \"hoffset\": 10, \"voffset\": 10}, {\"type\": \"toptoolbar\"}, {\"type\": \"htmltooltip\", \"id\": \"el156442146374850208pts\", \"labels\": [\"7 Fred went back to the park.\\n\", \"9 Is Bill in the park? \\tno\\t8\\n\", \"12 Is Fred in the park? \\tyes\\t7\\n\", \"13 Julie is either in the park or the school.\\n\", \"13 Julie journeyed to the park.\\n\", \"15 Is Julie in the park? \\tyes\\t13\\n\", \"8 Fred is in the park.\\n\", \"2 Julie travelled to the park.\\n\", \"11 Bill is either in the bedroom or the park.\\n\", \"2 Fred is either in the office or the park.\\n\", \"3 Is Fred in the park? \\tmaybe\\t2\\n\", \"8 Julie is either in the kitchen or the park.\\n\", \"10 Mary is in the park.\\n\", \"5 Mary travelled to the park.\\n\", \"10 Julie is either in the cinema or the park.\\n\", \"13 Bill is either in the park or the park.\\n\", \"7 Julie travelled to the park.\\n\", \"13 Bill is either in the park or the bedroom.\\n\", \"12 Is Mary in the park? \\tno\\t11\\n\", \"6 Is Julie in the park? \\tno\\t5\\n\", \"8 Bill went back to the park.\\n\", \"11 Fred is either in the park or the office.\\n\", \"13 Fred is in the park.\\n\", \"15 Is Fred in the park? \\tyes\\t13\\n\", \"2 Mary is in the park.\\n\"], \"hoffset\": 10, \"voffset\": 10}, {\"type\": \"toptoolbar\"}, {\"type\": \"htmltooltip\", \"id\": \"el156442146369595040pts\", \"labels\": [\"2 Bill is in the kitchen.\\n\", \"1 Bill is in the kitchen.\\n\", \"11 Mary went to the kitchen.\\n\", \"3 Is Julie in the kitchen? \\tno\\t2\\n\", \"9 Is Julie in the kitchen? \\tno\\t7\\n\", \"10 Bill is in the kitchen.\\n\", \"12 Is Mary in the kitchen? \\tmaybe\\t8\\n\", \"15 Is Mary in the kitchen? \\tmaybe\\t8\\n\", \"1 Bill went to the kitchen.\\n\", \"12 Is Mary in the kitchen? \\tno\\t11\\n\", \"13 Bill went back to the kitchen.\\n\", \"4 Julie moved to the kitchen.\\n\", \"6 Is Julie in the kitchen? \\tyes\\t4\\n\", \"8 Fred is either in the kitchen or the kitchen.\\n\", \"1 Fred is in the kitchen.\\n\", \"3 Is Fred in the kitchen? \\tyes\\t1\\n\", \"10 Julie journeyed to the kitchen.\\n\", \"2 Fred travelled to the kitchen.\\n\", \"3 Is Fred in the kitchen? \\tyes\\t2\\n\", \"8 Mary is either in the kitchen or the kitchen.\\n\", \"12 Is Mary in the kitchen? \\tmaybe\\t8\\n\", \"14 Fred is in the kitchen.\\n\", \"15 Is Mary in the kitchen? \\tmaybe\\t8\\n\", \"2 Bill travelled to the kitchen.\\n\", \"5 Julie went back to the kitchen.\\n\", \"7 Mary is in the kitchen.\\n\", \"9 Is Mary in the kitchen? \\tyes\\t7\\n\"], \"hoffset\": 10, \"voffset\": 10}, {\"type\": \"toptoolbar\"}]});\n",
       "            })\n",
       "         });\n",
       "}\n",
       "</script>"
      ],
      "text/plain": [
       "<IPython.core.display.HTML object>"
      ]
     },
     "execution_count": 50,
     "metadata": {},
     "output_type": "execute_result"
    }
   ],
   "source": [
    "#create data frame that has the result of the MDS plus the cluster numbers and titles\n",
    "df = pd.DataFrame(dict(x=xs, y=ys, label=clusters, title=lines)) \n",
    "\n",
    "#group by cluster\n",
    "groups = df.groupby('label')\n",
    "\n",
    "#define custom css to format the font and to remove the axis labeling\n",
    "css = \"\"\"\n",
    "text.mpld3-text, div.mpld3-tooltip {\n",
    "  font-family:Arial, Helvetica, sans-serif;\n",
    "}\n",
    "\n",
    "g.mpld3-xaxis, g.mpld3-yaxis {\n",
    "display: none; }\n",
    "\n",
    "svg.mpld3-figure {\n",
    "margin-left: -200px;}\n",
    "\"\"\"\n",
    "\n",
    "# Plot \n",
    "fig, ax = plt.subplots(figsize=(14,6)) #set plot size\n",
    "ax.margins(0.03) # Optional, just adds 5% padding to the autoscaling\n",
    "\n",
    "#iterate through groups to layer the plot\n",
    "#note that I use the cluster_name and cluster_color dicts with the 'name' lookup to return the appropriate color/label\n",
    "for name, group in groups:\n",
    "    points = ax.plot(group.x, group.y, marker='o', linestyle='', ms=18, \n",
    "                     label=cluster_names[name], mec='none', \n",
    "                     color=cluster_colors[name])\n",
    "    ax.set_aspect('auto')\n",
    "    labels = [i for i in group.title]\n",
    "    \n",
    "    #set tooltip using points, labels and the already defined 'css'\n",
    "    tooltip = mpld3.plugins.PointHTMLTooltip(points[0], labels,\n",
    "                                       voffset=10, hoffset=10, css=css)\n",
    "    #connect tooltip to fig\n",
    "    mpld3.plugins.connect(fig, tooltip, TopToolbar())    \n",
    "    \n",
    "    #set tick marks as blank\n",
    "    ax.axes.get_xaxis().set_ticks([])\n",
    "    ax.axes.get_yaxis().set_ticks([])\n",
    "    \n",
    "    #set axis as blank\n",
    "    ax.axes.get_xaxis().set_visible(False)\n",
    "    ax.axes.get_yaxis().set_visible(False)\n",
    "\n",
    "    \n",
    "ax.legend(numpoints=1) #show legend with only one dot\n",
    "\n",
    "mpld3.display() #show the plot\n",
    "\n",
    "#uncomment the below to export to html\n",
    "#html = mpld3.fig_to_html(fig)\n",
    "#print(html)"
   ]
  },
  {
   "cell_type": "markdown",
   "metadata": {},
   "source": [
    "Hierarchical clustering Now that I was successfuly able to cluster and plot the documents using k-means, I wanted to try another clustering algorithm. I chose the Ward clustering algorithm because it offers hierarchical clustering. Ward clustering is an agglomerative clustering method, meaning that at each stage, the pair of clusters with minimum between-cluster distance are merged. I used the precomputed cosine distance matrix (dist) to calclate a linkage_matrix, which I then plot as a dendrogram.\n",
    "\n",
    "Note that this method returned 3 primary clusters, with the largest cluster being split into about 4 major subclusters."
   ]
  },
  {
   "cell_type": "code",
   "execution_count": 51,
   "metadata": {},
   "outputs": [
    {
     "data": {
      "image/png": "[encoded data removed]",
      "text/plain": [
       "<matplotlib.figure.Figure at 0x1f3be72cd30>"
      ]
     },
     "metadata": {},
     "output_type": "display_data"
    }
   ],
   "source": [
    "from scipy.cluster.hierarchy import ward, dendrogram\n",
    "\n",
    "linkage_matrix = ward(dist) #define the linkage_matrix using ward clustering pre-computed distances\n",
    "\n",
    "fig, ax = plt.subplots(figsize=(15, 20)) # set size\n",
    "ax = dendrogram(linkage_matrix, orientation=\"right\", labels=filtered_sentence);\n",
    "\n",
    "plt.tick_params(\\\n",
    "    axis= 'x',          # changes apply to the x-axis\n",
    "    which='both',      # both major and minor ticks are affected\n",
    "    bottom='off',      # ticks along the bottom edge are off\n",
    "    top='off',         # ticks along the top edge are off\n",
    "    labelbottom='off')\n",
    "\n",
    "plt.tight_layout() #show plot with tight layout\n",
    "\n",
    "#uncomment below to save figure\n",
    "plt.savefig('ward_clusters.png', dpi=200) #save figure as ward_clusters"
   ]
  },
  {
   "cell_type": "code",
   "execution_count": 52,
   "metadata": {},
   "outputs": [],
   "source": [
    "plt.close()"
   ]
  },
  {
   "cell_type": "markdown",
   "metadata": {},
   "source": [
    "Latent Dirichlet Allocation This section focuses on using Latent Dirichlet Allocation (LDA) to learn yet more about the hidden structure within the top 100 lines. LDA is a probabilistic topic model that assumes documents are a mixture of topics and that each word in the document is attributable to the document's topics. There is quite a good high-level overview of probabilistic topic models."
   ]
  },
  {
   "cell_type": "code",
   "execution_count": 53,
   "metadata": {},
   "outputs": [],
   "source": [
    "with open(\"MemN2N-tensorflow-master/data/ptb.test.txt\") as f:\n",
    "    text = f.readlines()"
   ]
  },
  {
   "cell_type": "code",
   "execution_count": 54,
   "metadata": {},
   "outputs": [],
   "source": [
    "#strip any proper names from a text...unfortunately right now this is yanking the first word from a sentence too.\n",
    "import string\n",
    "def strip_proppers(text):\n",
    "    # first tokenize by sentence, then by word to ensure that punctuation is caught as it's own token\n",
    "    tokens = [word for sent in nltk.sent_tokenize(text) for word in nltk.word_tokenize(sent) if word.islower()]\n",
    "    return \"\".join([\" \"+i if not i.startswith(\"'\") and i not in string.punctuation else i for i in tokens]).strip()"
   ]
  },
  {
   "cell_type": "code",
   "execution_count": 55,
   "metadata": {},
   "outputs": [],
   "source": [
    "#strip any proper nouns (NNP) or plural proper nouns (NNPS) from a text\n",
    "from nltk.tag import pos_tag\n",
    "\n",
    "def strip_proppers_POS(text):\n",
    "    tagged = pos_tag(text.split()) #use NLTK's part of speech tagger\n",
    "    non_propernouns = [word for word,pos in tagged if pos != 'NNP' and pos != 'NNPS']\n",
    "    return non_propernouns"
   ]
  },
  {
   "cell_type": "code",
   "execution_count": 56,
   "metadata": {},
   "outputs": [
    {
     "name": "stdout",
     "output_type": "stream",
     "text": [
      "Wall time: 133 ms\n",
      "Wall time: 341 ms\n",
      "Wall time: 7.02 ms\n"
     ]
    }
   ],
   "source": [
    "from gensim import corpora, models, similarities \n",
    "\n",
    "#remove proper names\n",
    "%time preprocess = [strip_proppers(doc) for doc in lines]\n",
    "\n",
    "#tokenize\n",
    "%time tokenized_text = [tokenize_and_stem(text) for text in preprocess]\n",
    "\n",
    "#remove stop words\n",
    "%time texts = [[word for word in text if word not in stopwords] for text in tokenized_text]"
   ]
  },
  {
   "cell_type": "code",
   "execution_count": 57,
   "metadata": {},
   "outputs": [],
   "source": [
    "#create a Gensim dictionary from the texts\n",
    "dictionary = corpora.Dictionary(texts)\n",
    "\n",
    "#remove extremes (similar to the min/max df step used when creating the tf-idf matrix)\n",
    "dictionary.filter_extremes(no_below=1, no_above=0.8)\n",
    "\n",
    "#convert the dictionary to a bag of words corpus for reference\n",
    "corpus = [dictionary.doc2bow(text) for text in texts]"
   ]
  },
  {
   "cell_type": "code",
   "execution_count": 58,
   "metadata": {},
   "outputs": [
    {
     "name": "stdout",
     "output_type": "stream",
     "text": [
      "1\n"
     ]
    }
   ],
   "source": [
    "#print(len([word for word in texts[0] if word not in stopwords]))\n",
    "print(len(texts[0]))"
   ]
  },
  {
   "cell_type": "code",
   "execution_count": 59,
   "metadata": {},
   "outputs": [
    {
     "name": "stdout",
     "output_type": "stream",
     "text": [
      "[['school'], ['kitchen'], ['bedroom'], ['journey', 'bedroom'], ['travel', 'cinema'], ['bedroom', 'yes'], ['went', 'back', 'park'], ['school', 'offic'], ['park'], ['went', 'cinema'], ['school', 'offic'], ['park', 'yes'], ['park', 'school'], ['went', 'back', 'offic'], ['offic', 'yes'], ['journey', 'offic'], ['went', 'back', 'cinema'], ['offic'], ['school', 'offic'], ['move', 'cinema'], ['cinema', 'yes'], ['kitchen', 'bedroom'], ['journey', 'school'], ['school', 'yes'], ['bedroom', 'school'], ['went', 'bedroom'], ['offic'], ['journey', 'park'], ['travel', 'school'], ['park', 'yes'], ['kitchen'], ['school', 'cinema'], ['bedroom'], ['bedroom'], ['school'], ['bedroom'], ['bedroom', 'offic'], ['park'], ['bedroom', 'mayb'], ['school', 'bedroom'], ['went', 'kitchen'], ['school', 'yes'], ['kitchen', 'bedroom'], ['school'], ['school', 'yes'], ['journey', 'bedroom'], ['travel', 'park'], ['kitchen'], ['offic', 'kitchen'], ['travel', 'bedroom'], ['bedroom', 'yes'], ['move', 'offic'], ['offic', 'kitchen'], ['kitchen'], ['kitchen'], ['bedroom', 'park'], ['kitchen', 'mayb'], ['bedroom', 'bedroom'], ['went', 'bedroom'], ['kitchen', 'mayb'], ['went', 'kitchen'], ['offic', 'park'], ['park', 'mayb'], ['went', 'bedroom'], ['school', 'bedroom'], ['school'], ['offic', 'kitchen'], ['kitchen', 'park'], ['bedroom', 'yes'], ['park'], ['went', 'back', 'offic'], ['kitchen'], ['went', 'back', 'kitchen'], ['journey', 'bedroom'], ['offic', 'yes'], ['journey', 'cinema'], ['bedroom'], ['school'], ['move', 'kitchen'], ['travel', 'park'], ['kitchen', 'yes'], ['bedroom'], ['kitchen', 'kitchen'], ['offic'], ['cinema', 'park'], ['offic', 'offic'], ['offic'], ['park', 'park'], ['bedroom', 'school'], ['cinema'], ['kitchen'], ['move', 'bedroom'], ['kitchen', 'yes'], ['school'], ['went', 'cinema'], ['school'], ['travel', 'park'], ['offic'], ['cinema', 'yes'], ['journey', 'kitchen'], ['school'], ['park', 'bedroom'], ['school'], ['school', 'mayb'], [], ['move', 'cinema'], ['journey', 'school'], ['park'], ['kitchen', 'offic'], ['went', 'school'], ['school'], ['went', 'school'], ['travel', 'kitchen'], ['kitchen', 'yes'], ['went', 'back', 'school'], ['move', 'bedroom'], ['school'], ['offic'], ['kitchen', 'kitchen'], ['school'], ['went', 'offic'], ['move', 'cinema'], ['kitchen', 'mayb'], ['went', 'back', 'offic'], ['kitchen'], ['kitchen', 'mayb'], ['went', 'back', 'cinema'], ['travel', 'kitchen'], ['cinema', 'yes'], ['move', 'bedroom'], ['went', 'back', 'kitchen'], ['park'], ['kitchen'], ['went', 'back', 'park'], ['kitchen', 'yes'], ['bedroom'], ['park', 'offic'], ['offic', 'mayb'], ['park'], ['cinema', 'cinema'], ['park', 'yes'], ['offic'], ['park'], ['bedroom'], ['went', 'back', 'bedroom'], ['offic', 'school'], ['offic', 'mayb'], ['went', 'back', 'school'], ['bedroom', 'bedroom'], ['offic', 'mayb'], [], []]\n"
     ]
    }
   ],
   "source": [
    "print(texts)"
   ]
  },
  {
   "cell_type": "code",
   "execution_count": 60,
   "metadata": {},
   "outputs": [],
   "source": [
    "dictionary = corpora.Dictionary(texts)"
   ]
  },
  {
   "cell_type": "code",
   "execution_count": 61,
   "metadata": {},
   "outputs": [],
   "source": [
    "dictionary.filter_extremes(no_below=1, no_above=0.8)"
   ]
  },
  {
   "cell_type": "code",
   "execution_count": 62,
   "metadata": {},
   "outputs": [],
   "source": [
    "corpus = [dictionary.doc2bow(text) for text in texts]"
   ]
  },
  {
   "cell_type": "code",
   "execution_count": 63,
   "metadata": {},
   "outputs": [
    {
     "data": {
      "text/plain": [
       "152"
      ]
     },
     "execution_count": 63,
     "metadata": {},
     "output_type": "execute_result"
    }
   ],
   "source": [
    "len(corpus)"
   ]
  },
  {
   "cell_type": "code",
   "execution_count": 64,
   "metadata": {},
   "outputs": [
    {
     "name": "stdout",
     "output_type": "stream",
     "text": [
      "Wall time: 14.4 s\n"
     ]
    }
   ],
   "source": [
    "%time lda = models.LdaModel(corpus, num_topics=5, id2word=dictionary, update_every=5, chunksize=10000, passes=100)"
   ]
  },
  {
   "cell_type": "code",
   "execution_count": 65,
   "metadata": {},
   "outputs": [
    {
     "name": "stdout",
     "output_type": "stream",
     "text": [
      "[(0, 0.10000116), (1, 0.10000171), (2, 0.10000071), (3, 0.100000456), (4, 0.599996)]\n"
     ]
    }
   ],
   "source": [
    "print(lda[corpus[0]])"
   ]
  },
  {
   "cell_type": "code",
   "execution_count": 66,
   "metadata": {},
   "outputs": [],
   "source": [
    "topics = lda.print_topics(5, num_words=20)"
   ]
  },
  {
   "cell_type": "code",
   "execution_count": 67,
   "metadata": {},
   "outputs": [],
   "source": [
    "topics_matrix = lda.show_topics(formatted=False, num_words=20)"
   ]
  },
  {
   "cell_type": "code",
   "execution_count": 68,
   "metadata": {},
   "outputs": [
    {
     "name": "stdout",
     "output_type": "stream",
     "text": [
      "[(0, [('went', 0.60633016), ('back', 0.33320594), ('offic', 0.0055583674), ('school', 0.005535027), ('kitchen', 0.0055300277), ('park', 0.0055178986), ('cinema', 0.005499685), ('bedroom', 0.005496934), ('travel', 0.0054662894), ('yes', 0.005465944), ('journey', 0.005465077), ('mayb', 0.0054644668), ('move', 0.005464252)]), (1, [('cinema', 0.7252488), ('yes', 0.1384539), ('travel', 0.051480092), ('move', 0.008667116), ('journey', 0.008534476), ('went', 0.008480655), ('park', 0.0084646605), ('back', 0.008459989), ('school', 0.008459269), ('offic', 0.008438516), ('kitchen', 0.008438107), ('mayb', 0.008437494), ('bedroom', 0.008436913)]), (2, [('bedroom', 0.63995785), ('move', 0.14485794), ('journey', 0.10993147), ('yes', 0.056071077), ('travel', 0.020802142), ('kitchen', 0.00355238), ('school', 0.0035513004), ('mayb', 0.003551032), ('offic', 0.0035503928), ('park', 0.0035458063), ('went', 0.0035453436), ('cinema', 0.0035449741), ('back', 0.0035382078)]), (3, [('kitchen', 0.41353905), ('offic', 0.35639217), ('mayb', 0.116495706), ('yes', 0.07037085), ('travel', 0.02486796), ('journey', 0.002298649), ('move', 0.0022949954), ('park', 0.0022929704), ('school', 0.0022928654), ('went', 0.0022908284), ('back', 0.0022895026), ('bedroom', 0.0022893506), ('cinema', 0.0022850628)]), (4, [('school', 0.44505557), ('park', 0.35121584), ('yes', 0.08293384), ('travel', 0.056656998), ('journey', 0.04261281), ('mayb', 0.0027129785), ('offic', 0.0026978226), ('bedroom', 0.00269042), ('went', 0.0026873038), ('back', 0.0026864507), ('cinema', 0.002684095), ('kitchen', 0.002684064), ('move', 0.0026817273)])]\n"
     ]
    }
   ],
   "source": [
    "print(topics_matrix)"
   ]
  },
  {
   "cell_type": "code",
   "execution_count": 69,
   "metadata": {},
   "outputs": [
    {
     "data": {
      "text/plain": [
       "[(0,\n",
       "  '0.606*\"went\" + 0.333*\"back\" + 0.006*\"offic\" + 0.006*\"school\" + 0.006*\"kitchen\" + 0.006*\"park\" + 0.005*\"cinema\" + 0.005*\"bedroom\" + 0.005*\"travel\" + 0.005*\"yes\"'),\n",
       " (1,\n",
       "  '0.725*\"cinema\" + 0.138*\"yes\" + 0.051*\"travel\" + 0.009*\"move\" + 0.009*\"journey\" + 0.008*\"went\" + 0.008*\"park\" + 0.008*\"back\" + 0.008*\"school\" + 0.008*\"offic\"'),\n",
       " (2,\n",
       "  '0.640*\"bedroom\" + 0.145*\"move\" + 0.110*\"journey\" + 0.056*\"yes\" + 0.021*\"travel\" + 0.004*\"kitchen\" + 0.004*\"school\" + 0.004*\"mayb\" + 0.004*\"offic\" + 0.004*\"park\"'),\n",
       " (3,\n",
       "  '0.414*\"kitchen\" + 0.356*\"offic\" + 0.116*\"mayb\" + 0.070*\"yes\" + 0.025*\"travel\" + 0.002*\"journey\" + 0.002*\"move\" + 0.002*\"park\" + 0.002*\"school\" + 0.002*\"went\"'),\n",
       " (4,\n",
       "  '0.445*\"school\" + 0.351*\"park\" + 0.083*\"yes\" + 0.057*\"travel\" + 0.043*\"journey\" + 0.003*\"mayb\" + 0.003*\"offic\" + 0.003*\"bedroom\" + 0.003*\"went\" + 0.003*\"back\"')]"
      ]
     },
     "execution_count": 69,
     "metadata": {},
     "output_type": "execute_result"
    }
   ],
   "source": [
    "lda.show_topics()"
   ]
  },
  {
   "cell_type": "code",
   "execution_count": 70,
   "metadata": {},
   "outputs": [
    {
     "name": "stdout",
     "output_type": "stream",
     "text": [
      "['0', \"[('went', 0.60633016), ('back', 0.33320594), ('offic', 0.0055583674), ('school', 0.005535027), ('kitchen', 0.0055300277), ('park', 0.0055178986), ('cinema', 0.005499685), ('bedroom', 0.005496934), ('travel', 0.0054662894), ('yes', 0.005465944), ('journey', 0.005465077), ('mayb', 0.0054644668), ('move', 0.005464252)]\"]\n",
      "\n",
      "['1', \"[('cinema', 0.7252488), ('yes', 0.1384539), ('travel', 0.051480092), ('move', 0.008667116), ('journey', 0.008534476), ('went', 0.008480655), ('park', 0.0084646605), ('back', 0.008459989), ('school', 0.008459269), ('offic', 0.008438516), ('kitchen', 0.008438107), ('mayb', 0.008437494), ('bedroom', 0.008436913)]\"]\n",
      "\n",
      "['2', \"[('bedroom', 0.63995785), ('move', 0.14485794), ('journey', 0.10993147), ('yes', 0.056071077), ('travel', 0.020802142), ('kitchen', 0.00355238), ('school', 0.0035513004), ('mayb', 0.003551032), ('offic', 0.0035503928), ('park', 0.0035458063), ('went', 0.0035453436), ('cinema', 0.0035449741), ('back', 0.0035382078)]\"]\n",
      "\n",
      "['3', \"[('kitchen', 0.41353905), ('offic', 0.35639217), ('mayb', 0.116495706), ('yes', 0.07037085), ('travel', 0.02486796), ('journey', 0.002298649), ('move', 0.0022949954), ('park', 0.0022929704), ('school', 0.0022928654), ('went', 0.0022908284), ('back', 0.0022895026), ('bedroom', 0.0022893506), ('cinema', 0.0022850628)]\"]\n",
      "\n",
      "['4', \"[('school', 0.44505557), ('park', 0.35121584), ('yes', 0.08293384), ('travel', 0.056656998), ('journey', 0.04261281), ('mayb', 0.0027129785), ('offic', 0.0026978226), ('bedroom', 0.00269042), ('went', 0.0026873038), ('back', 0.0026864507), ('cinema', 0.002684095), ('kitchen', 0.002684064), ('move', 0.0026817273)]\"]\n",
      "\n"
     ]
    }
   ],
   "source": [
    "topics_matrix = lda.show_topics(formatted=False, num_words=20)\n",
    "topic_words = topics_matrix\n",
    "for i in topic_words:\n",
    "    print([str(word) for word in i])\n",
    "    print()"
   ]
  },
  {
   "cell_type": "code",
   "execution_count": 71,
   "metadata": {},
   "outputs": [
    {
     "data": {
      "text/plain": [
       "[(0,\n",
       "  [('went', 0.60633016),\n",
       "   ('back', 0.33320594),\n",
       "   ('offic', 0.0055583674),\n",
       "   ('school', 0.005535027),\n",
       "   ('kitchen', 0.0055300277),\n",
       "   ('park', 0.0055178986),\n",
       "   ('cinema', 0.005499685),\n",
       "   ('bedroom', 0.005496934),\n",
       "   ('travel', 0.0054662894),\n",
       "   ('yes', 0.005465944),\n",
       "   ('journey', 0.005465077),\n",
       "   ('mayb', 0.0054644668),\n",
       "   ('move', 0.005464252)]),\n",
       " (1,\n",
       "  [('cinema', 0.7252488),\n",
       "   ('yes', 0.1384539),\n",
       "   ('travel', 0.051480092),\n",
       "   ('move', 0.008667116),\n",
       "   ('journey', 0.008534476),\n",
       "   ('went', 0.008480655),\n",
       "   ('park', 0.0084646605),\n",
       "   ('back', 0.008459989),\n",
       "   ('school', 0.008459269),\n",
       "   ('offic', 0.008438516),\n",
       "   ('kitchen', 0.008438107),\n",
       "   ('mayb', 0.008437494),\n",
       "   ('bedroom', 0.008436913)]),\n",
       " (2,\n",
       "  [('bedroom', 0.63995785),\n",
       "   ('move', 0.14485794),\n",
       "   ('journey', 0.10993147),\n",
       "   ('yes', 0.056071077),\n",
       "   ('travel', 0.020802142),\n",
       "   ('kitchen', 0.00355238),\n",
       "   ('school', 0.0035513004),\n",
       "   ('mayb', 0.003551032),\n",
       "   ('offic', 0.0035503928),\n",
       "   ('park', 0.0035458063),\n",
       "   ('went', 0.0035453436),\n",
       "   ('cinema', 0.0035449741),\n",
       "   ('back', 0.0035382078)]),\n",
       " (3,\n",
       "  [('kitchen', 0.41353905),\n",
       "   ('offic', 0.35639217),\n",
       "   ('mayb', 0.116495706),\n",
       "   ('yes', 0.07037085),\n",
       "   ('travel', 0.02486796),\n",
       "   ('journey', 0.002298649),\n",
       "   ('move', 0.0022949954),\n",
       "   ('park', 0.0022929704),\n",
       "   ('school', 0.0022928654),\n",
       "   ('went', 0.0022908284),\n",
       "   ('back', 0.0022895026),\n",
       "   ('bedroom', 0.0022893506),\n",
       "   ('cinema', 0.0022850628)]),\n",
       " (4,\n",
       "  [('school', 0.44505557),\n",
       "   ('park', 0.35121584),\n",
       "   ('yes', 0.08293384),\n",
       "   ('travel', 0.056656998),\n",
       "   ('journey', 0.04261281),\n",
       "   ('mayb', 0.0027129785),\n",
       "   ('offic', 0.0026978226),\n",
       "   ('bedroom', 0.00269042),\n",
       "   ('went', 0.0026873038),\n",
       "   ('back', 0.0026864507),\n",
       "   ('cinema', 0.002684095),\n",
       "   ('kitchen', 0.002684064),\n",
       "   ('move', 0.0026817273)])]"
      ]
     },
     "execution_count": 71,
     "metadata": {},
     "output_type": "execute_result"
    }
   ],
   "source": [
    "topic_words"
   ]
  },
  {
   "cell_type": "code",
   "execution_count": 72,
   "metadata": {},
   "outputs": [],
   "source": [
    "def proc_sentence(tokens):\n",
    "    \"\"\"\n",
    "    Takes as input a set of tokens from Stanford Core NLP output and returns \n",
    "    the set of peoplefound within the sentence. This relies on the fact that\n",
    "    named entities which are contiguous within a sentence should be part of \n",
    "    the same name. For example, in the following:\n",
    "    [\n",
    "        {'word': 'Brandon', 'ner': 'PERSON'},\n",
    "        {'word': 'Rose', 'ner': 'PERSON'},\n",
    "        {'word': 'eats', 'ner': 'O'},\n",
    "        {'word': 'bananas', 'ner': 'O'}\n",
    "    ]\n",
    "    we can safely assume that the contiguous PERSONs Brandon + Rose are part of the \n",
    "    same named entity, Brandon Rose.\n",
    "    \"\"\"\n",
    "    people = set()\n",
    "    token_count = 0\n",
    "    for i in range(len(tokens)):\n",
    "        if token_count < len(tokens):\n",
    "            person = ''\n",
    "            token = tokens[token_count]\n",
    "            if token['ner'] == 'PERSON':\n",
    "                person += token['word'].lower()\n",
    "                checking = True\n",
    "                while checking == True:\n",
    "                    if token_count + 1 < len(tokens):\n",
    "                        if tokens[token_count + 1]['ner'] == 'PERSON':\n",
    "                            token_count += 1\n",
    "                            person += ' {}'.format(tokens[token_count]['word'].lower())\n",
    "                        else:\n",
    "                            checking = False\n",
    "                            token_count += 1\n",
    "                    else:\n",
    "                        checking = False\n",
    "                        token_count += 1\n",
    "            else:\n",
    "                token_count += 1\n",
    "            if person != '':\n",
    "                people.add(person)\n",
    "    return people"
   ]
  },
  {
   "cell_type": "code",
   "execution_count": 73,
   "metadata": {},
   "outputs": [],
   "source": [
    "import json, requests\n",
    "\n",
    "class StanfordCoreNLP:\n",
    "\n",
    "    def __init__(self, server_url):\n",
    "        if server_url[-1] == '/':\n",
    "            server_url = server_url[:-1]\n",
    "        self.server_url = server_url\n",
    "\n",
    "    def annotate(self, text, properties=None):\n",
    "        assert isinstance(text, str)\n",
    "        if properties is None:\n",
    "            properties = {}\n",
    "        else:\n",
    "            assert isinstance(properties, dict)\n",
    "\n",
    "        # Checks that the Stanford CoreNLP server is started.\n",
    "        try:\n",
    "            requests.get(self.server_url)\n",
    "        except requests.exceptions.ConnectionError:\n",
    "            raise Exception('Check whether you have started the CoreNLP server e.g.\\n'\n",
    "            '$ cd stanford-corenlp-full-2015-12-09/ \\n'\n",
    "            '$ java -mx4g -cp \"*\" edu.stanford.nlp.pipeline.StanfordCoreNLPServer')\n",
    "\n",
    "        data = text.encode()\n",
    "        r = requests.post(\n",
    "            self.server_url, params={\n",
    "                'properties': str(properties)\n",
    "            }, data=data, headers={'Connection': 'close'})\n",
    "        output = r.text\n",
    "        if ('outputFormat' in properties\n",
    "             and properties['outputFormat'] == 'json'):\n",
    "            try:\n",
    "                output = json.loads(output, encoding='utf-8', strict=True)\n",
    "            except:\n",
    "                pass\n",
    "        return output\n",
    "\n",
    "    def tokensregex(self, text, pattern, filter):\n",
    "        return self.regex('/tokensregex', text, pattern, filter)\n",
    "\n",
    "    def semgrex(self, text, pattern, filter):\n",
    "        return self.regex('/semgrex', text, pattern, filter)\n",
    "\n",
    "    def regex(self, endpoint, text, pattern, filter):\n",
    "        r = requests.get(\n",
    "            self.server_url + endpoint, params={\n",
    "                'pattern':  pattern,\n",
    "                'filter': filter\n",
    "            }, data=text)\n",
    "        output = r.text\n",
    "        try:\n",
    "            output = json.loads(r.text)\n",
    "        except:\n",
    "            pass\n",
    "        return output"
   ]
  },
  {
   "cell_type": "markdown",
   "metadata": {},
   "source": [
    "# Data Analysis:\n",
    "Number of Questions and Sentences in the test dataset"
   ]
  },
  {
   "cell_type": "markdown",
   "metadata": {},
   "source": [
    "Step 1: \n",
    "Here I am opening the data and reading the file. "
   ]
  },
  {
   "cell_type": "code",
   "execution_count": 74,
   "metadata": {},
   "outputs": [],
   "source": [
    "with open(\"MemN2N-tensorflow-master/data/ptb.test.txt\") as f:\n",
    "    lines = f.readlines()"
   ]
  },
  {
   "cell_type": "code",
   "execution_count": 75,
   "metadata": {},
   "outputs": [],
   "source": [
    "# load text\n",
    "filename = 'MemN2N-tensorflow-master/data/ptb.test.txt'\n",
    "file = open(filename, 'rt')\n",
    "text = file.read()\n",
    "file.close()"
   ]
  },
  {
   "cell_type": "markdown",
   "metadata": {},
   "source": [
    "Step 2: \n",
    "Printing the data to see how it looks like. "
   ]
  },
  {
   "cell_type": "code",
   "execution_count": 76,
   "metadata": {},
   "outputs": [
    {
     "name": "stdout",
     "output_type": "stream",
     "text": [
      "1 Mary is in the school.\n",
      "2 Bill is in the kitchen.\n",
      "3 Is Bill in the bedroom? \tno\t2\n",
      "4 Bill journeyed to the bedroom.\n",
      "5 Fred travelled to the cinema.\n",
      "6 Is Bill in the bedroom? \tyes\t4\n",
      "7 Fred went back to the park.\n",
      "8 Bill is either in the school or the office.\n",
      "9 Is Bill in the park? \tno\t8\n",
      "10 Mary went to the cinema.\n",
      "11 Julie is either in the school or the office.\n",
      "12 Is Fred in the park? \tyes\t7\n",
      "13 Julie is either in the park or the school.\n",
      "14 Bill went back to the office.\n",
      "15 Is Bill in the office? \tyes\t14\n",
      "1 Fred journeyed to the office.\n",
      "2 Fred went back to the cinema.\n",
      "3 Is Fred in the office? \tno\t2\n",
      "4 Julie is either in the school or the office.\n",
      "5 Julie moved to the cinema.\n",
      "6 Is Julie in the cinema? \tyes\t5\n",
      "7 Julie is either in the kitchen or the bedroom.\n",
      "8 Julie journeyed to the school.\n",
      "9 Is Julie in the school? \tyes\t8\n",
      "10 Bill is either in the bedroom or the school.\n",
      "11 Bill went to the bedroom.\n",
      "12 Is Bill in the office? \tno\t11\n",
      "13 Julie journeyed to the park.\n",
      "14 Mary travelled to the school.\n",
      "15 Is Julie in the park? \tyes\t13\n",
      "1 Bill is in the kitchen.\n",
      "2 Julie is either in the school or the cinema.\n",
      "3 Is Bill in the bedroom? \tno\t1\n",
      "4 Fred is in the bedroom.\n",
      "5 Bill is in the school.\n",
      "6 Is Julie in the bedroom? \tno\t2\n",
      "7 Julie is either in the bedroom or the office.\n",
      "8 Fred is in the park.\n",
      "9 Is Julie in the bedroom? \tmaybe\t7\n",
      "10 Fred is either in the school or the bedroom.\n",
      "11 Mary went to the kitchen.\n",
      "12 Is Bill in the school? \tyes\t5\n",
      "13 Julie is either in the kitchen or the bedroom.\n",
      "14 Julie is in the school.\n",
      "15 Is Julie in the school? \tyes\t14\n",
      "1 Julie journeyed to the bedroom.\n",
      "2 Julie travelled to the park.\n",
      "3 Is Julie in the kitchen? \tno\t2\n",
      "4 Fred is either in the office or the kitchen.\n",
      "5 Julie travelled to the bedroom.\n",
      "6 Is Julie in the bedroom? \tyes\t5\n",
      "7 Julie moved to the office.\n",
      "8 Mary is either in the office or the kitchen.\n",
      "9 Is Julie in the kitchen? \tno\t7\n",
      "10 Bill is in the kitchen.\n",
      "11 Bill is either in the bedroom or the park.\n",
      "12 Is Mary in the kitchen? \tmaybe\t8\n",
      "13 Fred is either in the bedroom or the bedroom.\n",
      "14 Julie went to the bedroom.\n",
      "15 Is Mary in the kitchen? \tmaybe\t8\n",
      "1 Bill went to the kitchen.\n",
      "2 Fred is either in the office or the park.\n",
      "3 Is Fred in the park? \tmaybe\t2\n",
      "4 Fred went to the bedroom.\n",
      "5 Mary is either in the school or the bedroom.\n",
      "6 Is Fred in the school? \tno\t4\n",
      "7 Bill is either in the office or the kitchen.\n",
      "8 Julie is either in the kitchen or the park.\n",
      "9 Is Fred in the bedroom? \tyes\t4\n",
      "10 Mary is in the park.\n",
      "11 Mary went back to the office.\n",
      "12 Is Mary in the kitchen? \tno\t11\n",
      "13 Bill went back to the kitchen.\n",
      "14 Bill journeyed to the bedroom.\n",
      "15 Is Mary in the office? \tyes\t11\n",
      "1 Julie journeyed to the cinema.\n",
      "2 Fred is in the bedroom.\n",
      "3 Is Julie in the school? \tno\t1\n",
      "4 Julie moved to the kitchen.\n",
      "5 Mary travelled to the park.\n",
      "6 Is Julie in the kitchen? \tyes\t4\n",
      "7 Mary is in the bedroom.\n",
      "8 Fred is either in the kitchen or the kitchen.\n",
      "9 Is Mary in the office? \tno\t7\n",
      "10 Julie is either in the cinema or the park.\n",
      "11 Bill is either in the office or the office.\n",
      "12 Is Mary in the office? \tno\t7\n",
      "13 Bill is either in the park or the park.\n",
      "14 Julie is either in the bedroom or the school.\n",
      "15 Is Fred in the cinema? \tno\t8\n",
      "1 Fred is in the kitchen.\n",
      "2 Bill moved to the bedroom.\n",
      "3 Is Fred in the kitchen? \tyes\t1\n",
      "4 Fred is in the school.\n",
      "5 Bill went to the cinema.\n",
      "6 Is Bill in the school? \tno\t5\n",
      "7 Julie travelled to the park.\n",
      "8 Julie is in the office.\n",
      "9 Is Bill in the cinema? \tyes\t5\n",
      "10 Julie journeyed to the kitchen.\n",
      "12 Is Julie in the school? \tno\t8\n",
      "13 Bill is either in the park or the bedroom.\n",
      "14 Bill is in the school.\n",
      "15 Is Mary in the school? \tmaybe\t11\n",
      "\n",
      "1 Julie moved to the cinema.\n",
      "11 Mary journeyed to the school.\n",
      "12 Is Mary in the park? \tno\t11\n",
      "13 Mary is either in the kitchen or the office.\n",
      "14 Bill went to the school.\n",
      "15 Is Fred in the school? \tno\t10\n",
      "1 Fred went to the school.\n",
      "2 Fred travelled to the kitchen.\n",
      "3 Is Fred in the kitchen? \tyes\t2\n",
      "4 Fred went back to the school.\n",
      "5 Fred moved to the bedroom.\n",
      "6 Is Fred in the school? \tno\t5\n",
      "7 Mary is in the office.\n",
      "8 Mary is either in the kitchen or the kitchen.\n",
      "9 Is Mary in the school? \tno\t8\n",
      "10 Julie went to the office.\n",
      "11 Julie moved to the cinema.\n",
      "12 Is Mary in the kitchen? \tmaybe\t8\n",
      "13 Bill went back to the office.\n",
      "14 Fred is in the kitchen.\n",
      "15 Is Mary in the kitchen? \tmaybe\t8\n",
      "1 Julie went back to the cinema.\n",
      "2 Bill travelled to the kitchen.\n",
      "3 Is Julie in the cinema? \tyes\t1\n",
      "4 Fred moved to the bedroom.\n",
      "5 Julie went back to the kitchen.\n",
      "6 Is Julie in the park? \tno\t5\n",
      "7 Mary is in the kitchen.\n",
      "8 Bill went back to the park.\n",
      "9 Is Mary in the kitchen? \tyes\t7\n",
      "10 Mary is in the bedroom.\n",
      "11 Fred is either in the park or the office.\n",
      "12 Is Fred in the office? \tmaybe\t11\n",
      "13 Fred is in the park.\n",
      "14 Mary is either in the cinema or the cinema.\n",
      "15 Is Fred in the park? \tyes\t13\n",
      "1 Fred is in the office.\n",
      "2 Mary is in the park.\n",
      "3 Is Mary in the bedroom? \tno\t2\n",
      "4 Fred went back to the bedroom.\n",
      "5 Mary is either in the office or the school.\n",
      "6 Is Mary in the office? \tmaybe\t5\n",
      "7 Fred went back to the school.\n",
      "8 Fred is either in the bedroom or the bedroom.\n",
      "9 Is Mary in the office? \tmaybe\t5\n",
      "\n",
      "\n",
      "\n"
     ]
    }
   ],
   "source": [
    "print(text)"
   ]
  },
  {
   "cell_type": "markdown",
   "metadata": {},
   "source": [
    "Step 3: \n",
    "Imported nltk and downloaded nltk’s package ‘punkt’. This package is used to download sentence tokenizer. We have further downloaded and imported sent_tokenizer from nltk.tokenize.  \n",
    "This tokenizer is used which divides a string into substrings by splitting on the specified string. Therefore, it splits a string into a list of sentences.  \n",
    " \n",
    "Since our data is in string right now, we out tokenizing it into sentences so as to get a proper and meaningful analysis. "
   ]
  },
  {
   "cell_type": "code",
   "execution_count": 77,
   "metadata": {},
   "outputs": [
    {
     "name": "stdout",
     "output_type": "stream",
     "text": [
      "[nltk_data] Downloading package punkt to C:\\Users\\Bhanuja\n",
      "[nltk_data]     Chouhan\\AppData\\Roaming\\nltk_data...\n",
      "[nltk_data]   Package punkt is already up-to-date!\n"
     ]
    },
    {
     "data": {
      "text/plain": [
       "True"
      ]
     },
     "execution_count": 77,
     "metadata": {},
     "output_type": "execute_result"
    }
   ],
   "source": [
    "import nltk\n",
    "nltk.download('punkt')"
   ]
  },
  {
   "cell_type": "code",
   "execution_count": 78,
   "metadata": {},
   "outputs": [
    {
     "name": "stdout",
     "output_type": "stream",
     "text": [
      "['1 Mary is in the school.', '2 Bill is in the kitchen.', '3 Is Bill in the bedroom?', 'no\\t2\\n4 Bill journeyed to the bedroom.', '5 Fred travelled to the cinema.', '6 Is Bill in the bedroom?', 'yes\\t4\\n7 Fred went back to the park.', '8 Bill is either in the school or the office.', '9 Is Bill in the park?', 'no\\t8\\n10 Mary went to the cinema.', '11 Julie is either in the school or the office.', '12 Is Fred in the park?', 'yes\\t7\\n13 Julie is either in the park or the school.', '14 Bill went back to the office.', '15 Is Bill in the office?', 'yes\\t14\\n1 Fred journeyed to the office.', '2 Fred went back to the cinema.', '3 Is Fred in the office?', 'no\\t2\\n4 Julie is either in the school or the office.', '5 Julie moved to the cinema.', '6 Is Julie in the cinema?', 'yes\\t5\\n7 Julie is either in the kitchen or the bedroom.', '8 Julie journeyed to the school.', '9 Is Julie in the school?', 'yes\\t8\\n10 Bill is either in the bedroom or the school.', '11 Bill went to the bedroom.', '12 Is Bill in the office?', 'no\\t11\\n13 Julie journeyed to the park.', '14 Mary travelled to the school.', '15 Is Julie in the park?', 'yes\\t13\\n1 Bill is in the kitchen.', '2 Julie is either in the school or the cinema.', '3 Is Bill in the bedroom?', 'no\\t1\\n4 Fred is in the bedroom.', '5 Bill is in the school.', '6 Is Julie in the bedroom?', 'no\\t2\\n7 Julie is either in the bedroom or the office.', '8 Fred is in the park.', '9 Is Julie in the bedroom?', 'maybe\\t7\\n10 Fred is either in the school or the bedroom.', '11 Mary went to the kitchen.', '12 Is Bill in the school?', 'yes\\t5\\n13 Julie is either in the kitchen or the bedroom.', '14 Julie is in the school.', '15 Is Julie in the school?', 'yes\\t14\\n1 Julie journeyed to the bedroom.', '2 Julie travelled to the park.', '3 Is Julie in the kitchen?', 'no\\t2\\n4 Fred is either in the office or the kitchen.', '5 Julie travelled to the bedroom.', '6 Is Julie in the bedroom?', 'yes\\t5\\n7 Julie moved to the office.', '8 Mary is either in the office or the kitchen.', '9 Is Julie in the kitchen?', 'no\\t7\\n10 Bill is in the kitchen.', '11 Bill is either in the bedroom or the park.', '12 Is Mary in the kitchen?', 'maybe\\t8\\n13 Fred is either in the bedroom or the bedroom.', '14 Julie went to the bedroom.', '15 Is Mary in the kitchen?', 'maybe\\t8\\n1 Bill went to the kitchen.', '2 Fred is either in the office or the park.', '3 Is Fred in the park?', 'maybe\\t2\\n4 Fred went to the bedroom.', '5 Mary is either in the school or the bedroom.', '6 Is Fred in the school?', 'no\\t4\\n7 Bill is either in the office or the kitchen.', '8 Julie is either in the kitchen or the park.', '9 Is Fred in the bedroom?', 'yes\\t4\\n10 Mary is in the park.', '11 Mary went back to the office.', '12 Is Mary in the kitchen?', 'no\\t11\\n13 Bill went back to the kitchen.', '14 Bill journeyed to the bedroom.', '15 Is Mary in the office?', 'yes\\t11\\n1 Julie journeyed to the cinema.', '2 Fred is in the bedroom.', '3 Is Julie in the school?', 'no\\t1\\n4 Julie moved to the kitchen.', '5 Mary travelled to the park.', '6 Is Julie in the kitchen?', 'yes\\t4\\n7 Mary is in the bedroom.', '8 Fred is either in the kitchen or the kitchen.', '9 Is Mary in the office?', 'no\\t7\\n10 Julie is either in the cinema or the park.', '11 Bill is either in the office or the office.', '12 Is Mary in the office?', 'no\\t7\\n13 Bill is either in the park or the park.', '14 Julie is either in the bedroom or the school.', '15 Is Fred in the cinema?', 'no\\t8\\n1 Fred is in the kitchen.', '2 Bill moved to the bedroom.', '3 Is Fred in the kitchen?', 'yes\\t1\\n4 Fred is in the school.', '5 Bill went to the cinema.', '6 Is Bill in the school?', 'no\\t5\\n7 Julie travelled to the park.', '8 Julie is in the office.', '9 Is Bill in the cinema?', 'yes\\t5\\n10 Julie journeyed to the kitchen.', '12 Is Julie in the school?', 'no\\t8\\n13 Bill is either in the park or the bedroom.', '14 Bill is in the school.', '15 Is Mary in the school?', 'maybe\\t11\\n\\n1 Julie moved to the cinema.', '11 Mary journeyed to the school.', '12 Is Mary in the park?', 'no\\t11\\n13 Mary is either in the kitchen or the office.', '14 Bill went to the school.', '15 Is Fred in the school?', 'no\\t10\\n1 Fred went to the school.', '2 Fred travelled to the kitchen.', '3 Is Fred in the kitchen?', 'yes\\t2\\n4 Fred went back to the school.', '5 Fred moved to the bedroom.', '6 Is Fred in the school?', 'no\\t5\\n7 Mary is in the office.', '8 Mary is either in the kitchen or the kitchen.', '9 Is Mary in the school?', 'no\\t8\\n10 Julie went to the office.', '11 Julie moved to the cinema.', '12 Is Mary in the kitchen?', 'maybe\\t8\\n13 Bill went back to the office.', '14 Fred is in the kitchen.', '15 Is Mary in the kitchen?', 'maybe\\t8\\n1 Julie went back to the cinema.', '2 Bill travelled to the kitchen.', '3 Is Julie in the cinema?', 'yes\\t1\\n4 Fred moved to the bedroom.', '5 Julie went back to the kitchen.', '6 Is Julie in the park?', 'no\\t5\\n7 Mary is in the kitchen.', '8 Bill went back to the park.', '9 Is Mary in the kitchen?', 'yes\\t7\\n10 Mary is in the bedroom.', '11 Fred is either in the park or the office.', '12 Is Fred in the office?', 'maybe\\t11\\n13 Fred is in the park.', '14 Mary is either in the cinema or the cinema.', '15 Is Fred in the park?', 'yes\\t13\\n1 Fred is in the office.', '2 Mary is in the park.', '3 Is Mary in the bedroom?', 'no\\t2\\n4 Fred went back to the bedroom.', '5 Mary is either in the office or the school.', '6 Is Mary in the office?', 'maybe\\t5\\n7 Fred went back to the school.', '8 Fred is either in the bedroom or the bedroom.', '9 Is Mary in the office?', 'maybe\\t5']\n"
     ]
    }
   ],
   "source": [
    "from nltk.tokenize import sent_tokenize\n",
    "tokens = sent_tokenize(text)\n",
    "print(tokens)"
   ]
  },
  {
   "cell_type": "markdown",
   "metadata": {},
   "source": [
    "Step 4: \n",
    "Imported ‘Regular Expressions’ to search for all the questions in our dataset. "
   ]
  },
  {
   "cell_type": "code",
   "execution_count": 79,
   "metadata": {},
   "outputs": [],
   "source": [
    "import re"
   ]
  },
  {
   "cell_type": "code",
   "execution_count": 80,
   "metadata": {},
   "outputs": [
    {
     "name": "stdout",
     "output_type": "stream",
     "text": [
      "['?', '?', '?', '?', '?', '?', '?', '?', '?', '?', '?', '?', '?', '?', '?', '?', '?', '?', '?', '?', '?', '?', '?', '?', '?', '?', '?', '?', '?', '?', '?', '?', '?', '?', '?', '?', '?', '?', '?', '?', '?', '?', '?', '?', '?', '?', '?', '?', '?', '?']\n"
     ]
    }
   ],
   "source": [
    "question = [q for q in text if re.search(r'(\\?)$',q)]\n",
    "print(question)"
   ]
  },
  {
   "cell_type": "markdown",
   "metadata": {},
   "source": [
    "Step 5: \n",
    "Imported Counter from collections package to count the number of questions in our dataset. As we can see, there are 50 questions."
   ]
  },
  {
   "cell_type": "code",
   "execution_count": 81,
   "metadata": {},
   "outputs": [
    {
     "name": "stdout",
     "output_type": "stream",
     "text": [
      "Counter({'?': 50})\n"
     ]
    }
   ],
   "source": [
    "from collections import Counter\n",
    "c = Counter(question)\n",
    "print(c)"
   ]
  },
  {
   "cell_type": "markdown",
   "metadata": {},
   "source": [
    "Step 6: \n",
    "Similarly, we have searched for all the sentences ending with ‘.’ to know the number of supporting facts and sentences for each question approximately. As we can see, there are 99 questions.  \n",
    " \n",
    "Therefore, there are two sentences (one supporting fact) for each question on an average. "
   ]
  },
  {
   "cell_type": "code",
   "execution_count": 82,
   "metadata": {},
   "outputs": [
    {
     "name": "stdout",
     "output_type": "stream",
     "text": [
      "['.', '.', '.', '.', '.', '.', '.', '.', '.', '.', '.', '.', '.', '.', '.', '.', '.', '.', '.', '.', '.', '.', '.', '.', '.', '.', '.', '.', '.', '.', '.', '.', '.', '.', '.', '.', '.', '.', '.', '.', '.', '.', '.', '.', '.', '.', '.', '.', '.', '.', '.', '.', '.', '.', '.', '.', '.', '.', '.', '.', '.', '.', '.', '.', '.', '.', '.', '.', '.', '.', '.', '.', '.', '.', '.', '.', '.', '.', '.', '.', '.', '.', '.', '.', '.', '.', '.', '.', '.', '.', '.', '.', '.', '.', '.', '.', '.', '.', '.']\n"
     ]
    }
   ],
   "source": [
    "sentence = [q for q in text if re.search(r'(\\.)$',q)]\n",
    "print(sentence)"
   ]
  },
  {
   "cell_type": "code",
   "execution_count": 83,
   "metadata": {},
   "outputs": [
    {
     "name": "stdout",
     "output_type": "stream",
     "text": [
      "Counter({'.': 99})\n"
     ]
    }
   ],
   "source": [
    "s = Counter(sentence)\n",
    "print(s)"
   ]
  },
  {
   "cell_type": "markdown",
   "metadata": {},
   "source": [
    "Result: There are 50 questions and 99 sentences in this dataset"
   ]
  },
  {
   "cell_type": "markdown",
   "metadata": {},
   "source": [
    "# Sentiment Analysis"
   ]
  },
  {
   "cell_type": "markdown",
   "metadata": {},
   "source": [
    "Sentiment Analysis is the process of computationally identifying and categorizing opinions expressed in a piece of text, especially in order to determine whether the writer's attitude towards a particular topic, product, etc., is positive, negative, or neutral.  \n",
    " \n",
    "In this case, we have used Vader – SentimentIntensityAnalyzer. \n",
    "VADER (Valence Aware Dictionary for sEntiment Reasoning) is a model used for text sentiment analysis that is sensitive to both polarity (positive/negative) and intensity (strength) of emotion. VADER text sentiment analysis uses a human-centric approach, combining qualitative analysis and empirical validation by using human raters and the wisdom of the crowd. \n",
    "\n",
    "It combines a dictionary, which maps lexical features to emotion intensity, and five simple heuristics, which encode how contextual elements increment, decrement, or negate the sentiment of text."
   ]
  },
  {
   "cell_type": "code",
   "execution_count": 84,
   "metadata": {},
   "outputs": [
    {
     "name": "stderr",
     "output_type": "stream",
     "text": [
      "C:\\ProgramData\\Miniconda3\\lib\\site-packages\\nltk\\twitter\\__init__.py:20: UserWarning: The twython library has not been installed. Some functionality from the twitter package will not be available.\n",
      "  warnings.warn(\"The twython library has not been installed. \"\n"
     ]
    }
   ],
   "source": [
    "import nltk\n",
    "from nltk.sentiment.vader import SentimentIntensityAnalyzer"
   ]
  },
  {
   "cell_type": "markdown",
   "metadata": {},
   "source": [
    "The VADER algorithm outputs sentiment scores to 4 classes of sentiments: \n",
    "•\tneg: Negative \n",
    "•\tneu: Neutral \n",
    "•\tpos: Positive \n",
    "•\tcompound: Compound (i.e. aggregated score) "
   ]
  },
  {
   "cell_type": "code",
   "execution_count": 85,
   "metadata": {},
   "outputs": [
    {
     "name": "stdout",
     "output_type": "stream",
     "text": [
      "1 Mary is in the school.\n",
      "neg: 0.0,\n",
      "neu: 1.0,\n",
      "pos: 0.0,\n",
      "compound: 0.0,\n",
      "2 Bill is in the kitchen.\n",
      "neg: 0.0,\n",
      "neu: 1.0,\n",
      "pos: 0.0,\n",
      "compound: 0.0,\n",
      "3 Is Bill in the bedroom?\n",
      "neg: 0.0,\n",
      "neu: 1.0,\n",
      "pos: 0.0,\n",
      "compound: 0.0,\n",
      "no\t2\n",
      "4 Bill journeyed to the bedroom.\n",
      "neg: 0.306,\n",
      "neu: 0.694,\n",
      "pos: 0.0,\n",
      "compound: -0.296,\n",
      "5 Fred travelled to the cinema.\n",
      "neg: 0.0,\n",
      "neu: 1.0,\n",
      "pos: 0.0,\n",
      "compound: 0.0,\n",
      "6 Is Bill in the bedroom?\n",
      "neg: 0.0,\n",
      "neu: 1.0,\n",
      "pos: 0.0,\n",
      "compound: 0.0,\n",
      "yes\t4\n",
      "7 Fred went back to the park.\n",
      "neg: 0.0,\n",
      "neu: 0.69,\n",
      "pos: 0.31,\n",
      "compound: 0.4019,\n",
      "8 Bill is either in the school or the office.\n",
      "neg: 0.0,\n",
      "neu: 1.0,\n",
      "pos: 0.0,\n",
      "compound: 0.0,\n",
      "9 Is Bill in the park?\n",
      "neg: 0.0,\n",
      "neu: 1.0,\n",
      "pos: 0.0,\n",
      "compound: 0.0,\n",
      "no\t8\n",
      "10 Mary went to the cinema.\n",
      "neg: 0.268,\n",
      "neu: 0.732,\n",
      "pos: 0.0,\n",
      "compound: -0.296,\n",
      "11 Julie is either in the school or the office.\n",
      "neg: 0.0,\n",
      "neu: 1.0,\n",
      "pos: 0.0,\n",
      "compound: 0.0,\n",
      "12 Is Fred in the park?\n",
      "neg: 0.0,\n",
      "neu: 1.0,\n",
      "pos: 0.0,\n",
      "compound: 0.0,\n",
      "yes\t7\n",
      "13 Julie is either in the park or the school.\n",
      "neg: 0.0,\n",
      "neu: 0.787,\n",
      "pos: 0.213,\n",
      "compound: 0.4019,\n",
      "14 Bill went back to the office.\n",
      "neg: 0.0,\n",
      "neu: 1.0,\n",
      "pos: 0.0,\n",
      "compound: 0.0,\n",
      "15 Is Bill in the office?\n",
      "neg: 0.0,\n",
      "neu: 1.0,\n",
      "pos: 0.0,\n",
      "compound: 0.0,\n",
      "yes\t14\n",
      "1 Fred journeyed to the office.\n",
      "neg: 0.0,\n",
      "neu: 0.69,\n",
      "pos: 0.31,\n",
      "compound: 0.4019,\n",
      "2 Fred went back to the cinema.\n",
      "neg: 0.0,\n",
      "neu: 1.0,\n",
      "pos: 0.0,\n",
      "compound: 0.0,\n",
      "3 Is Fred in the office?\n",
      "neg: 0.0,\n",
      "neu: 1.0,\n",
      "pos: 0.0,\n",
      "compound: 0.0,\n",
      "no\t2\n",
      "4 Julie is either in the school or the office.\n",
      "neg: 0.196,\n",
      "neu: 0.804,\n",
      "pos: 0.0,\n",
      "compound: -0.296,\n",
      "5 Julie moved to the cinema.\n",
      "neg: 0.0,\n",
      "neu: 1.0,\n",
      "pos: 0.0,\n",
      "compound: 0.0,\n",
      "6 Is Julie in the cinema?\n",
      "neg: 0.0,\n",
      "neu: 1.0,\n",
      "pos: 0.0,\n",
      "compound: 0.0,\n",
      "yes\t5\n",
      "7 Julie is either in the kitchen or the bedroom.\n",
      "neg: 0.0,\n",
      "neu: 0.769,\n",
      "pos: 0.231,\n",
      "compound: 0.4019,\n",
      "8 Julie journeyed to the school.\n",
      "neg: 0.0,\n",
      "neu: 1.0,\n",
      "pos: 0.0,\n",
      "compound: 0.0,\n",
      "9 Is Julie in the school?\n",
      "neg: 0.0,\n",
      "neu: 1.0,\n",
      "pos: 0.0,\n",
      "compound: 0.0,\n",
      "yes\t8\n",
      "10 Bill is either in the bedroom or the school.\n",
      "neg: 0.0,\n",
      "neu: 0.787,\n",
      "pos: 0.213,\n",
      "compound: 0.4019,\n",
      "11 Bill went to the bedroom.\n",
      "neg: 0.0,\n",
      "neu: 1.0,\n",
      "pos: 0.0,\n",
      "compound: 0.0,\n",
      "12 Is Bill in the office?\n",
      "neg: 0.0,\n",
      "neu: 1.0,\n",
      "pos: 0.0,\n",
      "compound: 0.0,\n",
      "no\t11\n",
      "13 Julie journeyed to the park.\n",
      "neg: 0.239,\n",
      "neu: 0.761,\n",
      "pos: 0.0,\n",
      "compound: -0.296,\n",
      "14 Mary travelled to the school.\n",
      "neg: 0.0,\n",
      "neu: 1.0,\n",
      "pos: 0.0,\n",
      "compound: 0.0,\n",
      "15 Is Julie in the park?\n",
      "neg: 0.0,\n",
      "neu: 1.0,\n",
      "pos: 0.0,\n",
      "compound: 0.0,\n",
      "yes\t13\n",
      "1 Bill is in the kitchen.\n",
      "neg: 0.0,\n",
      "neu: 0.69,\n",
      "pos: 0.31,\n",
      "compound: 0.4019,\n",
      "2 Julie is either in the school or the cinema.\n",
      "neg: 0.0,\n",
      "neu: 1.0,\n",
      "pos: 0.0,\n",
      "compound: 0.0,\n",
      "3 Is Bill in the bedroom?\n",
      "neg: 0.0,\n",
      "neu: 1.0,\n",
      "pos: 0.0,\n",
      "compound: 0.0,\n",
      "no\t1\n",
      "4 Fred is in the bedroom.\n",
      "neg: 0.306,\n",
      "neu: 0.694,\n",
      "pos: 0.0,\n",
      "compound: -0.296,\n",
      "5 Bill is in the school.\n",
      "neg: 0.0,\n",
      "neu: 1.0,\n",
      "pos: 0.0,\n",
      "compound: 0.0,\n",
      "6 Is Julie in the bedroom?\n",
      "neg: 0.0,\n",
      "neu: 1.0,\n",
      "pos: 0.0,\n",
      "compound: 0.0,\n",
      "no\t2\n",
      "7 Julie is either in the bedroom or the office.\n",
      "neg: 0.196,\n",
      "neu: 0.804,\n",
      "pos: 0.0,\n",
      "compound: -0.296,\n",
      "8 Fred is in the park.\n",
      "neg: 0.0,\n",
      "neu: 1.0,\n",
      "pos: 0.0,\n",
      "compound: 0.0,\n",
      "9 Is Julie in the bedroom?\n",
      "neg: 0.0,\n",
      "neu: 1.0,\n",
      "pos: 0.0,\n",
      "compound: 0.0,\n",
      "maybe\t7\n",
      "10 Fred is either in the school or the bedroom.\n",
      "neg: 0.0,\n",
      "neu: 1.0,\n",
      "pos: 0.0,\n",
      "compound: 0.0,\n",
      "11 Mary went to the kitchen.\n",
      "neg: 0.0,\n",
      "neu: 1.0,\n",
      "pos: 0.0,\n",
      "compound: 0.0,\n",
      "12 Is Bill in the school?\n",
      "neg: 0.0,\n",
      "neu: 1.0,\n",
      "pos: 0.0,\n",
      "compound: 0.0,\n",
      "yes\t5\n",
      "13 Julie is either in the kitchen or the bedroom.\n",
      "neg: 0.0,\n",
      "neu: 0.787,\n",
      "pos: 0.213,\n",
      "compound: 0.4019,\n",
      "14 Julie is in the school.\n",
      "neg: 0.0,\n",
      "neu: 1.0,\n",
      "pos: 0.0,\n",
      "compound: 0.0,\n",
      "15 Is Julie in the school?\n",
      "neg: 0.0,\n",
      "neu: 1.0,\n",
      "pos: 0.0,\n",
      "compound: 0.0,\n",
      "yes\t14\n",
      "1 Julie journeyed to the bedroom.\n",
      "neg: 0.0,\n",
      "neu: 0.69,\n",
      "pos: 0.31,\n",
      "compound: 0.4019,\n",
      "2 Julie travelled to the park.\n",
      "neg: 0.0,\n",
      "neu: 1.0,\n",
      "pos: 0.0,\n",
      "compound: 0.0,\n",
      "3 Is Julie in the kitchen?\n",
      "neg: 0.0,\n",
      "neu: 1.0,\n",
      "pos: 0.0,\n",
      "compound: 0.0,\n",
      "no\t2\n",
      "4 Fred is either in the office or the kitchen.\n",
      "neg: 0.196,\n",
      "neu: 0.804,\n",
      "pos: 0.0,\n",
      "compound: -0.296,\n",
      "5 Julie travelled to the bedroom.\n",
      "neg: 0.0,\n",
      "neu: 1.0,\n",
      "pos: 0.0,\n",
      "compound: 0.0,\n",
      "6 Is Julie in the bedroom?\n",
      "neg: 0.0,\n",
      "neu: 1.0,\n",
      "pos: 0.0,\n",
      "compound: 0.0,\n",
      "yes\t5\n",
      "7 Julie moved to the office.\n",
      "neg: 0.0,\n",
      "neu: 0.649,\n",
      "pos: 0.351,\n",
      "compound: 0.4019,\n",
      "8 Mary is either in the office or the kitchen.\n",
      "neg: 0.0,\n",
      "neu: 1.0,\n",
      "pos: 0.0,\n",
      "compound: 0.0,\n",
      "9 Is Julie in the kitchen?\n",
      "neg: 0.0,\n",
      "neu: 1.0,\n",
      "pos: 0.0,\n",
      "compound: 0.0,\n",
      "no\t7\n",
      "10 Bill is in the kitchen.\n",
      "neg: 0.268,\n",
      "neu: 0.732,\n",
      "pos: 0.0,\n",
      "compound: -0.296,\n",
      "11 Bill is either in the bedroom or the park.\n",
      "neg: 0.0,\n",
      "neu: 1.0,\n",
      "pos: 0.0,\n",
      "compound: 0.0,\n",
      "12 Is Mary in the kitchen?\n",
      "neg: 0.0,\n",
      "neu: 1.0,\n",
      "pos: 0.0,\n",
      "compound: 0.0,\n",
      "maybe\t8\n",
      "13 Fred is either in the bedroom or the bedroom.\n",
      "neg: 0.0,\n",
      "neu: 1.0,\n",
      "pos: 0.0,\n",
      "compound: 0.0,\n",
      "14 Julie went to the bedroom.\n",
      "neg: 0.0,\n",
      "neu: 1.0,\n",
      "pos: 0.0,\n",
      "compound: 0.0,\n",
      "15 Is Mary in the kitchen?\n",
      "neg: 0.0,\n",
      "neu: 1.0,\n",
      "pos: 0.0,\n",
      "compound: 0.0,\n",
      "maybe\t8\n",
      "1 Bill went to the kitchen.\n",
      "neg: 0.0,\n",
      "neu: 1.0,\n",
      "pos: 0.0,\n",
      "compound: 0.0,\n",
      "2 Fred is either in the office or the park.\n",
      "neg: 0.0,\n",
      "neu: 1.0,\n",
      "pos: 0.0,\n",
      "compound: 0.0,\n",
      "3 Is Fred in the park?\n",
      "neg: 0.0,\n",
      "neu: 1.0,\n",
      "pos: 0.0,\n",
      "compound: 0.0,\n",
      "maybe\t2\n",
      "4 Fred went to the bedroom.\n",
      "neg: 0.0,\n",
      "neu: 1.0,\n",
      "pos: 0.0,\n",
      "compound: 0.0,\n",
      "5 Mary is either in the school or the bedroom.\n",
      "neg: 0.0,\n",
      "neu: 1.0,\n",
      "pos: 0.0,\n",
      "compound: 0.0,\n",
      "6 Is Fred in the school?\n",
      "neg: 0.0,\n",
      "neu: 1.0,\n",
      "pos: 0.0,\n",
      "compound: 0.0,\n",
      "no\t4\n",
      "7 Bill is either in the office or the kitchen.\n",
      "neg: 0.196,\n",
      "neu: 0.804,\n",
      "pos: 0.0,\n",
      "compound: -0.296,\n",
      "8 Julie is either in the kitchen or the park.\n",
      "neg: 0.0,\n",
      "neu: 1.0,\n",
      "pos: 0.0,\n",
      "compound: 0.0,\n",
      "9 Is Fred in the bedroom?\n",
      "neg: 0.0,\n",
      "neu: 1.0,\n",
      "pos: 0.0,\n",
      "compound: 0.0,\n",
      "yes\t4\n",
      "10 Mary is in the park.\n",
      "neg: 0.0,\n",
      "neu: 0.69,\n",
      "pos: 0.31,\n",
      "compound: 0.4019,\n",
      "11 Mary went back to the office.\n",
      "neg: 0.0,\n",
      "neu: 1.0,\n",
      "pos: 0.0,\n",
      "compound: 0.0,\n",
      "12 Is Mary in the kitchen?\n",
      "neg: 0.0,\n",
      "neu: 1.0,\n",
      "pos: 0.0,\n",
      "compound: 0.0,\n",
      "no\t11\n",
      "13 Bill went back to the kitchen.\n",
      "neg: 0.216,\n",
      "neu: 0.784,\n",
      "pos: 0.0,\n",
      "compound: -0.296,\n",
      "14 Bill journeyed to the bedroom.\n",
      "neg: 0.0,\n",
      "neu: 1.0,\n",
      "pos: 0.0,\n",
      "compound: 0.0,\n",
      "15 Is Mary in the office?\n",
      "neg: 0.0,\n",
      "neu: 1.0,\n",
      "pos: 0.0,\n",
      "compound: 0.0,\n",
      "yes\t11\n",
      "1 Julie journeyed to the cinema.\n",
      "neg: 0.0,\n",
      "neu: 0.69,\n",
      "pos: 0.31,\n",
      "compound: 0.4019,\n",
      "2 Fred is in the bedroom.\n",
      "neg: 0.0,\n",
      "neu: 1.0,\n",
      "pos: 0.0,\n",
      "compound: 0.0,\n",
      "3 Is Julie in the school?\n",
      "neg: 0.0,\n",
      "neu: 1.0,\n",
      "pos: 0.0,\n",
      "compound: 0.0,\n",
      "no\t1\n",
      "4 Julie moved to the kitchen.\n",
      "neg: 0.306,\n",
      "neu: 0.694,\n",
      "pos: 0.0,\n",
      "compound: -0.296,\n",
      "5 Mary travelled to the park.\n",
      "neg: 0.0,\n",
      "neu: 1.0,\n",
      "pos: 0.0,\n",
      "compound: 0.0,\n",
      "6 Is Julie in the kitchen?\n",
      "neg: 0.0,\n",
      "neu: 1.0,\n",
      "pos: 0.0,\n",
      "compound: 0.0,\n",
      "yes\t4\n",
      "7 Mary is in the bedroom.\n",
      "neg: 0.0,\n",
      "neu: 0.649,\n",
      "pos: 0.351,\n",
      "compound: 0.4019,\n",
      "8 Fred is either in the kitchen or the kitchen.\n",
      "neg: 0.0,\n",
      "neu: 1.0,\n",
      "pos: 0.0,\n",
      "compound: 0.0,\n",
      "9 Is Mary in the office?\n",
      "neg: 0.0,\n",
      "neu: 1.0,\n",
      "pos: 0.0,\n",
      "compound: 0.0,\n",
      "no\t7\n",
      "10 Julie is either in the cinema or the park.\n",
      "neg: 0.18,\n",
      "neu: 0.82,\n",
      "pos: 0.0,\n",
      "compound: -0.296,\n",
      "11 Bill is either in the office or the office.\n",
      "neg: 0.0,\n",
      "neu: 1.0,\n",
      "pos: 0.0,\n",
      "compound: 0.0,\n",
      "12 Is Mary in the office?\n",
      "neg: 0.0,\n",
      "neu: 1.0,\n",
      "pos: 0.0,\n",
      "compound: 0.0,\n",
      "no\t7\n",
      "13 Bill is either in the park or the park.\n",
      "neg: 0.18,\n",
      "neu: 0.82,\n",
      "pos: 0.0,\n",
      "compound: -0.296,\n",
      "14 Julie is either in the bedroom or the school.\n",
      "neg: 0.0,\n",
      "neu: 1.0,\n",
      "pos: 0.0,\n",
      "compound: 0.0,\n",
      "15 Is Fred in the cinema?\n",
      "neg: 0.0,\n",
      "neu: 1.0,\n",
      "pos: 0.0,\n",
      "compound: 0.0,\n",
      "no\t8\n",
      "1 Fred is in the kitchen.\n",
      "neg: 0.306,\n",
      "neu: 0.694,\n",
      "pos: 0.0,\n",
      "compound: -0.296,\n",
      "2 Bill moved to the bedroom.\n",
      "neg: 0.0,\n",
      "neu: 1.0,\n",
      "pos: 0.0,\n",
      "compound: 0.0,\n",
      "3 Is Fred in the kitchen?\n",
      "neg: 0.0,\n",
      "neu: 1.0,\n",
      "pos: 0.0,\n",
      "compound: 0.0,\n",
      "yes\t1\n",
      "4 Fred is in the school.\n",
      "neg: 0.0,\n",
      "neu: 0.649,\n",
      "pos: 0.351,\n",
      "compound: 0.4019,\n",
      "5 Bill went to the cinema.\n",
      "neg: 0.0,\n",
      "neu: 1.0,\n",
      "pos: 0.0,\n",
      "compound: 0.0,\n",
      "6 Is Bill in the school?\n",
      "neg: 0.0,\n",
      "neu: 1.0,\n",
      "pos: 0.0,\n",
      "compound: 0.0,\n",
      "no\t5\n",
      "7 Julie travelled to the park.\n",
      "neg: 0.306,\n",
      "neu: 0.694,\n",
      "pos: 0.0,\n",
      "compound: -0.296,\n",
      "8 Julie is in the office.\n",
      "neg: 0.0,\n",
      "neu: 1.0,\n",
      "pos: 0.0,\n",
      "compound: 0.0,\n",
      "9 Is Bill in the cinema?\n",
      "neg: 0.0,\n",
      "neu: 1.0,\n",
      "pos: 0.0,\n",
      "compound: 0.0,\n",
      "yes\t5\n",
      "10 Julie journeyed to the kitchen.\n",
      "neg: 0.0,\n",
      "neu: 0.69,\n",
      "pos: 0.31,\n",
      "compound: 0.4019,\n",
      "12 Is Julie in the school?\n",
      "neg: 0.0,\n",
      "neu: 1.0,\n",
      "pos: 0.0,\n",
      "compound: 0.0,\n",
      "no\t8\n",
      "13 Bill is either in the park or the bedroom.\n",
      "neg: 0.18,\n",
      "neu: 0.82,\n",
      "pos: 0.0,\n",
      "compound: -0.296,\n",
      "14 Bill is in the school.\n",
      "neg: 0.0,\n",
      "neu: 1.0,\n",
      "pos: 0.0,\n",
      "compound: 0.0,\n",
      "15 Is Mary in the school?\n",
      "neg: 0.0,\n",
      "neu: 1.0,\n",
      "pos: 0.0,\n",
      "compound: 0.0,\n",
      "maybe\t11\n",
      "\n",
      "1 Julie moved to the cinema.\n",
      "neg: 0.0,\n",
      "neu: 1.0,\n",
      "pos: 0.0,\n",
      "compound: 0.0,\n",
      "11 Mary journeyed to the school.\n",
      "neg: 0.0,\n",
      "neu: 1.0,\n",
      "pos: 0.0,\n",
      "compound: 0.0,\n",
      "12 Is Mary in the park?\n",
      "neg: 0.0,\n",
      "neu: 1.0,\n",
      "pos: 0.0,\n",
      "compound: 0.0,\n",
      "no\t11\n",
      "13 Mary is either in the kitchen or the office.\n",
      "neg: 0.167,\n",
      "neu: 0.833,\n",
      "pos: 0.0,\n",
      "compound: -0.296,\n",
      "14 Bill went to the school.\n",
      "neg: 0.0,\n",
      "neu: 1.0,\n",
      "pos: 0.0,\n",
      "compound: 0.0,\n",
      "15 Is Fred in the school?\n",
      "neg: 0.0,\n",
      "neu: 1.0,\n",
      "pos: 0.0,\n",
      "compound: 0.0,\n",
      "no\t10\n",
      "1 Fred went to the school.\n",
      "neg: 0.268,\n",
      "neu: 0.732,\n",
      "pos: 0.0,\n",
      "compound: -0.296,\n",
      "2 Fred travelled to the kitchen.\n",
      "neg: 0.0,\n",
      "neu: 1.0,\n",
      "pos: 0.0,\n",
      "compound: 0.0,\n",
      "3 Is Fred in the kitchen?\n",
      "neg: 0.0,\n",
      "neu: 1.0,\n",
      "pos: 0.0,\n",
      "compound: 0.0,\n",
      "yes\t2\n",
      "4 Fred went back to the school.\n",
      "neg: 0.0,\n",
      "neu: 0.69,\n",
      "pos: 0.31,\n",
      "compound: 0.4019,\n",
      "5 Fred moved to the bedroom.\n",
      "neg: 0.0,\n",
      "neu: 1.0,\n",
      "pos: 0.0,\n",
      "compound: 0.0,\n",
      "6 Is Fred in the school?\n",
      "neg: 0.0,\n",
      "neu: 1.0,\n",
      "pos: 0.0,\n",
      "compound: 0.0,\n",
      "no\t5\n",
      "7 Mary is in the office.\n",
      "neg: 0.306,\n",
      "neu: 0.694,\n",
      "pos: 0.0,\n",
      "compound: -0.296,\n",
      "8 Mary is either in the kitchen or the kitchen.\n",
      "neg: 0.0,\n",
      "neu: 1.0,\n",
      "pos: 0.0,\n",
      "compound: 0.0,\n",
      "9 Is Mary in the school?\n",
      "neg: 0.0,\n",
      "neu: 1.0,\n",
      "pos: 0.0,\n",
      "compound: 0.0,\n",
      "no\t8\n",
      "10 Julie went to the office.\n",
      "neg: 0.268,\n",
      "neu: 0.732,\n",
      "pos: 0.0,\n",
      "compound: -0.296,\n",
      "11 Julie moved to the cinema.\n",
      "neg: 0.0,\n",
      "neu: 1.0,\n",
      "pos: 0.0,\n",
      "compound: 0.0,\n",
      "12 Is Mary in the kitchen?\n",
      "neg: 0.0,\n",
      "neu: 1.0,\n",
      "pos: 0.0,\n",
      "compound: 0.0,\n",
      "maybe\t8\n",
      "13 Bill went back to the office.\n",
      "neg: 0.0,\n",
      "neu: 1.0,\n",
      "pos: 0.0,\n",
      "compound: 0.0,\n",
      "14 Fred is in the kitchen.\n",
      "neg: 0.0,\n",
      "neu: 1.0,\n",
      "pos: 0.0,\n",
      "compound: 0.0,\n",
      "15 Is Mary in the kitchen?\n",
      "neg: 0.0,\n",
      "neu: 1.0,\n",
      "pos: 0.0,\n",
      "compound: 0.0,\n",
      "maybe\t8\n",
      "1 Julie went back to the cinema.\n",
      "neg: 0.0,\n",
      "neu: 1.0,\n",
      "pos: 0.0,\n",
      "compound: 0.0,\n",
      "2 Bill travelled to the kitchen.\n",
      "neg: 0.0,\n",
      "neu: 1.0,\n",
      "pos: 0.0,\n",
      "compound: 0.0,\n",
      "3 Is Julie in the cinema?\n",
      "neg: 0.0,\n",
      "neu: 1.0,\n",
      "pos: 0.0,\n",
      "compound: 0.0,\n",
      "yes\t1\n",
      "4 Fred moved to the bedroom.\n",
      "neg: 0.0,\n",
      "neu: 0.649,\n",
      "pos: 0.351,\n",
      "compound: 0.4019,\n",
      "5 Julie went back to the kitchen.\n",
      "neg: 0.0,\n",
      "neu: 1.0,\n",
      "pos: 0.0,\n",
      "compound: 0.0,\n",
      "6 Is Julie in the park?\n",
      "neg: 0.0,\n",
      "neu: 1.0,\n",
      "pos: 0.0,\n",
      "compound: 0.0,\n",
      "no\t5\n",
      "7 Mary is in the kitchen.\n",
      "neg: 0.306,\n",
      "neu: 0.694,\n",
      "pos: 0.0,\n",
      "compound: -0.296,\n",
      "8 Bill went back to the park.\n",
      "neg: 0.0,\n",
      "neu: 1.0,\n",
      "pos: 0.0,\n",
      "compound: 0.0,\n",
      "9 Is Mary in the kitchen?\n",
      "neg: 0.0,\n",
      "neu: 1.0,\n",
      "pos: 0.0,\n",
      "compound: 0.0,\n",
      "yes\t7\n",
      "10 Mary is in the bedroom.\n",
      "neg: 0.0,\n",
      "neu: 0.69,\n",
      "pos: 0.31,\n",
      "compound: 0.4019,\n",
      "11 Fred is either in the park or the office.\n",
      "neg: 0.0,\n",
      "neu: 1.0,\n",
      "pos: 0.0,\n",
      "compound: 0.0,\n",
      "12 Is Fred in the office?\n",
      "neg: 0.0,\n",
      "neu: 1.0,\n",
      "pos: 0.0,\n",
      "compound: 0.0,\n",
      "maybe\t11\n",
      "13 Fred is in the park.\n",
      "neg: 0.0,\n",
      "neu: 1.0,\n",
      "pos: 0.0,\n",
      "compound: 0.0,\n",
      "14 Mary is either in the cinema or the cinema.\n",
      "neg: 0.0,\n",
      "neu: 1.0,\n",
      "pos: 0.0,\n",
      "compound: 0.0,\n",
      "15 Is Fred in the park?\n",
      "neg: 0.0,\n",
      "neu: 1.0,\n",
      "pos: 0.0,\n",
      "compound: 0.0,\n",
      "yes\t13\n",
      "1 Fred is in the office.\n",
      "neg: 0.0,\n",
      "neu: 0.69,\n",
      "pos: 0.31,\n",
      "compound: 0.4019,\n",
      "2 Mary is in the park.\n",
      "neg: 0.0,\n",
      "neu: 1.0,\n",
      "pos: 0.0,\n",
      "compound: 0.0,\n",
      "3 Is Mary in the bedroom?\n",
      "neg: 0.0,\n",
      "neu: 1.0,\n",
      "pos: 0.0,\n",
      "compound: 0.0,\n",
      "no\t2\n",
      "4 Fred went back to the bedroom.\n",
      "neg: 0.268,\n",
      "neu: 0.732,\n",
      "pos: 0.0,\n",
      "compound: -0.296,\n",
      "5 Mary is either in the office or the school.\n",
      "neg: 0.0,\n",
      "neu: 1.0,\n",
      "pos: 0.0,\n",
      "compound: 0.0,\n",
      "6 Is Mary in the office?\n",
      "neg: 0.0,\n",
      "neu: 1.0,\n",
      "pos: 0.0,\n",
      "compound: 0.0,\n",
      "maybe\t5\n",
      "7 Fred went back to the school.\n",
      "neg: 0.0,\n",
      "neu: 1.0,\n",
      "pos: 0.0,\n",
      "compound: 0.0,\n",
      "8 Fred is either in the bedroom or the bedroom.\n",
      "neg: 0.0,\n",
      "neu: 1.0,\n",
      "pos: 0.0,\n",
      "compound: 0.0,\n",
      "9 Is Mary in the office?\n",
      "neg: 0.0,\n",
      "neu: 1.0,\n",
      "pos: 0.0,\n",
      "compound: 0.0,\n",
      "maybe\t5\n",
      "neg: 0.0,\n",
      "neu: 1.0,\n",
      "pos: 0.0,\n",
      "compound: 0.0,\n"
     ]
    }
   ],
   "source": [
    "sentenceAnalyzer = SentimentIntensityAnalyzer()\n",
    "for sentence in tokens:\n",
    "    print(sentence)\n",
    "    ss = sentenceAnalyzer.polarity_scores(sentence)\n",
    "    for k in ss:\n",
    "        a = '{0}: {1},'.format(k, ss[k])\n",
    "        print(a)"
   ]
  },
  {
   "cell_type": "markdown",
   "metadata": {},
   "source": [
    "We then wanted to know the count of positive, negative, neutral and compound sentences in our dataset. \n",
    "This will tell us about the intensity and sentiment of the dataset. "
   ]
  },
  {
   "cell_type": "markdown",
   "metadata": {},
   "source": [
    "Negative:"
   ]
  },
  {
   "cell_type": "code",
   "execution_count": 86,
   "metadata": {},
   "outputs": [],
   "source": [
    "sentenceAnalyzer = SentimentIntensityAnalyzer()\n",
    "d = {}\n",
    "list_ss_neg = []\n",
    "for sentence in tokens:\n",
    "    #print(sentence)\n",
    "    list_ss_neg.append(sentenceAnalyzer.polarity_scores(sentence)['neg'])"
   ]
  },
  {
   "cell_type": "code",
   "execution_count": 87,
   "metadata": {},
   "outputs": [],
   "source": [
    "nonzero_neg_list=[]\n",
    "for a in list_ss_neg:\n",
    "    if a!=0.0:\n",
    "        nonzero_neg_list.append(a)"
   ]
  },
  {
   "cell_type": "code",
   "execution_count": 88,
   "metadata": {},
   "outputs": [
    {
     "name": "stdout",
     "output_type": "stream",
     "text": [
      "[0.306, 0.268, 0.196, 0.239, 0.306, 0.196, 0.196, 0.268, 0.196, 0.216, 0.306, 0.18, 0.18, 0.306, 0.306, 0.18, 0.167, 0.268, 0.306, 0.268, 0.306, 0.268]\n"
     ]
    }
   ],
   "source": [
    "print(nonzero_neg_list)"
   ]
  },
  {
   "cell_type": "code",
   "execution_count": 89,
   "metadata": {},
   "outputs": [
    {
     "name": "stdout",
     "output_type": "stream",
     "text": [
      "Counter({0.306: 7, 0.268: 5, 0.196: 4, 0.18: 3, 0.239: 1, 0.216: 1, 0.167: 1})\n"
     ]
    },
    {
     "data": {
      "text/plain": [
       "22"
      ]
     },
     "execution_count": 89,
     "metadata": {},
     "output_type": "execute_result"
    }
   ],
   "source": [
    "from collections import Counter\n",
    "count_neg = Counter(nonzero_neg_list)\n",
    "print(count_neg)\n",
    "sum(count_neg.values())"
   ]
  },
  {
   "cell_type": "markdown",
   "metadata": {},
   "source": [
    "There are 22 negative questions/responses in the dataset"
   ]
  },
  {
   "cell_type": "markdown",
   "metadata": {},
   "source": [
    "Positive:"
   ]
  },
  {
   "cell_type": "code",
   "execution_count": 90,
   "metadata": {},
   "outputs": [],
   "source": [
    "sentenceAnalyzer = SentimentIntensityAnalyzer()\n",
    "d = {}\n",
    "list_ss_pos=[]\n",
    "for sentence in tokens:\n",
    "    #print(sentence)\n",
    "    list_ss_pos.append(sentenceAnalyzer.polarity_scores(sentence)['pos'])"
   ]
  },
  {
   "cell_type": "code",
   "execution_count": 91,
   "metadata": {},
   "outputs": [],
   "source": [
    "nonzero_pos_list=[]\n",
    "for b in list_ss_pos:\n",
    "    if b!=0.0:\n",
    "        nonzero_pos_list.append(b)"
   ]
  },
  {
   "cell_type": "code",
   "execution_count": 92,
   "metadata": {},
   "outputs": [
    {
     "name": "stdout",
     "output_type": "stream",
     "text": [
      "[0.31, 0.213, 0.31, 0.231, 0.213, 0.31, 0.213, 0.31, 0.351, 0.31, 0.31, 0.351, 0.351, 0.31, 0.31, 0.351, 0.31, 0.31]\n"
     ]
    }
   ],
   "source": [
    "print(nonzero_pos_list)"
   ]
  },
  {
   "cell_type": "code",
   "execution_count": 93,
   "metadata": {},
   "outputs": [
    {
     "name": "stdout",
     "output_type": "stream",
     "text": [
      "Counter({0.31: 10, 0.351: 4, 0.213: 3, 0.231: 1})\n"
     ]
    },
    {
     "data": {
      "text/plain": [
       "18"
      ]
     },
     "execution_count": 93,
     "metadata": {},
     "output_type": "execute_result"
    }
   ],
   "source": [
    "from collections import Counter\n",
    "count_pos = Counter(nonzero_pos_list)\n",
    "print(count_pos)\n",
    "sum(count_pos.values())"
   ]
  },
  {
   "cell_type": "markdown",
   "metadata": {},
   "source": [
    "There are 18 positive questions/responses in the dataset"
   ]
  },
  {
   "cell_type": "markdown",
   "metadata": {},
   "source": [
    "Compound:"
   ]
  },
  {
   "cell_type": "code",
   "execution_count": 94,
   "metadata": {},
   "outputs": [],
   "source": [
    "sentenceAnalyzer = SentimentIntensityAnalyzer()\n",
    "d = {}\n",
    "list_ss_compound=[]\n",
    "for sentence in tokens:\n",
    "    #print(sentence)\n",
    "    list_ss_compound.append(sentenceAnalyzer.polarity_scores(sentence)['compound'])"
   ]
  },
  {
   "cell_type": "code",
   "execution_count": 95,
   "metadata": {},
   "outputs": [],
   "source": [
    "nonzero_compound_list=[]\n",
    "for b in list_ss_compound:\n",
    "    if b!=0.0:\n",
    "        nonzero_compound_list.append(b)"
   ]
  },
  {
   "cell_type": "code",
   "execution_count": 96,
   "metadata": {},
   "outputs": [
    {
     "name": "stdout",
     "output_type": "stream",
     "text": [
      "[-0.296, 0.4019, -0.296, 0.4019, 0.4019, -0.296, 0.4019, 0.4019, -0.296, 0.4019, -0.296, -0.296, 0.4019, 0.4019, -0.296, 0.4019, -0.296, -0.296, 0.4019, -0.296, 0.4019, -0.296, 0.4019, -0.296, -0.296, -0.296, 0.4019, -0.296, 0.4019, -0.296, -0.296, -0.296, 0.4019, -0.296, -0.296, 0.4019, -0.296, 0.4019, 0.4019, -0.296]\n"
     ]
    }
   ],
   "source": [
    "print(nonzero_compound_list)"
   ]
  },
  {
   "cell_type": "code",
   "execution_count": 97,
   "metadata": {},
   "outputs": [
    {
     "name": "stdout",
     "output_type": "stream",
     "text": [
      "Counter({-0.296: 22, 0.4019: 18})\n"
     ]
    }
   ],
   "source": [
    "from collections import Counter\n",
    "count_compound = Counter(nonzero_compound_list)\n",
    "print(count_compound)\n",
    "#sum(count_neu.values())"
   ]
  },
  {
   "cell_type": "markdown",
   "metadata": {},
   "source": [
    "According to the result, the dataset has more negative responses than positive. 22 negative responses and 18 negative to be precise.\n",
    "Compound score tells us how negative or how positive our dataset is. And here, the data is more negative."
   ]
  },
  {
   "cell_type": "markdown",
   "metadata": {},
   "source": [
    "# Model"
   ]
  },
  {
   "cell_type": "markdown",
   "metadata": {},
   "source": [
    "1.\tSet parameters which will be used during building End-to-end Memory Networks\n",
    "a.\t\"edim\", 20, \"internal state dimension [20]\"\n",
    "b.\t\"nhop\", 3, \"number of hops [3]\"\n",
    "c.\t\"mem_size\", 50, \"maximum number of sentences that can be encoded into memory [50]\"\n",
    "d.\t\"batch_size\", 32, \"batch size to use during training [32]\"\n",
    "e.\t\"nepoch\", 100, \"number of epoch to use during training [100]\"\n",
    "f.\t\"anneal_epoch\", 25, \"anneal the learning rate every <anneal_epoch> epochs [25]\"\n",
    "g.\t\"babi_task\", 1, \"index of bAbI task for the network to learn [1]\"\n",
    "h.\t\"init_lr\", 0.01, \"initial learning rate [0.01]\"\n",
    "i.\t\"anneal_rate\", 0.5, \"learning rate annealing rate [0.5]\"\n",
    "j.\t\"init_mean\", 0., \"weight initialization mean [0.]\"\n",
    "k.\t\"init_std\", 0.1, \"weight initialization std [0.1]\"\n",
    "l.\t\"max_grad_norm\", 40, \"clip gradients to this norm [40]\"\n",
    "m.\t\"data_dir\", \"./data\", \"dataset directory [./data]\"\n",
    "n.\t\"checkpoint_dir\", \"./checkpoints\", \"checkpoint directory [./checkpoints]\"\n",
    "o.\t\"lin_start\", False, \"True for linear start training, False for otherwise [False]\"\n",
    "p.\t\"is_test\", False, \"True for testing, False for training [False]\"\n",
    "q.\t\"show_progress\", False, \"print progress [False]\""
   ]
  },
  {
   "cell_type": "code",
   "execution_count": 1,
   "metadata": {
    "collapsed": true
   },
   "outputs": [],
   "source": [
    "import os\n",
    "\n",
    "import pprint\n",
    "import tensorflow as tf\n",
    "\n",
    "from data import read_data, pad_data\n",
    "from model import MemN2N\n",
    "\n",
    "pp = pprint.PrettyPrinter()\n",
    "\n",
    "flags = tf.app.flags\n",
    "\n",
    "flags.DEFINE_integer(\"edim\", 20, \"internal state dimension [20]\")\n",
    "flags.DEFINE_integer(\"nhop\", 3, \"number of hops [3]\")\n",
    "flags.DEFINE_integer(\"mem_size\", 50, \"maximum number of sentences that can be encoded into memory [50]\")\n",
    "flags.DEFINE_integer(\"batch_size\", 32, \"batch size to use during training [32]\")\n",
    "flags.DEFINE_integer(\"nepoch\", 100, \"number of epoch to use during training [100]\")\n",
    "flags.DEFINE_integer(\"anneal_epoch\", 25, \"anneal the learning rate every <anneal_epoch> epochs [25]\")\n",
    "flags.DEFINE_integer(\"babi_task\", 1, \"index of bAbI task for the network to learn [1]\")\n",
    "flags.DEFINE_float(\"init_lr\", 0.01, \"initial learning rate [0.01]\")\n",
    "flags.DEFINE_float(\"anneal_rate\", 0.5, \"learning rate annealing rate [0.5]\")\n",
    "flags.DEFINE_float(\"init_mean\", 0., \"weight initialization mean [0.]\")\n",
    "flags.DEFINE_float(\"init_std\", 0.1, \"weight initialization std [0.1]\")\n",
    "flags.DEFINE_float(\"max_grad_norm\", 40, \"clip gradients to this norm [40]\")\n",
    "flags.DEFINE_string(\"data_dir\", \"./data\", \"dataset directory [./data]\")\n",
    "flags.DEFINE_string(\"checkpoint_dir\", \"./checkpoints\", \"checkpoint directory [./checkpoints]\")\n",
    "flags.DEFINE_boolean(\"lin_start\", False, \"True for linear start training, False for otherwise [False]\")\n",
    "flags.DEFINE_boolean(\"is_test\", False, \"True for testing, False for training [False]\")\n",
    "flags.DEFINE_boolean(\"show_progress\", False, \"print progress [False]\")\n",
    "\n",
    "FLAGS = flags.FLAGS"
   ]
  },
  {
   "cell_type": "markdown",
   "metadata": {},
   "source": [
    "# Data preprocessing"
   ]
  },
  {
   "cell_type": "markdown",
   "metadata": {},
   "source": [
    "1.\tWord2idx represents a map between each word and its index in the dictionary\n",
    "2.\tMax_words represents the maximum words in each sentence\n",
    "3.\tmax_sentences  represents the maximum sentences in a story\n",
    "4.\tload data for train, valid and test\n",
    "5.\tPad_data dataset\n",
    "6.\tset other parameters to FLAGS and used to train the model\n",
    "7.\tcreate a TensorFlow session and build and train the model inside this session"
   ]
  },
  {
   "cell_type": "code",
   "execution_count": 2,
   "metadata": {},
   "outputs": [
    {
     "name": "stdout",
     "output_type": "stream",
     "text": [
      "{'anneal_epoch': 25,\n",
      " 'anneal_rate': 0.5,\n",
      " 'babi_task': 1,\n",
      " 'batch_size': 32,\n",
      " 'checkpoint_dir': './checkpoints',\n",
      " 'data_dir': './data',\n",
      " 'edim': 20,\n",
      " 'init_lr': 0.01,\n",
      " 'init_mean': 0.0,\n",
      " 'init_std': 0.1,\n",
      " 'is_test': False,\n",
      " 'lin_start': False,\n",
      " 'max_grad_norm': 40,\n",
      " 'max_sentences': 10,\n",
      " 'max_words': 7,\n",
      " 'mem_size': 50,\n",
      " 'nepoch': 100,\n",
      " 'nhop': 3,\n",
      " 'nwords': 20,\n",
      " 'show_progress': False}\n",
      "{'loss': 2.2065385140313043, 'epoch': 0, 'learning_rate': 0.01, 'validation_loss': 1.9798706436157227}\n",
      "{'loss': 1.8393249766031901, 'epoch': 1, 'learning_rate': 0.01, 'validation_loss': 1.9147063827514648}\n",
      "{'loss': 1.7263444349500867, 'epoch': 2, 'learning_rate': 0.01, 'validation_loss': 1.8230143356323243}\n",
      "{'loss': 1.5752538384331598, 'epoch': 3, 'learning_rate': 0.01, 'validation_loss': 1.612121925354004}\n",
      "{'loss': 1.283368165757921, 'epoch': 4, 'learning_rate': 0.01, 'validation_loss': 1.2552183151245118}\n",
      "{'loss': 0.94624469121297206, 'epoch': 5, 'learning_rate': 0.01, 'validation_loss': 1.0329034423828125}\n",
      "{'loss': 0.8295885467529297, 'epoch': 6, 'learning_rate': 0.01, 'validation_loss': 0.91608432769775394}\n",
      "{'loss': 0.77332800123426648, 'epoch': 7, 'learning_rate': 0.01, 'validation_loss': 0.85907447814941407}\n",
      "{'loss': 0.73419143888685434, 'epoch': 8, 'learning_rate': 0.01, 'validation_loss': 0.82049818038940425}\n",
      "{'loss': 0.70736796167161731, 'epoch': 9, 'learning_rate': 0.01, 'validation_loss': 0.7906919479370117}\n",
      "{'loss': 0.68978776825798882, 'epoch': 10, 'learning_rate': 0.01, 'validation_loss': 0.77310092926025387}\n",
      "{'loss': 0.67667705959743929, 'epoch': 11, 'learning_rate': 0.01, 'validation_loss': 0.76215549468994137}\n",
      "{'loss': 0.66639693260192867, 'epoch': 12, 'learning_rate': 0.01, 'validation_loss': 0.75382472991943361}\n",
      "{'loss': 0.65785998768276643, 'epoch': 13, 'learning_rate': 0.01, 'validation_loss': 0.74587106704711914}\n",
      "{'loss': 0.65056866857740614, 'epoch': 14, 'learning_rate': 0.01, 'validation_loss': 0.73721050262451171}\n",
      "{'loss': 0.64430754873487683, 'epoch': 15, 'learning_rate': 0.01, 'validation_loss': 0.72745965957641601}\n",
      "{'loss': 0.63896181742350255, 'epoch': 16, 'learning_rate': 0.01, 'validation_loss': 0.71651403427124027}\n",
      "{'loss': 0.63438317086961538, 'epoch': 17, 'learning_rate': 0.01, 'validation_loss': 0.7043200302124023}\n",
      "{'loss': 0.63034479565090606, 'epoch': 18, 'learning_rate': 0.01, 'validation_loss': 0.69114040374755858}\n",
      "{'loss': 0.62662652439541289, 'epoch': 19, 'learning_rate': 0.01, 'validation_loss': 0.67805513381958005}\n",
      "{'loss': 0.62320607609219025, 'epoch': 20, 'learning_rate': 0.01, 'validation_loss': 0.66677101135253902}\n",
      "{'loss': 0.62021997239854598, 'epoch': 21, 'learning_rate': 0.01, 'validation_loss': 0.65863111495971682}\n",
      "{'loss': 0.6176324674818251, 'epoch': 22, 'learning_rate': 0.01, 'validation_loss': 0.65354402542114254}\n",
      "{'loss': 0.61531660715738934, 'epoch': 23, 'learning_rate': 0.01, 'validation_loss': 0.64936702728271489}\n",
      "{'loss': 0.61305026160346132, 'epoch': 24, 'learning_rate': 0.01, 'validation_loss': 0.64289154052734376}\n",
      "{'loss': 0.61061477343241377, 'epoch': 25, 'learning_rate': 0.01, 'validation_loss': 0.63282949447631831}\n",
      "{'loss': 0.56517220285203718, 'epoch': 26, 'learning_rate': 0.005, 'validation_loss': 0.52538204193115234}\n",
      "{'loss': 0.54579049746195474, 'epoch': 27, 'learning_rate': 0.005, 'validation_loss': 0.52254246711730956}\n",
      "{'loss': 0.53965188238355843, 'epoch': 28, 'learning_rate': 0.005, 'validation_loss': 0.52041690826416021}\n",
      "{'loss': 0.53578539212544762, 'epoch': 29, 'learning_rate': 0.005, 'validation_loss': 0.5178659248352051}\n",
      "{'loss': 0.53282341109381781, 'epoch': 30, 'learning_rate': 0.005, 'validation_loss': 0.51550447463989257}\n",
      "{'loss': 0.53024758656819659, 'epoch': 31, 'learning_rate': 0.005, 'validation_loss': 0.51368346214294436}\n",
      "{'loss': 0.52790274514092339, 'epoch': 32, 'learning_rate': 0.005, 'validation_loss': 0.5123687362670899}\n",
      "{'loss': 0.52580873807271322, 'epoch': 33, 'learning_rate': 0.005, 'validation_loss': 0.51126466751098631}\n",
      "{'loss': 0.52385879622565379, 'epoch': 34, 'learning_rate': 0.005, 'validation_loss': 0.51014526367187496}\n",
      "{'loss': 0.52200554317898218, 'epoch': 35, 'learning_rate': 0.005, 'validation_loss': 0.50892594337463382}\n",
      "{'loss': 0.52020281685723202, 'epoch': 36, 'learning_rate': 0.005, 'validation_loss': 0.50768203735351558}\n",
      "{'loss': 0.51844743834601503, 'epoch': 37, 'learning_rate': 0.005, 'validation_loss': 0.50650835037231445}\n",
      "{'loss': 0.51673758188883467, 'epoch': 38, 'learning_rate': 0.005, 'validation_loss': 0.5054240036010742}\n",
      "{'loss': 0.51508329709370926, 'epoch': 39, 'learning_rate': 0.005, 'validation_loss': 0.50439625740051275}\n",
      "{'loss': 0.51349662886725533, 'epoch': 40, 'learning_rate': 0.005, 'validation_loss': 0.50340250015258792}\n",
      "{'loss': 0.5119912709130181, 'epoch': 41, 'learning_rate': 0.005, 'validation_loss': 0.50245278358459478}\n",
      "{'loss': 0.51057770411173498, 'epoch': 42, 'learning_rate': 0.005, 'validation_loss': 0.50163432121276852}\n",
      "{'loss': 0.50923105557759607, 'epoch': 43, 'learning_rate': 0.005, 'validation_loss': 0.50111031532287598}\n",
      "{'loss': 0.50786325560675727, 'epoch': 44, 'learning_rate': 0.005, 'validation_loss': 0.50104786872863771}\n",
      "{'loss': 0.5064099862840441, 'epoch': 45, 'learning_rate': 0.005, 'validation_loss': 0.50154254913330076}\n",
      "{'loss': 0.50479925473531084, 'epoch': 46, 'learning_rate': 0.005, 'validation_loss': 0.5024332141876221}\n",
      "{'loss': 0.50297583580017091, 'epoch': 47, 'learning_rate': 0.005, 'validation_loss': 0.50324877738952634}\n",
      "{'loss': 0.50100493537055124, 'epoch': 48, 'learning_rate': 0.005, 'validation_loss': 0.50379949569702154}\n",
      "{'loss': 0.49914428393046062, 'epoch': 49, 'learning_rate': 0.005, 'validation_loss': 0.50393430709838871}\n",
      "{'loss': 0.49758489290873209, 'epoch': 50, 'learning_rate': 0.005, 'validation_loss': 0.50349804878234861}\n",
      "{'loss': 0.45990549882253012, 'epoch': 51, 'learning_rate': 0.0025, 'validation_loss': 0.44408464431762695}\n",
      "{'loss': 0.45003723939259849, 'epoch': 52, 'learning_rate': 0.0025, 'validation_loss': 0.44254940032958984}\n",
      "{'loss': 0.44593894057803685, 'epoch': 53, 'learning_rate': 0.0025, 'validation_loss': 0.44160637855529783}\n",
      "{'loss': 0.44331492529975042, 'epoch': 54, 'learning_rate': 0.0025, 'validation_loss': 0.44064135551452638}\n",
      "{'loss': 0.44128113375769723, 'epoch': 55, 'learning_rate': 0.0025, 'validation_loss': 0.43947725296020507}\n",
      "{'loss': 0.43954494158426921, 'epoch': 56, 'learning_rate': 0.0025, 'validation_loss': 0.43810282707214354}\n",
      "{'loss': 0.43798504723442927, 'epoch': 57, 'learning_rate': 0.0025, 'validation_loss': 0.43657867431640623}\n",
      "{'loss': 0.43653409322102865, 'epoch': 58, 'learning_rate': 0.0025, 'validation_loss': 0.43495855331420896}\n",
      "{'loss': 0.43515469710032145, 'epoch': 59, 'learning_rate': 0.0025, 'validation_loss': 0.43328850746154784}\n",
      "{'loss': 0.43382592254214819, 'epoch': 60, 'learning_rate': 0.0025, 'validation_loss': 0.43160788536071776}\n",
      "{'loss': 0.43253595829010011, 'epoch': 61, 'learning_rate': 0.0025, 'validation_loss': 0.42995433807373046}\n",
      "{'loss': 0.43127608511182997, 'epoch': 62, 'learning_rate': 0.0025, 'validation_loss': 0.4283647632598877}\n",
      "{'loss': 0.430035490459866, 'epoch': 63, 'learning_rate': 0.0025, 'validation_loss': 0.42686851501464845}\n",
      "{'loss': 0.42880362192789712, 'epoch': 64, 'learning_rate': 0.0025, 'validation_loss': 0.42547069549560546}\n",
      "{'loss': 0.42758405420515272, 'epoch': 65, 'learning_rate': 0.0025, 'validation_loss': 0.42414399147033693}\n",
      "{'loss': 0.42640406979454887, 'epoch': 66, 'learning_rate': 0.0025, 'validation_loss': 0.42284885406494138}\n",
      "{'loss': 0.42529411051008437, 'epoch': 67, 'learning_rate': 0.0025, 'validation_loss': 0.42156596183776857}\n",
      "{'loss': 0.42425985018412271, 'epoch': 68, 'learning_rate': 0.0025, 'validation_loss': 0.42029855728149412}\n",
      "{'loss': 0.42328492641448973, 'epoch': 69, 'learning_rate': 0.0025, 'validation_loss': 0.41905677795410157}\n",
      "{'loss': 0.42234792444441055, 'epoch': 70, 'learning_rate': 0.0025, 'validation_loss': 0.41784811973571778}\n",
      "{'loss': 0.42143189642164441, 'epoch': 71, 'learning_rate': 0.0025, 'validation_loss': 0.41667436599731444}\n",
      "{'loss': 0.42052680598364933, 'epoch': 72, 'learning_rate': 0.0025, 'validation_loss': 0.41553488731384275}\n",
      "{'loss': 0.41962847444746232, 'epoch': 73, 'learning_rate': 0.0025, 'validation_loss': 0.41442777633666994}\n",
      "{'loss': 0.41873874028523761, 'epoch': 74, 'learning_rate': 0.0025, 'validation_loss': 0.41335209846496584}\n"
     ]
    },
    {
     "name": "stdout",
     "output_type": "stream",
     "text": [
      "{'loss': 0.41784931129879421, 'epoch': 75, 'learning_rate': 0.0025, 'validation_loss': 0.41226480484008787}\n",
      "{'loss': 0.39581487390730113, 'epoch': 76, 'learning_rate': 0.00125, 'validation_loss': 0.35194939613342285}\n",
      "{'loss': 0.39004263401031491, 'epoch': 77, 'learning_rate': 0.00125, 'validation_loss': 0.35275982856750487}\n",
      "{'loss': 0.38744801309373644, 'epoch': 78, 'learning_rate': 0.00125, 'validation_loss': 0.35277805328369138}\n",
      "{'loss': 0.3857237206565009, 'epoch': 79, 'learning_rate': 0.00125, 'validation_loss': 0.35226234436035159}\n",
      "{'loss': 0.38436965359581843, 'epoch': 80, 'learning_rate': 0.00125, 'validation_loss': 0.35141809463500978}\n",
      "{'loss': 0.38320897208319771, 'epoch': 81, 'learning_rate': 0.00125, 'validation_loss': 0.35038711547851564}\n",
      "{'loss': 0.38216560681660972, 'epoch': 82, 'learning_rate': 0.00125, 'validation_loss': 0.34924753189086916}\n",
      "{'loss': 0.38119912836286757, 'epoch': 83, 'learning_rate': 0.00125, 'validation_loss': 0.34804523468017579}\n",
      "{'loss': 0.38028355651431611, 'epoch': 84, 'learning_rate': 0.00125, 'validation_loss': 0.34680776596069335}\n",
      "{'loss': 0.3793992445203993, 'epoch': 85, 'learning_rate': 0.00125, 'validation_loss': 0.34555151939392093}\n",
      "{'loss': 0.37852724499172635, 'epoch': 86, 'learning_rate': 0.00125, 'validation_loss': 0.34428494453430175}\n",
      "{'loss': 0.37764852099948459, 'epoch': 87, 'learning_rate': 0.00125, 'validation_loss': 0.34300618171691893}\n",
      "{'loss': 0.37674562348259821, 'epoch': 88, 'learning_rate': 0.00125, 'validation_loss': 0.34170965194702146}\n",
      "{'loss': 0.37581002765231664, 'epoch': 89, 'learning_rate': 0.00125, 'validation_loss': 0.34038807868957521}\n",
      "{'loss': 0.3748490111033122, 'epoch': 90, 'learning_rate': 0.00125, 'validation_loss': 0.33902976036071775}\n",
      "{'loss': 0.37387472311655678, 'epoch': 91, 'learning_rate': 0.00125, 'validation_loss': 0.33762531280517577}\n",
      "{'loss': 0.37291064103444416, 'epoch': 92, 'learning_rate': 0.00125, 'validation_loss': 0.33618183135986329}\n",
      "{'loss': 0.37196445888943142, 'epoch': 93, 'learning_rate': 0.00125, 'validation_loss': 0.33470860481262205}\n",
      "{'loss': 0.37103401290045845, 'epoch': 94, 'learning_rate': 0.00125, 'validation_loss': 0.33321349143981932}\n",
      "{'loss': 0.37011394553714327, 'epoch': 95, 'learning_rate': 0.00125, 'validation_loss': 0.33170169830322266}\n",
      "{'loss': 0.36919830110337998, 'epoch': 96, 'learning_rate': 0.00125, 'validation_loss': 0.33017528533935547}\n",
      "{'loss': 0.36828342702653671, 'epoch': 97, 'learning_rate': 0.00125, 'validation_loss': 0.32863610267639159}\n",
      "{'loss': 0.36736496554480658, 'epoch': 98, 'learning_rate': 0.00125, 'validation_loss': 0.32708739280700683}\n",
      "{'loss': 0.36644345389472116, 'epoch': 99, 'learning_rate': 0.00125, 'validation_loss': 0.32553490638732913}\n",
      " [*] Reading checkpoints...\n",
      "INFO:tensorflow:Restoring parameters from ./checkpoints/MemN2N.model-2821\n"
     ]
    }
   ],
   "source": [
    "word2idx = {}\n",
    "max_words = 0\n",
    "max_sentences = 0\n",
    "\n",
    "if not os.path.exists(FLAGS.checkpoint_dir):\n",
    "    os.makedirs(FLAGS.checkpoint_dir)\n",
    "\n",
    "train_stories, train_questions, max_words, max_sentences = read_data('{}/qa{}_train.txt'.format(FLAGS.data_dir, FLAGS.babi_task), word2idx, max_words, max_sentences)\n",
    "valid_stories, valid_questions, max_words, max_sentences = read_data('{}/qa{}_valid.txt'.format(FLAGS.data_dir, FLAGS.babi_task), word2idx, max_words, max_sentences)\n",
    "test_stories, test_questions, max_words, max_sentences = read_data('{}/qa{}_test.txt'.format(FLAGS.data_dir, FLAGS.babi_task), word2idx, max_words, max_sentences)\n",
    "\n",
    "pad_data(train_stories, train_questions, max_words, max_sentences)\n",
    "pad_data(valid_stories, valid_questions, max_words, max_sentences)\n",
    "pad_data(test_stories, test_questions, max_words, max_sentences)\n",
    "\n",
    "idx2word = dict(zip(word2idx.values(), word2idx.keys()))\n",
    "FLAGS.nwords = len(word2idx)\n",
    "FLAGS.max_words = max_words\n",
    "FLAGS.max_sentences = max_sentences\n",
    "\n",
    "pp.pprint(flags.FLAGS.__flags)\n",
    "\n",
    "with tf.Session() as sess:\n",
    "    model = MemN2N(FLAGS, sess)\n",
    "    model.build_model()\n",
    "    \n",
    "    if FLAGS.is_test:\n",
    "        model.run(valid_stories, valid_questions, test_stories, test_questions)\n",
    "    else:\n",
    "        model.run(train_stories, train_questions, valid_stories, valid_questions)\n",
    "        \n",
    "    predictions, target = model.predict(train_stories, train_questions)"
   ]
  },
  {
   "cell_type": "code",
   "execution_count": 5,
   "metadata": {},
   "outputs": [
    {
     "name": "stdout",
     "output_type": "stream",
     "text": [
      "Story:\n",
      "[['john', 'moved', 'to', 'the', 'bedroom'],\n",
      " ['mary', 'moved', 'to', 'the', 'hallway']]\n",
      "\n",
      "Question:\n",
      "['where', 'is', 'mary']\n",
      "\n",
      "Prediction:\n",
      "['hallway']\n",
      "\n",
      "Answer:\n",
      "['hallway']\n",
      "\n",
      "Correct:\n",
      "True\n"
     ]
    }
   ],
   "source": [
    "from data import depad_data\n",
    "import numpy as np\n",
    "\n",
    "# randomly generate a number for index\n",
    "index = 25\n",
    "# depad data from train stories and questions\n",
    "depad_data(train_stories, train_questions)\n",
    "\n",
    "# use index to get questiona, answer, story_index and sentence\n",
    "question = train_questions[index]['question']\n",
    "answer = train_questions[index]['answer']\n",
    "story_index = train_questions[index]['story_index']\n",
    "sentence_index = train_questions[index]['sentence_index']\n",
    "\n",
    "# get storys\n",
    "story = train_stories[story_index][:sentence_index + 1]\n",
    "\n",
    "# use index to word mapping to convert index to sentence for story and question virtualization\n",
    "story = [list(map(idx2word.get, sentence)) for sentence in story]\n",
    "question = list(map(idx2word.get, question))\n",
    "# predict the result\n",
    "prediction = [idx2word[np.argmax(predictions[index])]]\n",
    "# use index 2 word to convert from word indexs to words\n",
    "answer = list(map(idx2word.get, answer))\n",
    "\n",
    "print('Story:')\n",
    "pp.pprint(story)\n",
    "print('\\nQuestion:')\n",
    "pp.pprint(question)\n",
    "print('\\nPrediction:')\n",
    "pp.pprint(prediction)\n",
    "print('\\nAnswer:')\n",
    "pp.pprint(answer)\n",
    "print('\\nCorrect:')\n",
    "pp.pprint(prediction == answer)"
   ]
  },
  {
   "cell_type": "markdown",
   "metadata": {},
   "source": [
    "# Entity Extraction and Network Analysis "
   ]
  },
  {
   "cell_type": "markdown",
   "metadata": {},
   "source": [
    "To extract meaningful information from raw text and use it to analyze the networks of individuals hidden within the data set. \n",
    "To take a set of documents (in our case, training dataset), extract entities from within them, and develop a social network based on entity document co-occurrence. This can be a useful approach for getting a sense of which entities exist in a set of documents and how those entities might be related. The primary piece of software used is Stanford Core NLP. \n",
    " \n",
    "Stanford Core NLP is one of the most popular natural language processing tools out there. It has a ton of functionality which includes part of speech tagging, parsing, lemmatization, tokenization, and what we are interested in: named entity recognition (NER). NER is the process of analyzing text to find people, places, and organizations contained within the text. These named entities will form the basis of the rest of our analysis, so being able to extract them from text is critical. \n",
    "Browser go to http://localhost:9000 for the tool. We receive a set of the extracted people entities from each sentence. When a text is entered, the software it gives the output as Parts-of-Speech.  , named entity, dependency parse, basic and advanced dependencies for each work in the sentence.  "
   ]
  },
  {
   "cell_type": "markdown",
   "metadata": {},
   "source": [
    "CONCLUSION\n",
    "\n",
    "In this work we showed that a neural network with an explicit memory and a recurrent attention mechanism for reading the memory can be successfully trained via back propagation on QA tasks. \n",
    "Compared to the Memory Network implementation, there is no supervision of supporting facts and so the N2N MemNet model can be used in a wider range of settings. This model approaches the same performance of that model, and is significantly better than other baselines with the same level of supervision. \n",
    "On QA task we can see that increasing the number of memory hops improves performance.\n"
   ]
  },
  {
   "cell_type": "markdown",
   "metadata": {},
   "source": [
    "RESULTS\n",
    "\n",
    "We report a variety of design choices varying memory hops from 1 to 3.\t\t\t\n",
    "The mean performance results across all 20 tasks are given in Table 1 for the 1k training set\n",
    "\n",
    "Hops\t1 hop\t2 hops\t3 hops\n",
    "Mean error (%)\t25.8\t15.6\t13.3\n",
    "\n",
    "\n",
    "\n",
    "\n",
    "\n",
    "Table1: Shows the mean error of the 3 Hops used to train the model\n"
   ]
  },
  {
   "cell_type": "markdown",
   "metadata": {},
   "source": [
    "# References"
   ]
  },
  {
   "cell_type": "markdown",
   "metadata": {},
   "source": [
    "Data:\n",
    "[1] https://research.fb.com/downloads/babi/\n",
    "\n",
    "Paper: \n",
    "[2] MEMORY NETWORKS Jason Weston, Sumit Chopra & Antoine Bordes, https://arxiv.org/abs/1410.3916\n",
    "[3] End-To-End Memory Networks Sainbayar Sukhbaatar, Arthur Szlam, Jason Weston, Rob Fergus, https://arxiv.org/abs/1503.08895\n",
    "\n",
    "Blog:\n",
    "https://blog.csdn.net/irving_zhang/article/details/79094416\n",
    "https://blog.csdn.net/Irving_zhang/article/details/7911112\n",
    "https://blog.csdn.net/irving_zhang/article/details/78113251https://github.com/carpedm20/MemN2N-tensorflow\n",
    "https://github.com/domluna/memn2n\n",
    "https://github.com/1202kbs/MemN2N-Tensorflow\n",
    "http://neuralnetworksanddeeplearning.com/chap1.html\n",
    "http://www.thespermwhale.com/jaseweston/icml2016/\n",
    "http://brandonrose.org/clustering\n",
    "http://snap.stanford.edu/proj/embeddings-www/\n",
    "\n"
   ]
  }
 ],
 "metadata": {
  "kernelspec": {
   "display_name": "Python 3",
   "language": "python",
   "name": "python3"
  },
  "language_info": {
   "codemirror_mode": {
    "name": "ipython",
    "version": 3
   },
   "file_extension": ".py",
   "mimetype": "text/x-python",
   "name": "python",
   "nbconvert_exporter": "python",
   "pygments_lexer": "ipython3",
   "version": "3.6.3"
  }
 },
 "nbformat": 4,
 "nbformat_minor": 2
}
